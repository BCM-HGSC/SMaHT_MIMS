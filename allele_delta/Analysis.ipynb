{
 "cells": [
  {
   "cell_type": "markdown",
   "id": "0b9a4045-637f-46fc-a96d-891e6811ca30",
   "metadata": {},
   "source": [
    "I'm attempting to find some interesting TR sites from the MIMS.\n",
    "We're looking at TR sites becaues they're highly polymorphic. So we should be able to more easily find TR loci with alternate alleles.\n",
    "\n",
    "But first, lets introduce the idea of allele delta. \n",
    "Variants have a size. But variants are subject to alignment ambiguities. Even with identical alignment parameters, neighboring snps/indels can caulse differences in variant positions and sizes. However, an 'allele delta' isn't subject to the same alignment issues.\n",
    "\n",
    "Allele delta is the length of the TR region in the reference minus the length of the haplotype that maps within the TR region.\n",
    "We can calculate the allele delta by simply summing the non-snp variant lengths for each haplotype's variants within the region. For example, if a haplotype over a region has two deletions of 10bp and 20bp, the allele delta is -30bp. A single 40bp insertion would be +40bp∆.  \n",
    "\n",
    "To keep things simple, lets find sites that have a single non-zero allele delta ≥50bp and plot the distribution of VAFs for the regions.\n",
    "We want to find things with a single non-ref allele so we don't need to worry about variant representations.\n",
    "Note that we'll still have some noise because +100bp∆ could be from e.g. inserting 100 As or inserting 100Ts. These different haplotypes, but we're going to compare by length for now."
   ]
  },
  {
   "cell_type": "code",
   "execution_count": 1,
   "id": "faad71bf-e17a-4b81-9db4-057b0b6b4fb5",
   "metadata": {},
   "outputs": [],
   "source": [
    "import pandas as pd\n",
    "import seaborn as sb\n",
    "import matplotlib.pyplot as plt\n",
    "import numpy as np\n",
    "data = pd.read_csv(\"allele_deltas.txt\", sep='\\t')"
   ]
  },
  {
   "cell_type": "code",
   "execution_count": 47,
   "id": "eb488142-ae8b-4d1f-8e3d-fd2874c67e2b",
   "metadata": {},
   "outputs": [
    {
     "data": {
      "text/plain": [
       "0     0.0100\n",
       "1     0.0100\n",
       "2     0.0025\n",
       "3     0.0025\n",
       "4     0.4175\n",
       "5     0.4175\n",
       "6     0.0100\n",
       "7     0.0100\n",
       "8     0.0100\n",
       "9     0.0100\n",
       "10    0.0500\n",
       "11    0.0500\n",
       "dtype: float64"
      ]
     },
     "execution_count": 47,
     "metadata": {},
     "output_type": "execute_result"
    }
   ],
   "source": [
    "props = {\"HG00438\": 0.5 / 100,\n",
    "         \"HG002\":   2 / 100,\n",
    "         \"HG02257\": 2 / 100,\n",
    "         \"HG02486\": 2 / 100,\n",
    "         \"HG02622\": 10 / 100,\n",
    "         \"HG005\":   83.5 / 100}\n",
    "percents = []\n",
    "for i in data.columns[3:]:\n",
    "    percents.append(props[i.split('.')[0]] / 2)\n",
    "percents = pd.Series(percents)    \n",
    "percents\n",
    "#So now you need to translate these deltas to VAF\n",
    "# And then you can go MOP"
   ]
  },
  {
   "cell_type": "code",
   "execution_count": 2,
   "id": "9b1b43ec-422f-494b-93fd-7ac4623156b6",
   "metadata": {},
   "outputs": [
    {
     "data": {
      "text/plain": [
       "(776052, 0.43481076913767563)"
      ]
     },
     "execution_count": 2,
     "metadata": {},
     "output_type": "execute_result"
    }
   ],
   "source": [
    "len(data), len(data) / 1_784_804"
   ]
  },
  {
   "cell_type": "code",
   "execution_count": 3,
   "id": "40a84eda-2d1b-4b0b-ad5e-2429f3e6bb0c",
   "metadata": {},
   "outputs": [
    {
     "data": {
      "text/plain": [
       "140191485"
      ]
     },
     "execution_count": 3,
     "metadata": {},
     "output_type": "execute_result"
    }
   ],
   "source": [
    "(data['end'] - data['start']).sum()"
   ]
  },
  {
   "cell_type": "code",
   "execution_count": 5,
   "id": "68a9cddc-77b8-4fe2-8672-2ef36d110b05",
   "metadata": {},
   "outputs": [
    {
     "data": {
      "text/plain": [
       "504461"
      ]
     },
     "execution_count": 5,
     "metadata": {},
     "output_type": "execute_result"
    }
   ],
   "source": [
    "has_any = data[data[data.columns[3:]] != 0].any(axis=1)\n",
    "has_any.sum()"
   ]
  },
  {
   "cell_type": "code",
   "execution_count": 4,
   "id": "7c17bfa9-a206-4d7d-8e47-2fa842a527be",
   "metadata": {},
   "outputs": [
    {
     "data": {
      "text/plain": [
       "22047"
      ]
     },
     "execution_count": 4,
     "metadata": {},
     "output_type": "execute_result"
    }
   ],
   "source": [
    "has_50bp = data[data[data.columns[3:]].abs() >= 50].any(axis=1)\n",
    "has_50bp.sum()"
   ]
  },
  {
   "cell_type": "code",
   "execution_count": 6,
   "id": "9f71ac3c-7620-4d1b-a69d-62f0581a9675",
   "metadata": {},
   "outputs": [
    {
     "data": {
      "text/plain": [
       "280199"
      ]
     },
     "execution_count": 6,
     "metadata": {},
     "output_type": "execute_result"
    }
   ],
   "source": [
    "only_50bp = ((data[data.columns[3:]] <= -50) | (data[data.columns[3:]] >= 50)\n",
    "             | (data[data.columns[3:]] == 0)).all(axis=1)\n",
    "only_50bp.sum()"
   ]
  },
  {
   "cell_type": "code",
   "execution_count": 7,
   "id": "0da122d3-7ca8-40aa-9b2d-c8bb04e35198",
   "metadata": {},
   "outputs": [
    {
     "data": {
      "text/plain": [
       "8608"
      ]
     },
     "execution_count": 7,
     "metadata": {},
     "output_type": "execute_result"
    }
   ],
   "source": [
    "(only_50bp & has_50bp).sum()"
   ]
  },
  {
   "cell_type": "code",
   "execution_count": 8,
   "id": "6acea442-09d8-4ded-9772-5b91c8e294d6",
   "metadata": {},
   "outputs": [],
   "source": [
    "nunique_nonref = data[data.columns[3:]].replace(0, np.nan).nunique(axis=1)"
   ]
  },
  {
   "cell_type": "code",
   "execution_count": 9,
   "id": "0ca5c853-07e1-4554-a5fc-8b5a28e65117",
   "metadata": {},
   "outputs": [
    {
     "name": "stderr",
     "output_type": "stream",
     "text": [
      "/Users/english/py/lib/python3.9/site-packages/seaborn/_oldcore.py:1119: FutureWarning: use_inf_as_na option is deprecated and will be removed in a future version. Convert inf values to NaN before operating instead.\n",
      "  with pd.option_context('mode.use_inf_as_na', True):\n"
     ]
    },
    {
     "data": {
      "image/png": "[encoded data removed]",
      "text/plain": [
       "<Figure size 640x480 with 1 Axes>"
      ]
     },
     "metadata": {},
     "output_type": "display_data"
    },
    {
     "name": "stderr",
     "output_type": "stream",
     "text": [
      "/Users/english/py/lib/python3.9/site-packages/seaborn/_oldcore.py:1119: FutureWarning: use_inf_as_na option is deprecated and will be removed in a future version. Convert inf values to NaN before operating instead.\n",
      "  with pd.option_context('mode.use_inf_as_na', True):\n"
     ]
    },
    {
     "data": {
      "image/png": "[encoded data removed]",
      "text/plain": [
       "<Figure size 640x480 with 1 Axes>"
      ]
     },
     "metadata": {},
     "output_type": "display_data"
    },
    {
     "name": "stderr",
     "output_type": "stream",
     "text": [
      "/Users/english/py/lib/python3.9/site-packages/seaborn/_oldcore.py:1119: FutureWarning: use_inf_as_na option is deprecated and will be removed in a future version. Convert inf values to NaN before operating instead.\n",
      "  with pd.option_context('mode.use_inf_as_na', True):\n"
     ]
    },
    {
     "data": {
      "image/png": "[encoded data removed]",
      "text/plain": [
       "<Figure size 640x480 with 1 Axes>"
      ]
     },
     "metadata": {},
     "output_type": "display_data"
    }
   ],
   "source": [
    "p = sb.histplot(nunique_nonref[nunique_nonref != 0], binwidth=1)\n",
    "p.set(title=\"Number of unique non-ref ∆ per-locus (All)\", ylabel=\"Locus Count\", xlabel=\"Number of Haplotypes\")\n",
    "plt.show()\n",
    "\n",
    "p = sb.histplot(nunique_nonref[(nunique_nonref != 0) & has_50bp], binwidth=1)\n",
    "p.set(title=\"Number of unique non-ref ∆ per-locus (≥50)\", ylabel=\"Locus Count\", xlabel=\"Number of Haplotypes\")\n",
    "plt.show()\n",
    "\n",
    "p = sb.histplot(nunique_nonref[(nunique_nonref != 0) & only_50bp & has_50bp], binwidth=1)\n",
    "p.set(title=\"Number of unique non-ref ∆ per-locus (Only ≥50)\", ylabel=\"Locus Count\", xlabel=\"Number of Haplotypes\")\n",
    "plt.show()"
   ]
  },
  {
   "cell_type": "code",
   "execution_count": 10,
   "id": "77081cf5-a0da-49fb-a87c-2404ec863849",
   "metadata": {},
   "outputs": [],
   "source": [
    "only_1_nunique_alt = nunique_nonref[nunique_nonref==1]"
   ]
  },
  {
   "cell_type": "code",
   "execution_count": 13,
   "id": "e916513f-23f9-494d-a681-d8fae7d962d9",
   "metadata": {},
   "outputs": [
    {
     "name": "stderr",
     "output_type": "stream",
     "text": [
      "/var/folders/fy/lkd5_yz90zq3f67qys3tpztc0000gn/T/ipykernel_2267/3295649163.py:1: FutureWarning: Operation between non boolean Series with different indexes will no longer return a boolean result in a future version. Cast both Series to object type to maintain the prior behavior.\n",
      "  slide5 = only_1_nunique_alt & only_50bp & has_50bp\n"
     ]
    }
   ],
   "source": [
    "slide5 = only_1_nunique_alt & only_50bp & has_50bp"
   ]
  },
  {
   "cell_type": "code",
   "execution_count": 29,
   "id": "551d8df8-8acd-47ed-9f4e-999e02f90b55",
   "metadata": {},
   "outputs": [],
   "source": [
    "import truvari"
   ]
  },
  {
   "cell_type": "code",
   "execution_count": 30,
   "id": "43890368-16a5-4ce4-ae7c-0fd12f1e5b08",
   "metadata": {},
   "outputs": [
    {
     "data": {
      "text/plain": [
       "'[15,20)'"
      ]
     },
     "execution_count": 30,
     "metadata": {},
     "output_type": "execute_result"
    }
   ],
   "source": [
    "truvari.get_sizebin(-19)"
   ]
  },
  {
   "cell_type": "code",
   "execution_count": 42,
   "id": "4e44862e-4752-4a0f-b0b2-0901bf4bc5d1",
   "metadata": {},
   "outputs": [
    {
     "data": {
      "text/plain": [
       "[Text(0.5, 1.0, 'Only ∆≥50bp 1-unique sizes')]"
      ]
     },
     "execution_count": 42,
     "metadata": {},
     "output_type": "execute_result"
    },
    {
     "data": {
      "image/png": "[encoded data removed]",
      "text/plain": [
       "<Figure size 640x480 with 1 Axes>"
      ]
     },
     "metadata": {},
     "output_type": "display_data"
    }
   ],
   "source": [
    "cnts = data[slide5][data.columns[3:]].replace(0, np.nan).mean(axis=1).astype(int).to_frame()\n",
    "cnts.columns = ['size']\n",
    "cnts['sizebin'] = cnts['size'].apply(truvari.get_sizebin)\n",
    "cnts['svtype'] = cnts['size'].apply(lambda x: 'DEL' if x < 0 else 'INS')\n",
    "p = sb.countplot(data=cnts, x=\"sizebin\", hue=\"svtype\", hue_order=['DEL', 'INS'], order=truvari.SZBINS[8:])\n",
    "plt.xticks(rotation=45, ha='right')\n",
    "p.set(title=\"Only ∆≥50bp 1-unique sizes\")"
   ]
  },
  {
   "cell_type": "code",
   "execution_count": 43,
   "id": "32908cbb-23aa-4fd3-8d92-9d23091d2b21",
   "metadata": {},
   "outputs": [
    {
     "data": {
      "text/plain": [
       "svtype\n",
       "DEL    1968\n",
       "INS    1393\n",
       "Name: count, dtype: int64"
      ]
     },
     "execution_count": 43,
     "metadata": {},
     "output_type": "execute_result"
    }
   ],
   "source": [
    "cnts['svtype'].value_counts()"
   ]
  },
  {
   "cell_type": "code",
   "execution_count": 15,
   "id": "395e6b7c-3a90-4a89-b641-5400dabbbcb7",
   "metadata": {},
   "outputs": [
    {
     "data": {
      "text/plain": [
       "1     1244\n",
       "2      516\n",
       "3      293\n",
       "4      241\n",
       "5      201\n",
       "12     175\n",
       "6      159\n",
       "7      144\n",
       "8      116\n",
       "9      102\n",
       "10      95\n",
       "11      75\n",
       "Name: count, dtype: int64"
      ]
     },
     "execution_count": 15,
     "metadata": {},
     "output_type": "execute_result"
    }
   ],
   "source": [
    "# Number of samples the single alt is in:\n",
    "(data[slide5][data.columns[3:]] != 0).sum(axis=1).value_counts()"
   ]
  },
  {
   "cell_type": "code",
   "execution_count": 58,
   "id": "f1b3b530-4bfc-4e54-a26c-45167ee3280a",
   "metadata": {},
   "outputs": [],
   "source": [
    "view = data[slide5].copy()"
   ]
  },
  {
   "cell_type": "code",
   "execution_count": 59,
   "id": "a0270164-cb2c-499b-9732-07b7335b5039",
   "metadata": {},
   "outputs": [],
   "source": [
    "vaf = ((view[data.columns[3:]] != 0) * percents.values).sum(axis=1)"
   ]
  },
  {
   "cell_type": "code",
   "execution_count": 60,
   "id": "21809d42-586a-44fb-8634-96abf9c8cd68",
   "metadata": {},
   "outputs": [],
   "source": [
    "view['VAF'] = vaf"
   ]
  },
  {
   "cell_type": "code",
   "execution_count": 54,
   "id": "cbc4875b-1177-40f7-9641-056da2d9fc15",
   "metadata": {},
   "outputs": [
    {
     "name": "stderr",
     "output_type": "stream",
     "text": [
      "/Users/english/py/lib/python3.9/site-packages/seaborn/_oldcore.py:1119: FutureWarning: use_inf_as_na option is deprecated and will be removed in a future version. Convert inf values to NaN before operating instead.\n",
      "  with pd.option_context('mode.use_inf_as_na', True):\n"
     ]
    },
    {
     "data": {
      "image/png": "[encoded data removed]",
      "text/plain": [
       "<Figure size 640x480 with 1 Axes>"
      ]
     },
     "metadata": {},
     "output_type": "display_data"
    }
   ],
   "source": [
    "p = sb.histplot(vaf, binwidth=0.01)\n",
    "_ = p.set(title=\"Only ∆≥50bp and 1-nonref haplotype\", xlabel=\"VAF\", ylabel=\"Locus Count\")"
   ]
  },
  {
   "cell_type": "code",
   "execution_count": 61,
   "id": "d01e3285-3bc8-40a9-a431-b03d347981cd",
   "metadata": {},
   "outputs": [
    {
     "data": {
      "text/plain": [
       "2634"
      ]
     },
     "execution_count": 61,
     "metadata": {},
     "output_type": "execute_result"
    }
   ],
   "source": [
    "not_between = ~vaf.between(0.25, 0.75)\n",
    "not_between.sum()"
   ]
  },
  {
   "cell_type": "code",
   "execution_count": 63,
   "id": "c36c9be3-ec11-4e25-b4c3-e4010f30ffab",
   "metadata": {},
   "outputs": [],
   "source": [
    "view[not_between][['chrom', 'start', 'end', 'VAF']].to_csv(\"single.delta50.bed\", sep='\\t', index=False, header=False)"
   ]
  },
  {
   "cell_type": "code",
   "execution_count": null,
   "id": "ad75bd76-d572-4330-9309-6bcf21138085",
   "metadata": {},
   "outputs": [],
   "source": []
  },
  {
   "cell_type": "code",
   "execution_count": 114,
   "id": "c6dcd861-5ce2-4f7e-9922-6cbce2b7887f",
   "metadata": {},
   "outputs": [
    {
     "name": "stderr",
     "output_type": "stream",
     "text": [
      "/Users/english/py/lib/python3.9/site-packages/seaborn/_oldcore.py:1119: FutureWarning: use_inf_as_na option is deprecated and will be removed in a future version. Convert inf values to NaN before operating instead.\n",
      "  with pd.option_context('mode.use_inf_as_na', True):\n"
     ]
    },
    {
     "data": {
      "text/plain": [
       "[Text(0.5, 1.0, 'Unique allele deltas per-TR'),\n",
       " Text(0.5, 0, 'Num Haplotypes'),\n",
       " Text(0, 0.5, 'TR Count')]"
      ]
     },
     "execution_count": 114,
     "metadata": {},
     "output_type": "execute_result"
    },
    {
     "data": {
      "image/png": "[encoded data removed]",
      "text/plain": [
       "<Figure size 640x480 with 1 Axes>"
      ]
     },
     "metadata": {},
     "output_type": "display_data"
    }
   ],
   "source": [
    "p = sb.histplot(nunique_nonref[(nunique_nonref != 0) & has_50bp], binwidth=1)\n",
    "p.set(title=\"Unique allele deltas per-TR\", xlabel=\"Num Haplotypes\", ylabel=\"TR Count\")"
   ]
  },
  {
   "cell_type": "code",
   "execution_count": 125,
   "id": "035cc057-5c3c-4df7-b61c-48ee98aac663",
   "metadata": {},
   "outputs": [
    {
     "data": {
      "text/plain": [
       "8608"
      ]
     },
     "execution_count": 125,
     "metadata": {},
     "output_type": "execute_result"
    }
   ],
   "source": [
    "len(nunique_nonref[(nunique_nonref != 0) & only_50bp])"
   ]
  },
  {
   "cell_type": "code",
   "execution_count": 126,
   "id": "213edd2d-981c-4344-a5ef-eb8bea61004d",
   "metadata": {},
   "outputs": [
    {
     "name": "stderr",
     "output_type": "stream",
     "text": [
      "/Users/english/py/lib/python3.9/site-packages/seaborn/_oldcore.py:1119: FutureWarning: use_inf_as_na option is deprecated and will be removed in a future version. Convert inf values to NaN before operating instead.\n",
      "  with pd.option_context('mode.use_inf_as_na', True):\n"
     ]
    },
    {
     "data": {
      "image/png": "[encoded data removed]",
      "text/plain": [
       "<Figure size 640x480 with 1 Axes>"
      ]
     },
     "metadata": {},
     "output_type": "display_data"
    }
   ],
   "source": [
    "# at least one non-ref delta. all \n",
    "p = sb.histplot(nunique_nonref[(nunique_nonref != 0) & only_50bp], binwidth=1)\n"
   ]
  },
  {
   "cell_type": "code",
   "execution_count": 83,
   "id": "443d09dd-28d1-4af6-a1ff-225a4448ecc2",
   "metadata": {},
   "outputs": [],
   "source": [
    "mean = data[data.columns[3:]].mean(axis=1)\n",
    "std = data[data.columns[3:]].std(axis=1)\n",
    "nunique = data[data.columns[3:]].nunique(axis=1)\n",
    "\n",
    "any_at_least_10 = (data[data.columns[3:]].abs() >= 10).any(axis=1)\n",
    "all_at_least_10 = (data[data.columns[3:]].abs() >= 10).all(axis=1)\n",
    "any_at_least_50 = (data[data.columns[3:]].abs() >= 50).any(axis=1)\n",
    "all_at_least_50 = (data[data.columns[3:]].abs() >= 50).all(axis=1)\n",
    "\n",
    "all_at_least_10_excluderef = ((data[data.columns[3:]].abs() >= 10) | (data[data.columns[3:]].abs() == 0)).all(axis=1)\n",
    "all_at_least_50_excluderef = ((data[data.columns[3:]].abs() >= 50) | (data[data.columns[3:]].abs() == 0)).all(axis=1)\n",
    "\n",
    "#https://en.wikipedia.org/wiki/Coefficient_of_variation\n",
    "coeff_of_var = std / mean"
   ]
  },
  {
   "cell_type": "code",
   "execution_count": 84,
   "id": "33f834ae-190d-4897-b655-30944e375a33",
   "metadata": {},
   "outputs": [
    {
     "data": {
      "text/plain": [
       "776052"
      ]
     },
     "execution_count": 84,
     "metadata": {},
     "output_type": "execute_result"
    }
   ],
   "source": [
    "len(data)"
   ]
  },
  {
   "cell_type": "code",
   "execution_count": 85,
   "id": "ae80bcaa-e032-489a-9ab9-0ac0f43bf189",
   "metadata": {},
   "outputs": [
    {
     "name": "stdout",
     "output_type": "stream",
     "text": [
      "any 10 132491\n",
      "all 10 7229\n",
      "all 10 !ref 308324\n",
      "any 50 22047\n",
      "all 50 3212\n",
      "all 50 !ref 280199\n"
     ]
    }
   ],
   "source": [
    "print('any 10', any_at_least_10.sum())\n",
    "print('all 10', all_at_least_10.sum())\n",
    "print('all 10 !ref', all_at_least_10_excluderef.sum())\n",
    "print('any 50', any_at_least_50.sum())\n",
    "print('all 50', all_at_least_50.sum())\n",
    "print('all 50 !ref', all_at_least_50_excluderef.sum())"
   ]
  },
  {
   "cell_type": "code",
   "execution_count": 87,
   "id": "700e17a5-d4a1-4334-bf7d-904bea60eb8e",
   "metadata": {},
   "outputs": [
    {
     "name": "stderr",
     "output_type": "stream",
     "text": [
      "/Users/english/py/lib/python3.9/site-packages/seaborn/_oldcore.py:1119: FutureWarning: use_inf_as_na option is deprecated and will be removed in a future version. Convert inf values to NaN before operating instead.\n",
      "  with pd.option_context('mode.use_inf_as_na', True):\n"
     ]
    },
    {
     "data": {
      "image/png": "[encoded data removed]",
      "text/plain": [
       "<Figure size 640x480 with 1 Axes>"
      ]
     },
     "metadata": {},
     "output_type": "display_data"
    },
    {
     "name": "stderr",
     "output_type": "stream",
     "text": [
      "/Users/english/py/lib/python3.9/site-packages/seaborn/_oldcore.py:1119: FutureWarning: use_inf_as_na option is deprecated and will be removed in a future version. Convert inf values to NaN before operating instead.\n",
      "  with pd.option_context('mode.use_inf_as_na', True):\n"
     ]
    },
    {
     "data": {
      "image/png": "[encoded data removed]",
      "text/plain": [
       "<Figure size 640x480 with 1 Axes>"
      ]
     },
     "metadata": {},
     "output_type": "display_data"
    }
   ],
   "source": [
    "p = sb.histplot(nunique, binwidth=1)\n",
    "p.set(title=\"Number of unique allele deltas\", ylabel=\"Locus count\", xlabel=\"Haplotype count\")\n",
    "plt.show()\n",
    "p = sb.histplot(nunique[any_at_least_50], binwidth=1)\n",
    "p.set(title=\"Number of unique allele deltas (≥1H ∆±50bp)\", ylabel=\"Locus count\", xlabel=\"Haplotype count\")\n",
    "plt.show()"
   ]
  },
  {
   "cell_type": "code",
   "execution_count": 88,
   "id": "5be72005-67c5-4d2f-b09b-f07ea4e15c51",
   "metadata": {},
   "outputs": [
    {
     "name": "stderr",
     "output_type": "stream",
     "text": [
      "/Users/english/py/lib/python3.9/site-packages/seaborn/_oldcore.py:1119: FutureWarning: use_inf_as_na option is deprecated and will be removed in a future version. Convert inf values to NaN before operating instead.\n",
      "  with pd.option_context('mode.use_inf_as_na', True):\n"
     ]
    },
    {
     "data": {
      "text/plain": [
       "<Axes: ylabel='Count'>"
      ]
     },
     "execution_count": 88,
     "metadata": {},
     "output_type": "execute_result"
    },
    {
     "data": {
      "image/png": "[encoded data removed]",
      "text/plain": [
       "<Figure size 640x480 with 1 Axes>"
      ]
     },
     "metadata": {},
     "output_type": "display_data"
    }
   ],
   "source": [
    "sb.histplot(coeff_of_var)"
   ]
  },
  {
   "cell_type": "code",
   "execution_count": 13,
   "id": "72ba1eb5-93f7-4774-a7de-c21f362253e8",
   "metadata": {},
   "outputs": [
    {
     "data": {
      "text/plain": [
       "1     0.006116\n",
       "2     0.149940\n",
       "3     0.135020\n",
       "4     0.170605\n",
       "5     0.175146\n",
       "6     0.142434\n",
       "7     0.089148\n",
       "8     0.057641\n",
       "9     0.036049\n",
       "10    0.021963\n",
       "11    0.011676\n",
       "12    0.004263\n",
       "Name: count, dtype: float64"
      ]
     },
     "execution_count": 13,
     "metadata": {},
     "output_type": "execute_result"
    }
   ],
   "source": [
    "(nunique[at_least_10].value_counts() / at_least_10.sum()).sort_index()"
   ]
  },
  {
   "cell_type": "code",
   "execution_count": 16,
   "id": "9c6a71f3-141b-417d-a00f-00a2adcc25ac",
   "metadata": {},
   "outputs": [],
   "source": []
  },
  {
   "cell_type": "code",
   "execution_count": 35,
   "id": "f9a9830d-9883-47d7-8c27-88938f5ddec1",
   "metadata": {},
   "outputs": [
    {
     "data": {
      "text/html": [
       "<div>\n",
       "<style scoped>\n",
       "    .dataframe tbody tr th:only-of-type {\n",
       "        vertical-align: middle;\n",
       "    }\n",
       "\n",
       "    .dataframe tbody tr th {\n",
       "        vertical-align: top;\n",
       "    }\n",
       "\n",
       "    .dataframe thead th {\n",
       "        text-align: right;\n",
       "    }\n",
       "</style>\n",
       "<table border=\"1\" class=\"dataframe\">\n",
       "  <thead>\n",
       "    <tr style=\"text-align: right;\">\n",
       "      <th></th>\n",
       "      <th>HG002.1</th>\n",
       "      <th>HG002.2</th>\n",
       "      <th>HG00438.1</th>\n",
       "      <th>HG00438.2</th>\n",
       "      <th>HG005.1</th>\n",
       "      <th>HG005.2</th>\n",
       "      <th>HG02257.1</th>\n",
       "      <th>HG02257.2</th>\n",
       "      <th>HG02486.1</th>\n",
       "      <th>HG02486.2</th>\n",
       "      <th>HG02622.1</th>\n",
       "      <th>HG02622.2</th>\n",
       "    </tr>\n",
       "  </thead>\n",
       "  <tbody>\n",
       "    <tr>\n",
       "      <th>0</th>\n",
       "      <td>0.00</td>\n",
       "      <td>0.00</td>\n",
       "      <td>0.0000</td>\n",
       "      <td>0.0000</td>\n",
       "      <td>0.0000</td>\n",
       "      <td>0.0000</td>\n",
       "      <td>0.00</td>\n",
       "      <td>0.00</td>\n",
       "      <td>0.00</td>\n",
       "      <td>0.00</td>\n",
       "      <td>0.00</td>\n",
       "      <td>0.0</td>\n",
       "    </tr>\n",
       "    <tr>\n",
       "      <th>1</th>\n",
       "      <td>0.00</td>\n",
       "      <td>0.00</td>\n",
       "      <td>0.0000</td>\n",
       "      <td>0.0000</td>\n",
       "      <td>0.4175</td>\n",
       "      <td>0.0000</td>\n",
       "      <td>0.00</td>\n",
       "      <td>0.00</td>\n",
       "      <td>0.00</td>\n",
       "      <td>0.00</td>\n",
       "      <td>0.00</td>\n",
       "      <td>0.0</td>\n",
       "    </tr>\n",
       "    <tr>\n",
       "      <th>2</th>\n",
       "      <td>0.07</td>\n",
       "      <td>0.07</td>\n",
       "      <td>0.0175</td>\n",
       "      <td>0.0175</td>\n",
       "      <td>2.9225</td>\n",
       "      <td>2.9225</td>\n",
       "      <td>0.07</td>\n",
       "      <td>0.07</td>\n",
       "      <td>0.07</td>\n",
       "      <td>0.07</td>\n",
       "      <td>0.35</td>\n",
       "      <td>4.5</td>\n",
       "    </tr>\n",
       "    <tr>\n",
       "      <th>3</th>\n",
       "      <td>0.50</td>\n",
       "      <td>0.50</td>\n",
       "      <td>0.1250</td>\n",
       "      <td>0.1250</td>\n",
       "      <td>20.8750</td>\n",
       "      <td>20.8750</td>\n",
       "      <td>0.50</td>\n",
       "      <td>0.50</td>\n",
       "      <td>0.50</td>\n",
       "      <td>0.50</td>\n",
       "      <td>4.85</td>\n",
       "      <td>2.5</td>\n",
       "    </tr>\n",
       "    <tr>\n",
       "      <th>4</th>\n",
       "      <td>0.00</td>\n",
       "      <td>0.00</td>\n",
       "      <td>0.0000</td>\n",
       "      <td>0.0000</td>\n",
       "      <td>0.0000</td>\n",
       "      <td>0.0000</td>\n",
       "      <td>0.00</td>\n",
       "      <td>0.00</td>\n",
       "      <td>0.00</td>\n",
       "      <td>0.00</td>\n",
       "      <td>0.00</td>\n",
       "      <td>0.0</td>\n",
       "    </tr>\n",
       "  </tbody>\n",
       "</table>\n",
       "</div>"
      ],
      "text/plain": [
       "   HG002.1  HG002.2  HG00438.1  HG00438.2  HG005.1  HG005.2  HG02257.1  \\\n",
       "0     0.00     0.00     0.0000     0.0000   0.0000   0.0000       0.00   \n",
       "1     0.00     0.00     0.0000     0.0000   0.4175   0.0000       0.00   \n",
       "2     0.07     0.07     0.0175     0.0175   2.9225   2.9225       0.07   \n",
       "3     0.50     0.50     0.1250     0.1250  20.8750  20.8750       0.50   \n",
       "4     0.00     0.00     0.0000     0.0000   0.0000   0.0000       0.00   \n",
       "\n",
       "   HG02257.2  HG02486.1  HG02486.2  HG02622.1  HG02622.2  \n",
       "0       0.00       0.00       0.00       0.00        0.0  \n",
       "1       0.00       0.00       0.00       0.00        0.0  \n",
       "2       0.07       0.07       0.07       0.35        4.5  \n",
       "3       0.50       0.50       0.50       4.85        2.5  \n",
       "4       0.00       0.00       0.00       0.00        0.0  "
      ]
     },
     "execution_count": 35,
     "metadata": {},
     "output_type": "execute_result"
    }
   ],
   "source": [
    "data[data.columns[3:]].head() * percents.values"
   ]
  },
  {
   "cell_type": "code",
   "execution_count": 19,
   "id": "6d66f626-6c3a-49d6-b334-b572016d18d2",
   "metadata": {},
   "outputs": [
    {
     "data": {
      "text/plain": [
       "0     0.0100\n",
       "1     0.0100\n",
       "2     0.0025\n",
       "3     0.0025\n",
       "4     0.4175\n",
       "5     0.4175\n",
       "6     0.0100\n",
       "7     0.0100\n",
       "8     0.0100\n",
       "9     0.0100\n",
       "10    0.0500\n",
       "11    0.0500\n",
       "dtype: float64"
      ]
     },
     "execution_count": 19,
     "metadata": {},
     "output_type": "execute_result"
    }
   ],
   "source": []
  },
  {
   "cell_type": "code",
   "execution_count": 36,
   "id": "9c512b27-38f3-4e01-98d3-e087fc7af9ba",
   "metadata": {},
   "outputs": [],
   "source": [
    "by_len_vaf = []\n",
    "for idx, row in data.iterrows():\n",
    "    unique_by_length = row[data.columns[3:]].unique()\n",
    "    m_vaf = 0\n",
    "    for i in unique_by_length:\n",
    "        len_vaf = ((row[data.columns[3:]] == i) * percents.values).sum() \n",
    "        by_len_vaf.append((idx, i, len_vaf))\n",
    "by_len_vaf = pd.DataFrame(by_len_vaf, columns=[\"index\", \"length\", \"vaf\"])\n",
    "by_len_vaf.set_index('index', inplace=True)"
   ]
  },
  {
   "cell_type": "code",
   "execution_count": 37,
   "id": "d7d8a6be-5059-4005-b1f9-85647e3822c6",
   "metadata": {},
   "outputs": [
    {
     "data": {
      "text/html": [
       "<div>\n",
       "<style scoped>\n",
       "    .dataframe tbody tr th:only-of-type {\n",
       "        vertical-align: middle;\n",
       "    }\n",
       "\n",
       "    .dataframe tbody tr th {\n",
       "        vertical-align: top;\n",
       "    }\n",
       "\n",
       "    .dataframe thead th {\n",
       "        text-align: right;\n",
       "    }\n",
       "</style>\n",
       "<table border=\"1\" class=\"dataframe\">\n",
       "  <thead>\n",
       "    <tr style=\"text-align: right;\">\n",
       "      <th></th>\n",
       "      <th>length</th>\n",
       "      <th>vaf</th>\n",
       "    </tr>\n",
       "    <tr>\n",
       "      <th>index</th>\n",
       "      <th></th>\n",
       "      <th></th>\n",
       "    </tr>\n",
       "  </thead>\n",
       "  <tbody>\n",
       "    <tr>\n",
       "      <th>0</th>\n",
       "      <td>0</td>\n",
       "      <td>1.0000</td>\n",
       "    </tr>\n",
       "    <tr>\n",
       "      <th>1</th>\n",
       "      <td>0</td>\n",
       "      <td>0.5825</td>\n",
       "    </tr>\n",
       "    <tr>\n",
       "      <th>1</th>\n",
       "      <td>1</td>\n",
       "      <td>0.4175</td>\n",
       "    </tr>\n",
       "    <tr>\n",
       "      <th>2</th>\n",
       "      <td>7</td>\n",
       "      <td>0.9500</td>\n",
       "    </tr>\n",
       "    <tr>\n",
       "      <th>2</th>\n",
       "      <td>90</td>\n",
       "      <td>0.0500</td>\n",
       "    </tr>\n",
       "    <tr>\n",
       "      <th>...</th>\n",
       "      <td>...</td>\n",
       "      <td>...</td>\n",
       "    </tr>\n",
       "    <tr>\n",
       "      <th>63275</th>\n",
       "      <td>279</td>\n",
       "      <td>0.0200</td>\n",
       "    </tr>\n",
       "    <tr>\n",
       "      <th>63275</th>\n",
       "      <td>372</td>\n",
       "      <td>0.0025</td>\n",
       "    </tr>\n",
       "    <tr>\n",
       "      <th>63275</th>\n",
       "      <td>283</td>\n",
       "      <td>0.0100</td>\n",
       "    </tr>\n",
       "    <tr>\n",
       "      <th>63276</th>\n",
       "      <td>0</td>\n",
       "      <td>0.9900</td>\n",
       "    </tr>\n",
       "    <tr>\n",
       "      <th>63276</th>\n",
       "      <td>2</td>\n",
       "      <td>0.0100</td>\n",
       "    </tr>\n",
       "  </tbody>\n",
       "</table>\n",
       "<p>152480 rows × 2 columns</p>\n",
       "</div>"
      ],
      "text/plain": [
       "       length     vaf\n",
       "index                \n",
       "0           0  1.0000\n",
       "1           0  0.5825\n",
       "1           1  0.4175\n",
       "2           7  0.9500\n",
       "2          90  0.0500\n",
       "...       ...     ...\n",
       "63275     279  0.0200\n",
       "63275     372  0.0025\n",
       "63275     283  0.0100\n",
       "63276       0  0.9900\n",
       "63276       2  0.0100\n",
       "\n",
       "[152480 rows x 2 columns]"
      ]
     },
     "execution_count": 37,
     "metadata": {},
     "output_type": "execute_result"
    }
   ],
   "source": [
    "by_len_vaf"
   ]
  },
  {
   "cell_type": "code",
   "execution_count": 38,
   "id": "0ab4ec8d-79a9-4164-8eac-7c531ec6ba09",
   "metadata": {},
   "outputs": [
    {
     "data": {
      "text/html": [
       "<div>\n",
       "<style scoped>\n",
       "    .dataframe tbody tr th:only-of-type {\n",
       "        vertical-align: middle;\n",
       "    }\n",
       "\n",
       "    .dataframe tbody tr th {\n",
       "        vertical-align: top;\n",
       "    }\n",
       "\n",
       "    .dataframe thead th {\n",
       "        text-align: right;\n",
       "    }\n",
       "</style>\n",
       "<table border=\"1\" class=\"dataframe\">\n",
       "  <thead>\n",
       "    <tr style=\"text-align: right;\">\n",
       "      <th></th>\n",
       "      <th>chrom</th>\n",
       "      <th>start</th>\n",
       "      <th>end</th>\n",
       "      <th>HG002.1</th>\n",
       "      <th>HG002.2</th>\n",
       "      <th>HG00438.1</th>\n",
       "      <th>HG00438.2</th>\n",
       "      <th>HG005.1</th>\n",
       "      <th>HG005.2</th>\n",
       "      <th>HG02257.1</th>\n",
       "      <th>HG02257.2</th>\n",
       "      <th>HG02486.1</th>\n",
       "      <th>HG02486.2</th>\n",
       "      <th>HG02622.1</th>\n",
       "      <th>HG02622.2</th>\n",
       "    </tr>\n",
       "  </thead>\n",
       "  <tbody>\n",
       "    <tr>\n",
       "      <th>0</th>\n",
       "      <td>chr1</td>\n",
       "      <td>689941</td>\n",
       "      <td>690073</td>\n",
       "      <td>0</td>\n",
       "      <td>0</td>\n",
       "      <td>0</td>\n",
       "      <td>0</td>\n",
       "      <td>0</td>\n",
       "      <td>0</td>\n",
       "      <td>0</td>\n",
       "      <td>0</td>\n",
       "      <td>0</td>\n",
       "      <td>0</td>\n",
       "      <td>0</td>\n",
       "      <td>0</td>\n",
       "    </tr>\n",
       "    <tr>\n",
       "      <th>1</th>\n",
       "      <td>chr1</td>\n",
       "      <td>691047</td>\n",
       "      <td>691100</td>\n",
       "      <td>0</td>\n",
       "      <td>0</td>\n",
       "      <td>0</td>\n",
       "      <td>0</td>\n",
       "      <td>1</td>\n",
       "      <td>0</td>\n",
       "      <td>0</td>\n",
       "      <td>0</td>\n",
       "      <td>0</td>\n",
       "      <td>0</td>\n",
       "      <td>0</td>\n",
       "      <td>0</td>\n",
       "    </tr>\n",
       "    <tr>\n",
       "      <th>2</th>\n",
       "      <td>chr1</td>\n",
       "      <td>711932</td>\n",
       "      <td>712118</td>\n",
       "      <td>7</td>\n",
       "      <td>7</td>\n",
       "      <td>7</td>\n",
       "      <td>7</td>\n",
       "      <td>7</td>\n",
       "      <td>7</td>\n",
       "      <td>7</td>\n",
       "      <td>7</td>\n",
       "      <td>7</td>\n",
       "      <td>7</td>\n",
       "      <td>7</td>\n",
       "      <td>90</td>\n",
       "    </tr>\n",
       "    <tr>\n",
       "      <th>3</th>\n",
       "      <td>chr1</td>\n",
       "      <td>714241</td>\n",
       "      <td>714517</td>\n",
       "      <td>50</td>\n",
       "      <td>50</td>\n",
       "      <td>50</td>\n",
       "      <td>50</td>\n",
       "      <td>50</td>\n",
       "      <td>50</td>\n",
       "      <td>50</td>\n",
       "      <td>50</td>\n",
       "      <td>50</td>\n",
       "      <td>50</td>\n",
       "      <td>97</td>\n",
       "      <td>50</td>\n",
       "    </tr>\n",
       "    <tr>\n",
       "      <th>4</th>\n",
       "      <td>chr1</td>\n",
       "      <td>724685</td>\n",
       "      <td>724841</td>\n",
       "      <td>0</td>\n",
       "      <td>0</td>\n",
       "      <td>0</td>\n",
       "      <td>0</td>\n",
       "      <td>0</td>\n",
       "      <td>0</td>\n",
       "      <td>0</td>\n",
       "      <td>0</td>\n",
       "      <td>0</td>\n",
       "      <td>0</td>\n",
       "      <td>0</td>\n",
       "      <td>0</td>\n",
       "    </tr>\n",
       "  </tbody>\n",
       "</table>\n",
       "</div>"
      ],
      "text/plain": [
       "  chrom   start     end  HG002.1  HG002.2  HG00438.1  HG00438.2  HG005.1  \\\n",
       "0  chr1  689941  690073        0        0          0          0        0   \n",
       "1  chr1  691047  691100        0        0          0          0        1   \n",
       "2  chr1  711932  712118        7        7          7          7        7   \n",
       "3  chr1  714241  714517       50       50         50         50       50   \n",
       "4  chr1  724685  724841        0        0          0          0        0   \n",
       "\n",
       "   HG005.2  HG02257.1  HG02257.2  HG02486.1  HG02486.2  HG02622.1  HG02622.2  \n",
       "0        0          0          0          0          0          0          0  \n",
       "1        0          0          0          0          0          0          0  \n",
       "2        7          7          7          7          7          7         90  \n",
       "3       50         50         50         50         50         97         50  \n",
       "4        0          0          0          0          0          0          0  "
      ]
     },
     "execution_count": 38,
     "metadata": {},
     "output_type": "execute_result"
    }
   ],
   "source": [
    "data.head()"
   ]
  },
  {
   "cell_type": "code",
   "execution_count": 39,
   "id": "35355c6a-6f4d-4558-a7b2-2a3f1ac1fc10",
   "metadata": {},
   "outputs": [
    {
     "data": {
      "text/html": [
       "<div>\n",
       "<style scoped>\n",
       "    .dataframe tbody tr th:only-of-type {\n",
       "        vertical-align: middle;\n",
       "    }\n",
       "\n",
       "    .dataframe tbody tr th {\n",
       "        vertical-align: top;\n",
       "    }\n",
       "\n",
       "    .dataframe thead th {\n",
       "        text-align: right;\n",
       "    }\n",
       "</style>\n",
       "<table border=\"1\" class=\"dataframe\">\n",
       "  <thead>\n",
       "    <tr style=\"text-align: right;\">\n",
       "      <th></th>\n",
       "      <th>length</th>\n",
       "      <th>vaf</th>\n",
       "    </tr>\n",
       "    <tr>\n",
       "      <th>index</th>\n",
       "      <th></th>\n",
       "      <th></th>\n",
       "    </tr>\n",
       "  </thead>\n",
       "  <tbody>\n",
       "    <tr>\n",
       "      <th>3</th>\n",
       "      <td>50</td>\n",
       "      <td>0.95</td>\n",
       "    </tr>\n",
       "    <tr>\n",
       "      <th>3</th>\n",
       "      <td>97</td>\n",
       "      <td>0.05</td>\n",
       "    </tr>\n",
       "  </tbody>\n",
       "</table>\n",
       "</div>"
      ],
      "text/plain": [
       "       length   vaf\n",
       "index              \n",
       "3          50  0.95\n",
       "3          97  0.05"
      ]
     },
     "execution_count": 39,
     "metadata": {},
     "output_type": "execute_result"
    }
   ],
   "source": [
    "by_len_vaf.loc[3]"
   ]
  },
  {
   "cell_type": "code",
   "execution_count": 48,
   "id": "0d71625e-0940-4f4d-a137-5a5142a5b7a5",
   "metadata": {},
   "outputs": [],
   "source": [
    "first_set = data[at_least_10 & (nunique > 2)]"
   ]
  },
  {
   "cell_type": "code",
   "execution_count": 49,
   "id": "f096520f-45cc-4349-b251-3381f5d1213c",
   "metadata": {},
   "outputs": [
    {
     "name": "stderr",
     "output_type": "stream",
     "text": [
      "/Users/english/py/lib/python3.9/site-packages/seaborn/_oldcore.py:1119: FutureWarning: use_inf_as_na option is deprecated and will be removed in a future version. Convert inf values to NaN before operating instead.\n",
      "  with pd.option_context('mode.use_inf_as_na', True):\n"
     ]
    },
    {
     "data": {
      "text/plain": [
       "<Axes: xlabel='vaf', ylabel='Count'>"
      ]
     },
     "execution_count": 49,
     "metadata": {},
     "output_type": "execute_result"
    },
    {
     "data": {
      "image/png": "[encoded data removed]",
      "text/plain": [
       "<Figure size 640x480 with 1 Axes>"
      ]
     },
     "metadata": {},
     "output_type": "display_data"
    }
   ],
   "source": [
    "sb.histplot(data=by_len_vaf.loc[first_set.index], x=\"vaf\")"
   ]
  },
  {
   "cell_type": "code",
   "execution_count": 51,
   "id": "94722227-362a-4e8c-b4ab-0188f5276629",
   "metadata": {},
   "outputs": [
    {
     "data": {
      "text/plain": [
       "chrom          chr1\n",
       "start        744841\n",
       "end          744921\n",
       "HG002.1          16\n",
       "HG002.2          18\n",
       "HG00438.1        50\n",
       "HG00438.2        40\n",
       "HG005.1          24\n",
       "HG005.2          24\n",
       "HG02257.1        28\n",
       "HG02257.2        32\n",
       "HG02486.1        26\n",
       "HG02486.2        22\n",
       "HG02622.1        12\n",
       "HG02622.2         4\n",
       "Name: 9, dtype: object"
      ]
     },
     "execution_count": 51,
     "metadata": {},
     "output_type": "execute_result"
    }
   ],
   "source": [
    "data.loc[9]"
   ]
  },
  {
   "cell_type": "code",
   "execution_count": 50,
   "id": "f8500db7-10c8-4dbc-9704-4cd69d7b61d2",
   "metadata": {},
   "outputs": [
    {
     "data": {
      "text/html": [
       "<div>\n",
       "<style scoped>\n",
       "    .dataframe tbody tr th:only-of-type {\n",
       "        vertical-align: middle;\n",
       "    }\n",
       "\n",
       "    .dataframe tbody tr th {\n",
       "        vertical-align: top;\n",
       "    }\n",
       "\n",
       "    .dataframe thead th {\n",
       "        text-align: right;\n",
       "    }\n",
       "</style>\n",
       "<table border=\"1\" class=\"dataframe\">\n",
       "  <thead>\n",
       "    <tr style=\"text-align: right;\">\n",
       "      <th></th>\n",
       "      <th>length</th>\n",
       "      <th>vaf</th>\n",
       "    </tr>\n",
       "  </thead>\n",
       "  <tbody>\n",
       "    <tr>\n",
       "      <th>9</th>\n",
       "      <td>16</td>\n",
       "      <td>0.0100</td>\n",
       "    </tr>\n",
       "    <tr>\n",
       "      <th>9</th>\n",
       "      <td>18</td>\n",
       "      <td>0.0100</td>\n",
       "    </tr>\n",
       "    <tr>\n",
       "      <th>9</th>\n",
       "      <td>50</td>\n",
       "      <td>0.0025</td>\n",
       "    </tr>\n",
       "    <tr>\n",
       "      <th>9</th>\n",
       "      <td>40</td>\n",
       "      <td>0.0025</td>\n",
       "    </tr>\n",
       "    <tr>\n",
       "      <th>9</th>\n",
       "      <td>24</td>\n",
       "      <td>0.8350</td>\n",
       "    </tr>\n",
       "    <tr>\n",
       "      <th>...</th>\n",
       "      <td>...</td>\n",
       "      <td>...</td>\n",
       "    </tr>\n",
       "    <tr>\n",
       "      <th>63273</th>\n",
       "      <td>10</td>\n",
       "      <td>0.0100</td>\n",
       "    </tr>\n",
       "    <tr>\n",
       "      <th>63275</th>\n",
       "      <td>93</td>\n",
       "      <td>0.9675</td>\n",
       "    </tr>\n",
       "    <tr>\n",
       "      <th>63275</th>\n",
       "      <td>279</td>\n",
       "      <td>0.0200</td>\n",
       "    </tr>\n",
       "    <tr>\n",
       "      <th>63275</th>\n",
       "      <td>372</td>\n",
       "      <td>0.0025</td>\n",
       "    </tr>\n",
       "    <tr>\n",
       "      <th>63275</th>\n",
       "      <td>283</td>\n",
       "      <td>0.0100</td>\n",
       "    </tr>\n",
       "  </tbody>\n",
       "</table>\n",
       "<p>49926 rows × 2 columns</p>\n",
       "</div>"
      ],
      "text/plain": [
       "       length     vaf\n",
       "9          16  0.0100\n",
       "9          18  0.0100\n",
       "9          50  0.0025\n",
       "9          40  0.0025\n",
       "9          24  0.8350\n",
       "...       ...     ...\n",
       "63273      10  0.0100\n",
       "63275      93  0.9675\n",
       "63275     279  0.0200\n",
       "63275     372  0.0025\n",
       "63275     283  0.0100\n",
       "\n",
       "[49926 rows x 2 columns]"
      ]
     },
     "execution_count": 50,
     "metadata": {},
     "output_type": "execute_result"
    }
   ],
   "source": [
    "by_len_vaf.loc[first_set.index]"
   ]
  },
  {
   "cell_type": "code",
   "execution_count": 53,
   "id": "9ddba95a-ad7d-4c8f-8ed8-7996d9dcdab1",
   "metadata": {},
   "outputs": [],
   "source": [
    "at_least_50 = (data[data.columns[3:]] >= 50).any(axis=1)\n",
    "second_set = data[at_least_50 & (nunique > 2)]"
   ]
  },
  {
   "cell_type": "code",
   "execution_count": 54,
   "id": "4b09c76c-bd4a-43d2-a53a-3093649cb704",
   "metadata": {},
   "outputs": [
    {
     "name": "stderr",
     "output_type": "stream",
     "text": [
      "/Users/english/py/lib/python3.9/site-packages/seaborn/_oldcore.py:1119: FutureWarning: use_inf_as_na option is deprecated and will be removed in a future version. Convert inf values to NaN before operating instead.\n",
      "  with pd.option_context('mode.use_inf_as_na', True):\n"
     ]
    },
    {
     "data": {
      "text/plain": [
       "<Axes: xlabel='vaf', ylabel='Count'>"
      ]
     },
     "execution_count": 54,
     "metadata": {},
     "output_type": "execute_result"
    },
    {
     "data": {
      "image/png": "[encoded data removed]",
      "text/plain": [
       "<Figure size 640x480 with 1 Axes>"
      ]
     },
     "metadata": {},
     "output_type": "display_data"
    }
   ],
   "source": [
    "sb.histplot(data=by_len_vaf.loc[second_set.index], x=\"vaf\")"
   ]
  },
  {
   "cell_type": "code",
   "execution_count": 55,
   "id": "0562c9ea-011c-4204-8517-3e46750c72d1",
   "metadata": {},
   "outputs": [],
   "source": [
    "view = by_len_vaf.loc[second_set.index]"
   ]
  },
  {
   "cell_type": "code",
   "execution_count": 58,
   "id": "d1bdb0f5-8309-42e2-804c-d2acceeadba4",
   "metadata": {},
   "outputs": [
    {
     "data": {
      "text/html": [
       "<div>\n",
       "<style scoped>\n",
       "    .dataframe tbody tr th:only-of-type {\n",
       "        vertical-align: middle;\n",
       "    }\n",
       "\n",
       "    .dataframe tbody tr th {\n",
       "        vertical-align: top;\n",
       "    }\n",
       "\n",
       "    .dataframe thead th {\n",
       "        text-align: right;\n",
       "    }\n",
       "</style>\n",
       "<table border=\"1\" class=\"dataframe\">\n",
       "  <thead>\n",
       "    <tr style=\"text-align: right;\">\n",
       "      <th></th>\n",
       "      <th>length</th>\n",
       "      <th>vaf</th>\n",
       "    </tr>\n",
       "  </thead>\n",
       "  <tbody>\n",
       "    <tr>\n",
       "      <th>50344</th>\n",
       "      <td>68</td>\n",
       "      <td>0.4175</td>\n",
       "    </tr>\n",
       "    <tr>\n",
       "      <th>11868</th>\n",
       "      <td>140</td>\n",
       "      <td>0.4200</td>\n",
       "    </tr>\n",
       "    <tr>\n",
       "      <th>16414</th>\n",
       "      <td>50</td>\n",
       "      <td>0.0600</td>\n",
       "    </tr>\n",
       "    <tr>\n",
       "      <th>32183</th>\n",
       "      <td>2435</td>\n",
       "      <td>0.0100</td>\n",
       "    </tr>\n",
       "    <tr>\n",
       "      <th>61872</th>\n",
       "      <td>115</td>\n",
       "      <td>0.0500</td>\n",
       "    </tr>\n",
       "  </tbody>\n",
       "</table>\n",
       "</div>"
      ],
      "text/plain": [
       "       length     vaf\n",
       "50344      68  0.4175\n",
       "11868     140  0.4200\n",
       "16414      50  0.0600\n",
       "32183    2435  0.0100\n",
       "61872     115  0.0500"
      ]
     },
     "execution_count": 58,
     "metadata": {},
     "output_type": "execute_result"
    }
   ],
   "source": [
    "view.sample(5)"
   ]
  },
  {
   "cell_type": "code",
   "execution_count": 59,
   "id": "8b3da210-c4c2-4eba-b88e-ef59fdd24f3f",
   "metadata": {},
   "outputs": [
    {
     "data": {
      "text/plain": [
       "chrom             chr1\n",
       "start        205906434\n",
       "end          205906609\n",
       "HG002.1             82\n",
       "HG002.2              0\n",
       "HG00438.1           48\n",
       "HG00438.2           48\n",
       "HG005.1             52\n",
       "HG005.2             68\n",
       "HG02257.1            6\n",
       "HG02257.2            8\n",
       "HG02486.1           60\n",
       "HG02486.2            0\n",
       "HG02622.1           52\n",
       "HG02622.2           56\n",
       "Name: 50344, dtype: object"
      ]
     },
     "execution_count": 59,
     "metadata": {},
     "output_type": "execute_result"
    }
   ],
   "source": [
    "data.loc[50344]"
   ]
  },
  {
   "cell_type": "code",
   "execution_count": 60,
   "id": "5f8482a6-822c-4990-8f71-c2e356768930",
   "metadata": {},
   "outputs": [
    {
     "data": {
      "text/plain": [
       "0          0.000000\n",
       "1          0.288675\n",
       "2         23.960036\n",
       "3         13.567731\n",
       "4          0.000000\n",
       "            ...    \n",
       "63272      0.000000\n",
       "63273      3.128559\n",
       "63274      0.000000\n",
       "63275    106.255659\n",
       "63276      0.577350\n",
       "Length: 63277, dtype: float64"
      ]
     },
     "execution_count": 60,
     "metadata": {},
     "output_type": "execute_result"
    }
   ],
   "source": []
  },
  {
   "cell_type": "code",
   "execution_count": 62,
   "id": "236cbdae-405d-446d-9b93-f905e34e24da",
   "metadata": {},
   "outputs": [
    {
     "name": "stderr",
     "output_type": "stream",
     "text": [
      "/Users/english/py/lib/python3.9/site-packages/seaborn/_oldcore.py:1119: FutureWarning: use_inf_as_na option is deprecated and will be removed in a future version. Convert inf values to NaN before operating instead.\n",
      "  with pd.option_context('mode.use_inf_as_na', True):\n"
     ]
    },
    {
     "data": {
      "text/plain": [
       "<Axes: ylabel='Count'>"
      ]
     },
     "execution_count": 62,
     "metadata": {},
     "output_type": "execute_result"
    },
    {
     "data": {
      "image/png": "[encoded data removed]",
      "text/plain": [
       "<Figure size 640x480 with 1 Axes>"
      ]
     },
     "metadata": {},
     "output_type": "display_data"
    }
   ],
   "source": [
    "sb.histplot(coeff_of_var)"
   ]
  },
  {
   "cell_type": "code",
   "execution_count": null,
   "id": "e4c24841-902a-45fa-870b-a7ee8484b7f0",
   "metadata": {},
   "outputs": [],
   "source": []
  }
 ],
 "metadata": {
  "kernelspec": {
   "display_name": "Python 3 (ipykernel)",
   "language": "python",
   "name": "python3"
  },
  "language_info": {
   "codemirror_mode": {
    "name": "ipython",
    "version": 3
   },
   "file_extension": ".py",
   "mimetype": "text/x-python",
   "name": "python",
   "nbconvert_exporter": "python",
   "pygments_lexer": "ipython3",
   "version": "3.9.6"
  }
 },
 "nbformat": 4,
 "nbformat_minor": 5
}
