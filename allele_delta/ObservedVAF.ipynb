{
 "cells": [
  {
   "cell_type": "code",
   "execution_count": 2,
   "id": "44d5f347-42d1-4786-8054-d94a81147ae0",
   "metadata": {},
   "outputs": [],
   "source": [
    "import json\n",
    "import pandas as pd\n",
    "import seaborn as sb\n",
    "import matplotlib.pyplot as plt\n",
    "import numpy as np\n",
    "from scipy.stats import pearsonr\n",
    "from collections import Counter\n",
    "import glob"
   ]
  },
  {
   "cell_type": "code",
   "execution_count": 2,
   "id": "af8e7b55-729a-4bc2-8728-fd133317b0fc",
   "metadata": {},
   "outputs": [],
   "source": [
    "truth = pd.read_csv(\"data/allele.deltas.txt\", sep='\\t')\n",
    "props = {\"HG00438\": 0.5 / 100,\n",
    "         \"HG002\":   2 / 100,\n",
    "         \"HG02257\": 2 / 100,\n",
    "         \"HG02486\": 2 / 100,\n",
    "         \"HG02622\": 10 / 100,\n",
    "         \"HG005\":   83.5 / 100}\n",
    "percents = []\n",
    "names = []\n",
    "for i in truth.columns[3:]:\n",
    "    percents.append(props[i.split('.')[0]] / 2)\n",
    "    names.append(i)\n",
    "percents = pd.Series(percents, index=names)    \n",
    "\n",
    "truth.set_index(['chrom', 'start', 'end'], inplace=True)\n",
    "samples = list(truth.columns)"
   ]
  },
  {
   "cell_type": "code",
   "execution_count": 9,
   "id": "c03265f4-8d70-4b07-8283-769d5d40af69",
   "metadata": {},
   "outputs": [
    {
     "name": "stdout",
     "output_type": "stream",
     "text": [
      "starting data/hapmix.allele_delta.hifi.UW.pq\n",
      "starting data/hapmix.allele_delta.ontStd.UW.pq\n",
      "starting data/hapmix.allele_delta.hifi.WashU.pq\n",
      "starting data/hapmix.allele_delta.hifi.Broad.pq\n",
      "starting data/hapmix.allele_delta.ontStd.BCM.pq\n",
      "starting data/hapmix.allele_delta.hifi.BCM.pq\n"
     ]
    }
   ],
   "source": [
    "\n",
    "def combine_and_average(numbers, delta=5):\n",
    "    \"\"\"\n",
    "    Numbers that are within delta are combined and averaged\n",
    "    returns a dictionary of original value mapped to its new average bin\n",
    "    \"\"\"\n",
    "    combined = {}\n",
    "    current_group = [numbers[0]]\n",
    "\n",
    "    for num in numbers[1:]:\n",
    "        if abs(num - current_group[-1]) <= delta:\n",
    "            current_group.append(num)\n",
    "        else:\n",
    "            avg = sum(current_group) / len(current_group)\n",
    "            for n in current_group:\n",
    "                combined[n] = avg\n",
    "            current_group = [num]\n",
    "\n",
    "    avg = sum(current_group) / len(current_group)\n",
    "    for n in current_group:\n",
    "        combined[n] = avg\n",
    "    \n",
    "    return combined\n",
    "\n",
    "def match_reads_to_haplotypes(data):\n",
    "    rows = []\n",
    "    for _, row in full_data.iterrows():\n",
    "        observed = Counter(row['data'][2])\n",
    "\n",
    "        expected_unaltered = Counter()\n",
    "        for size, percent in zip(row[samples].values, percents[samples]):\n",
    "            expected_unaltered[size] += percent\n",
    "\n",
    "        expected = Counter()\n",
    "        expected_cnt = Counter()\n",
    "        vals = sorted(list(expected_unaltered.keys()))\n",
    "        dedup = combine_and_average(vals, delta=2)\n",
    "        for k, v in dedup.items():\n",
    "            expected[v] += expected_unaltered[k]\n",
    "            expected_cnt[v] += 1\n",
    "\n",
    "        # Dedup the expected -- If they're within 5bp, combine them.\n",
    "        closest_numbers = dict([(num, min(expected.keys(), key=lambda x: abs(x - num))) for num in observed])\n",
    "\n",
    "        # Observed mapto Expected\n",
    "        summed_observed = Counter()\n",
    "        for o, e in closest_numbers.items():\n",
    "            summed_observed[e] += observed[o]\n",
    "        summed_observed\n",
    "\n",
    "        chrom, start, end = row.name\n",
    "        tot_cov = row['coverage']\n",
    "        if tot_cov == 0:\n",
    "            continue\n",
    "        for k in expected.keys():\n",
    "            obs = summed_observed[k]\n",
    "            rows.append((chrom, start, end, k, \n",
    "                         expected_cnt[k], obs, round(obs / tot_cov, 4), \n",
    "                         expected[k], row['coverage']))\n",
    "\n",
    "    measure = pd.DataFrame(rows, \n",
    "                           columns=[\"chrom\", \"start\", \"end\", \n",
    "                                    \"expected_len\",\n",
    "                                    \"num_collapsed\",\n",
    "                                    \"read_count\", \n",
    "                                    \"observed_vaf\", \n",
    "                                    \"expected_vaf\", \n",
    "                                    'coverage'])\n",
    "\n",
    "    measure['vaf_bin'] = pd.cut(measure['expected_vaf'], bins=[0, 0.05, 0.3, 0.7, 1], labels=[\"Ultra-Low\", \"Low\", \"Medium\", \"High\"])\n",
    "    measure['VAF delta'] = measure[\"observed_vaf\"] - measure[\"expected_vaf\"]\n",
    "    return measure\n",
    "\n",
    "parts = []\n",
    "for fn in glob.glob(\"data/hapmix*tsv\"):\n",
    "    _, tech, _, center = fn.split('/')[1].split('.')[0].split('_')\n",
    "    out_name = f\"data/hapmix.allele_delta.{tech}.{center}.pq\"\n",
    "    print(\"starting\", out_name)\n",
    "    \n",
    "    data = pd.read_csv(fn, sep='\\t', names=[\"chrom\", \"start\", \"end\", \"data\"])\n",
    "\n",
    "    data['data'] = data['data'].apply(lambda x: json.loads(x))\n",
    "\n",
    "    data.set_index(['chrom', 'start', 'end'], inplace=True)\n",
    "    full_data = truth.join(data, how='left').dropna()\n",
    "\n",
    "    full_data['coverage'] = full_data['data'].apply(lambda x: x[0])\n",
    "    full_data['alt_read_coverage'] = full_data['data'].apply(lambda x: len(x[2]))\n",
    "    full_data['ref_read_coverage'] = full_data['coverage'] - full_data['alt_read_coverage']\n",
    "\n",
    "    measure = match_reads_to_haplotypes(full_data)\n",
    "    \n",
    "    measure.to_parquet(out_name, index=False)\n",
    "    del(data)\n",
    "    del(full_data)\n",
    "    del(measure)\n"
   ]
  },
  {
   "cell_type": "code",
   "execution_count": 3,
   "id": "3497b40d-8aae-4181-bf79-6959514000c4",
   "metadata": {},
   "outputs": [
    {
     "name": "stdout",
     "output_type": "stream",
     "text": [
      "data/hapmix.allele_delta.hifi.BCM.pq\n",
      "data/hapmix.allele_delta.hifi.Broad.pq\n",
      "data/hapmix.allele_delta.hifi.UW.pq\n",
      "data/hapmix.allele_delta.hifi.WashU.pq\n",
      "data/hapmix.allele_delta.ontStd.BCM.pq\n",
      "data/hapmix.allele_delta.ontStd.UW.pq\n"
     ]
    },
    {
     "data": {
      "image/png": "[encoded data removed]",
      "text/plain": [
       "<Figure size 5400x1440 with 12 Axes>"
      ]
     },
     "metadata": {},
     "output_type": "display_data"
    }
   ],
   "source": [
    "files = [\"data/hapmix.allele_delta.hifi.BCM.pq\",\n",
    "         \"data/hapmix.allele_delta.hifi.Broad.pq\",\n",
    "         \"data/hapmix.allele_delta.hifi.UW.pq\",\n",
    "         \"data/hapmix.allele_delta.hifi.WashU.pq\",\n",
    "         \"data/hapmix.allele_delta.ontStd.BCM.pq\",\n",
    "         \"data/hapmix.allele_delta.ontStd.UW.pq\"]\n",
    "fig, ax = plt.subplots(nrows=2, \n",
    "                       ncols=len(files), \n",
    "                       figsize=(5 * len(files), 8), \n",
    "                       squeeze=False,\n",
    "                       sharex='row',\n",
    "                       sharey='row',\n",
    "                       dpi=180,\n",
    "                      )\n",
    "\n",
    "summary = []\n",
    "for i, fn in enumerate(files):\n",
    "    print(fn)\n",
    "    data = pd.read_parquet(fn)\n",
    "    _, _, tech, center, _ = fn.split('/')[1].split('.')\n",
    "    tech = {'hifi': 'HiFi', 'ontStd':\"ONT\"}[tech]\n",
    "    unq = data[['chrom', 'start', 'end', 'coverage']].drop_duplicates()\n",
    "    p = sb.histplot(data=unq, x='coverage', \n",
    "                    binwidth=5, \n",
    "                    ax=ax[0][i],\n",
    "                    zorder=2)\n",
    "    _ = p.set(title=f\"Observed coverage per-TR Locus {tech} {center}\")\n",
    "    legend = i == 0    \n",
    "    p = sb.histplot(data=data[data['read_count'] != 0], \n",
    "                    x='VAF delta', hue=\"vaf_bin\", \n",
    "                    ax=ax[1][i], \n",
    "                    legend = i == 0, \n",
    "                    binwidth=0.02,\n",
    "                    multiple='stack',\n",
    "                    zorder=2)\n",
    "    _ = p.set(title=f\"Observed VAF delta per-TR allele {tech} {center}\")\n",
    "    ax[0][i].grid(zorder=1)\n",
    "    ax[1][i].grid(zorder=1)\n",
    "    if True: # Turn this false if you want to plot fast but miss out on the summary\n",
    "        row = [(data['read_count'] == 0).sum(),  # Unsupported\n",
    "               len(data[['chrom', 'start', 'end']].drop_duplicates()),\n",
    "               len(data),\n",
    "               unq['coverage'].mean(),\n",
    "               unq['coverage'].std(),\n",
    "              ]\n",
    "        cols = ['No Support', \"Num Loci\", \"Num Alleles\", 'Mean Coverage', \"STD Coverage\"]\n",
    "        for min_cov in [1, 3, 5]:\n",
    "            view = data[data['read_count'] >= min_cov]\n",
    "            total = len(view)\n",
    "            vaf_delta_mse = (view['VAF delta'] ** 2).sum() / total\n",
    "            vaf_delta_std = view['VAF delta'].std()\n",
    "            vaf_delta_mean = view['VAF delta'].mean()\n",
    "            row.extend([total, vaf_delta_mse, vaf_delta_std, vaf_delta_mean])\n",
    "            cols.extend([f\"num_loci_{min_cov}x\", \n",
    "                         f\"∆MSE_{min_cov}x\", \n",
    "                         f\"∆STD_{min_cov}x\",\n",
    "                         f\"∆MU_{min_cov}x\"])\n",
    "        tmp = pd.Series(row, index=cols)\n",
    "        tmp['tech'] = tech\n",
    "        tmp['center'] = center\n",
    "        summary.append(tmp)\n",
    "\n",
    "plt.tight_layout()\n",
    "plt.show()"
   ]
  },
  {
   "cell_type": "code",
   "execution_count": 113,
   "id": "dd226a15-be65-4d75-9983-2e825beb0f48",
   "metadata": {},
   "outputs": [
    {
     "data": {
      "text/html": [
       "<div>\n",
       "<style scoped>\n",
       "    .dataframe tbody tr th:only-of-type {\n",
       "        vertical-align: middle;\n",
       "    }\n",
       "\n",
       "    .dataframe tbody tr th {\n",
       "        vertical-align: top;\n",
       "    }\n",
       "\n",
       "    .dataframe thead th {\n",
       "        text-align: right;\n",
       "    }\n",
       "</style>\n",
       "<table border=\"1\" class=\"dataframe\">\n",
       "  <thead>\n",
       "    <tr style=\"text-align: right;\">\n",
       "      <th></th>\n",
       "      <th>count</th>\n",
       "      <th>unique</th>\n",
       "      <th>top</th>\n",
       "      <th>freq</th>\n",
       "    </tr>\n",
       "    <tr>\n",
       "      <th>tech</th>\n",
       "      <th></th>\n",
       "      <th></th>\n",
       "      <th></th>\n",
       "      <th></th>\n",
       "    </tr>\n",
       "  </thead>\n",
       "  <tbody>\n",
       "    <tr>\n",
       "      <th>HiFi</th>\n",
       "      <td>4.0</td>\n",
       "      <td>4.0</td>\n",
       "      <td>0.073831</td>\n",
       "      <td>1.0</td>\n",
       "    </tr>\n",
       "    <tr>\n",
       "      <th>ONT</th>\n",
       "      <td>2.0</td>\n",
       "      <td>2.0</td>\n",
       "      <td>0.115059</td>\n",
       "      <td>1.0</td>\n",
       "    </tr>\n",
       "  </tbody>\n",
       "</table>\n",
       "</div>"
      ],
      "text/plain": [
       "      count  unique       top  freq\n",
       "tech                               \n",
       "HiFi    4.0     4.0  0.073831   1.0\n",
       "ONT     2.0     2.0  0.115059   1.0"
      ]
     },
     "execution_count": 113,
     "metadata": {},
     "output_type": "execute_result"
    }
   ],
   "source": [
    "full_summary[['Mean Coverage', '∆STD_1x', '∆MU_1x', 'tech', 'center']].groupby(['tech'])['∆STD_1x'].describe()"
   ]
  },
  {
   "cell_type": "code",
   "execution_count": 4,
   "id": "690395c7-ed4a-4252-989c-6b868b921025",
   "metadata": {},
   "outputs": [],
   "source": [
    "full_summary = pd.concat(summary, axis=1).T"
   ]
  },
  {
   "cell_type": "code",
   "execution_count": 5,
   "id": "acd4577e-1d6f-40b5-ba50-9b21ec5a07f2",
   "metadata": {},
   "outputs": [],
   "source": [
    "def scaled_fontsize(base_size, fig_width, reference_width=6.4, min_size=7):\n",
    "    \"\"\"\n",
    "    Scales the base font size proportionally to figure width,\n",
    "    but enforces a minimum font size.\n",
    "    \n",
    "    base_size: font size for reference_width (in inches)\n",
    "    fig_width: actual figure width\n",
    "    \"\"\"\n",
    "    scale = fig_width / reference_width\n",
    "    return max(min_size, base_size * scale)\n",
    "\n",
    "\n",
    "fig_width = 6.5\n",
    "font_size = scaled_fontsize(base_size=8, fig_width=fig_width, min_size=7)\n",
    "\n",
    "plt.rcParams.update({\n",
    "    \"font.size\": font_size,\n",
    "    \"axes.titlesize\": font_size,\n",
    "    \"axes.labelsize\": font_size,\n",
    "    \"xtick.labelsize\": font_size * 0.9,\n",
    "    \"ytick.labelsize\": font_size * 0.9,\n",
    "    \"legend.fontsize\": font_size * 0.9,\n",
    "})"
   ]
  },
  {
   "cell_type": "markdown",
   "id": "a51de9f3-0750-4985-af7f-a82571a5aa40",
   "metadata": {},
   "source": [
    "# Figure 2 - Expected/Observed VAF "
   ]
  },
  {
   "cell_type": "code",
   "execution_count": 129,
   "id": "572e1a6e-65fd-4d00-bd3e-35874e77b750",
   "metadata": {},
   "outputs": [
    {
     "name": "stdout",
     "output_type": "stream",
     "text": [
      "data/hapmix.allele_delta.hifi.WashU.pq\n"
     ]
    },
    {
     "data": {
      "image/png": "[encoded data removed]",
      "text/plain": [
       "<Figure size 639x471.6 with 1 Axes>"
      ]
     },
     "metadata": {},
     "output_type": "display_data"
    }
   ],
   "source": [
    "import numpy as np\n",
    "files = [\"data/hapmix.allele_delta.hifi.WashU.pq\"]\n",
    "fig, ax = plt.subplots(nrows=1, \n",
    "                       ncols=1, \n",
    "                       figsize=(3.55, 2.62), \n",
    "                       squeeze=False,\n",
    "                       sharex='row',\n",
    "                       sharey='row',\n",
    "                       dpi=180,\n",
    "                      )\n",
    "\n",
    "\n",
    "binwidth = 0.05\n",
    "half_bin = binwidth / 2\n",
    "vafdeltabins = np.arange(-1 + half_bin, 1 + binwidth, binwidth)  # Symmetric, centered around 0\n",
    "\n",
    "\n",
    "summary = []\n",
    "for i, fn in enumerate(files):\n",
    "    print(fn)\n",
    "    data = pd.read_parquet(fn)\n",
    "    _, _, tech, center, _ = fn.split('/')[1].split('.')\n",
    "    tech = {'hifi': 'HiFi', 'ontStd':\"ONT\"}[tech]\n",
    "    data['VAF Bin'] =  pd.cut(data['expected_vaf'], \n",
    "                              bins=[0, 0.05, 0.30, 1], \n",
    "                              labels=['<5%', '5%-30%', 'Germline'])\n",
    "    legend = i == 0    \n",
    "    p = sb.histplot(data=data[data['read_count'] != 0], \n",
    "                    x='VAF delta', hue=\"VAF Bin\", \n",
    "                    ax=ax[0][i], \n",
    "                    legend = i == 0, \n",
    "                    bins=vafdeltabins,\n",
    "                    multiple='stack',\n",
    "                    zorder=2,\n",
    "                    #alpha=0.8,\n",
    "                   palette=palette[2:5])\n",
    "    _ = p.set(title=f\"Observed - Expected VAF\", xlabel=\"VAF∆\", ylabel=\"TR Allele Count (thousands)\")\n",
    "    ax[0][i].grid(zorder=1, alpha=0.5)\n",
    "\n",
    "# Changing ylabels to thousands (k)\n",
    "from matplotlib.ticker import FuncFormatter\n",
    "\n",
    "# Define formatter function\n",
    "def thousands_formatter(x, pos):\n",
    "    return f\"{int(x/1000)}k\" if x >= 1000 else str(int(x))\n",
    "\n",
    "# Apply to the axis\n",
    "ax[0][0].yaxis.set_major_formatter(FuncFormatter(thousands_formatter))\n",
    "\n",
    "plt.tight_layout()\n",
    "plt.show()"
   ]
  },
  {
   "cell_type": "markdown",
   "id": "97d2579e-719e-4ac0-8112-19a459f6ceca",
   "metadata": {},
   "source": [
    "# Figure 2 - Support / Recall"
   ]
  },
  {
   "cell_type": "code",
   "execution_count": 54,
   "id": "42a89b7e-d909-4dd9-8dfc-27518ce34bb5",
   "metadata": {},
   "outputs": [
    {
     "data": {
      "image/png": "[encoded data removed]",
      "text/plain": [
       "<Figure size 774x486 with 2 Axes>"
      ]
     },
     "metadata": {},
     "output_type": "display_data"
    }
   ],
   "source": [
    "x = [1, 3, 5]\n",
    "fig, ax = plt.subplots(nrows=1, \n",
    "                       ncols=2, \n",
    "                       #figsize=(5 * len(x), 5), \n",
    "                       figsize=(4.3, 2.7),\n",
    "                       squeeze=False,\n",
    "                       sharex='row',\n",
    "                       sharey='row',\n",
    "                       dpi=180,\n",
    "                      )\n",
    "palette = sb.color_palette('deep', n_colors=8) \n",
    "\n",
    "\n",
    "for idx, i in enumerate(x):\n",
    "    idx = 0 if idx == 0 else 1\n",
    "    ax_sub = ax[0][idx]\n",
    "\n",
    "    # Scatterplot with hue + style\n",
    "    sb.scatterplot(\n",
    "        data=full_summary,\n",
    "        x=\"Mean Coverage\",\n",
    "        y=(full_summary[f\"num_loci_{i}x\"].astype(float) / full_summary['Num Alleles']).values,\n",
    "        hue='tech',\n",
    "        style='center',\n",
    "        ax=ax_sub,\n",
    "        legend = idx == 0,\n",
    "        s=100, zorder=3,\n",
    "        palette=palette[-2:]\n",
    "        \n",
    "    )\n",
    "\n",
    "    # Add regplot manually per 'tech'\n",
    "    for color, tech_name in enumerate(['HiFi', 'ONT']):\n",
    "        df_tech = full_summary[full_summary['tech'] == tech_name]\n",
    "        linestyle = {1: 'solid', 3:'dashed', 5:'dotted'}[i]\n",
    "        sb.regplot(\n",
    "            #data=df_tech,\n",
    "            x=df_tech[\"Mean Coverage\"].astype(float),\n",
    "            y=(df_tech[f\"num_loci_{i}x\"].astype(float) / df_tech['Num Alleles']).values,\n",
    "            scatter=False,\n",
    "            ax=ax_sub,\n",
    "            label=f\"{tech_name} trend\",  # Optional: avoid duplicate legend\n",
    "            ci=None,\n",
    "            line_kws={\"lw\": 2, \"zorder\": 2, \"linestyle\":linestyle},\n",
    "            color=palette[-2 + color],\n",
    "        )\n",
    "\n",
    "    ax_sub.grid(zorder=1)\n",
    "    t = '1x' if idx == 0 else '3x, 5x'\n",
    "    ax_sub.set(\n",
    "        title=f\"Supported Alleles (min {t})\",\n",
    "        ylabel=\"Recall\",\n",
    "        ylim=(0.70, 1.0),\n",
    "    )\n",
    "\n",
    "\n",
    "from matplotlib.lines import Line2D\n",
    "\n",
    "# Extract all handles + labels\n",
    "handles, labels = ax[0][0].get_legend_handles_labels()\n",
    "\n",
    "# Classify entries\n",
    "tech_labels = ['HiFi', 'ONT']\n",
    "center_labels = sorted(set(full_summary['center']))\n",
    "\n",
    "tech_items = [(h, l) for h, l in zip(handles, labels) if l in tech_labels]\n",
    "center_items = [(h, l) for h, l in zip(handles, labels) if l in center_labels]\n",
    "\n",
    "# Pad shorter column\n",
    "max_len = max(len(tech_items), len(center_items))\n",
    "tech_items += [(Line2D([], [], linestyle='None'), '')] * (max_len - len(tech_items))\n",
    "center_items += [(Line2D([], [], linestyle='None'), '')] * (max_len - len(center_items))\n",
    "\n",
    "# Combine into interleaved list\n",
    "combined_handles = []\n",
    "combined_labels = []\n",
    "\n",
    "# Add headers\n",
    "combined_handles += [Line2D([], [], linestyle='None'), Line2D([], [], linestyle='None')]\n",
    "#combined_labels += ['tech', 'center']\n",
    "\n",
    "for (h1, l1), (h2, l2) in zip(tech_items, center_items):\n",
    "    combined_handles += [h1, h2]\n",
    "    combined_labels += [l1, l2]\n",
    "\n",
    "combined_labels = ['Tech', 'ONT', 'HiFi', 'Reads', '≥1x', 'Center', 'BCM', 'Broad', 'UW', 'WashU']\n",
    "\n",
    "combined_handles = [combined_handles[0],\n",
    "                    combined_handles[4],\n",
    "                    combined_handles[2],\n",
    "                    combined_handles[0],\n",
    "                    Line2D([], [], linestyle='solid', color=palette[-1]),\n",
    "                    combined_handles[0],\n",
    "                    combined_handles[3],\n",
    "                    combined_handles[5],\n",
    "                    combined_handles[7],\n",
    "                    combined_handles[9]]\n",
    "\n",
    "# Now place the legend inside ax[0][0]\n",
    "legend = ax[0][0].legend(\n",
    "    handles=combined_handles,\n",
    "    labels=combined_labels,\n",
    "    ncol=2,\n",
    "    loc='upper right',\n",
    "    bbox_to_anchor=(1, 0.55),  # fine-tune as needed\n",
    "    bbox_transform=ax[0][0].transAxes,\n",
    "    frameon=True,\n",
    "    handletextpad=0.5,\n",
    "    columnspacing=1,\n",
    "    labelspacing=0.4,\n",
    "    fontsize=scaled_fontsize(8, 6.5),\n",
    ")\n",
    "\n",
    "combined_labels = ['Reads', '≥3x', '≥5x']\n",
    "combined_handles = [Line2D([], [], linestyle='None'), \n",
    "                     Line2D([], [], linestyle='dashed', color=palette[-1]), \n",
    "                     Line2D([], [], linestyle='dotted', color=palette[-1])]\n",
    "legend = ax[0][1].legend(\n",
    "    handles=combined_handles,\n",
    "    labels=combined_labels,\n",
    "    ncol=1,\n",
    "    loc='upper left',\n",
    "    bbox_to_anchor=(0, 1),  # fine-tune as needed\n",
    "    bbox_transform=ax[0][1].transAxes,\n",
    "    frameon=True,\n",
    "    handletextpad=0.5,\n",
    "    columnspacing=1,\n",
    "    labelspacing=0.4,\n",
    "    fontsize=scaled_fontsize(8, 6.5),\n",
    ")\n",
    "\n",
    "plt.tight_layout()\n",
    "plt.show()\n"
   ]
  },
  {
   "cell_type": "markdown",
   "id": "aedb5f37-add5-476a-8014-c3636c935af9",
   "metadata": {},
   "source": [
    "# Figure 2 - Support / Recall - Alternative"
   ]
  },
  {
   "cell_type": "code",
   "execution_count": 128,
   "id": "f486ec2f-83cd-43b6-aa9a-0d86b776778e",
   "metadata": {},
   "outputs": [
    {
     "data": {
      "image/png": "[encoded data removed]",
      "text/plain": [
       "<Figure size 639x471.6 with 1 Axes>"
      ]
     },
     "metadata": {},
     "output_type": "display_data"
    }
   ],
   "source": [
    "x = [1, 3, 5]\n",
    "fig, ax = plt.subplots(nrows=1, \n",
    "                       ncols=1, \n",
    "                       #figsize=(5 * len(x), 5), \n",
    "                       figsize=(3.55, 2.62),\n",
    "                       squeeze=False,\n",
    "                       sharex='row',\n",
    "                       sharey='row',\n",
    "                       dpi=180,\n",
    "                      )\n",
    "palette = sb.color_palette('deep', n_colors=8) \n",
    "\n",
    "\n",
    "for idx, i in enumerate(x):\n",
    "    idx = 0 if idx == 0 else 1\n",
    "    ax_sub = ax[0][0]\n",
    "\n",
    "    # Scatterplot with hue + style\n",
    "    sb.scatterplot(\n",
    "        data=full_summary,\n",
    "        x=\"Mean Coverage\",\n",
    "        y=(full_summary[f\"num_loci_{i}x\"].astype(float) / full_summary['Num Alleles']).values,\n",
    "        hue='tech',\n",
    "        style='center',\n",
    "        ax=ax_sub,\n",
    "        legend = idx == 0,\n",
    "        s=100, zorder=3,\n",
    "        palette=palette[-2:]\n",
    "        \n",
    "    )\n",
    "\n",
    "    # Add regplot manually per 'tech'\n",
    "    for color, tech_name in enumerate(['HiFi', 'ONT']):\n",
    "        df_tech = full_summary[full_summary['tech'] == tech_name]\n",
    "        linestyle = {1: 'solid', 3:'dashed', 5:'dotted'}[i]\n",
    "        sb.regplot(\n",
    "            #data=df_tech,\n",
    "            x=df_tech[\"Mean Coverage\"].astype(float),\n",
    "            y=(df_tech[f\"num_loci_{i}x\"].astype(float) / df_tech['Num Alleles']).values,\n",
    "            scatter=False,\n",
    "            ax=ax_sub,\n",
    "            label=f\"{tech_name} trend\",  # Optional: avoid duplicate legend\n",
    "            ci=None,\n",
    "            line_kws={\"lw\": 2, \"zorder\": 2, \"linestyle\":linestyle},\n",
    "            color=palette[-2 + color],\n",
    "        )\n",
    "\n",
    "    ax_sub.grid(zorder=1, alpha=0.5, axis='y')\n",
    "    t = '1x' if idx == 0 else '3x, 5x'\n",
    "    ax_sub.set(\n",
    "        title=f\"Supported Alleles\",\n",
    "        ylabel=\"Recall\",\n",
    "        ylim=(0.70, 1.0),\n",
    "    )\n",
    "\n",
    "\n",
    "from matplotlib.lines import Line2D\n",
    "\n",
    "# Extract all handles + labels\n",
    "handles, labels = ax[0][0].get_legend_handles_labels()\n",
    "\n",
    "# Classify entries\n",
    "tech_labels = ['HiFi', 'ONT']\n",
    "center_labels = sorted(set(full_summary['center']))\n",
    "\n",
    "tech_items = [(h, l) for h, l in zip(handles, labels) if l in tech_labels]\n",
    "center_items = [(h, l) for h, l in zip(handles, labels) if l in center_labels]\n",
    "\n",
    "# Pad shorter column\n",
    "max_len = max(len(tech_items), len(center_items))\n",
    "tech_items += [(Line2D([], [], linestyle='None'), '')] * (max_len - len(tech_items))\n",
    "center_items += [(Line2D([], [], linestyle='None'), '')] * (max_len - len(center_items))\n",
    "\n",
    "# Combine into interleaved list\n",
    "combined_handles = []\n",
    "combined_labels = []\n",
    "\n",
    "# Add headers\n",
    "combined_handles += [Line2D([], [], linestyle='None'), Line2D([], [], linestyle='None')]\n",
    "#combined_labels += ['tech', 'center']\n",
    "\n",
    "for (h1, l1), (h2, l2) in zip(tech_items, center_items):\n",
    "    combined_handles += [h1, h2]\n",
    "    combined_labels += [l1, l2]\n",
    "\n",
    "combined_labels = ['Reads', '≥1x', '≥3x', '≥5x', 'Tech', 'ONT', 'HiFi',  'Center', 'BCM', 'Broad', 'UW', 'WashU']\n",
    "\n",
    "\n",
    "# Adjust to show ~3 dashes across legend line length\n",
    "line_3x = Line2D([], [], color=palette[-1], linestyle='--')\n",
    "line_3x.set_dashes([3, 0.75])  # ~3 dashes (dash, space)\n",
    "\n",
    "# Adjust to show ~5 dots across legend line length\n",
    "line_5x = Line2D([], [], color=palette[-1], linestyle=':')\n",
    "line_5x.set_dashes([1, 1.5])  # ~5 dots (dot, space)\n",
    "\n",
    "\n",
    "combined_handles = [\n",
    "                    combined_handles[0],\n",
    "                    Line2D([], [], linestyle='solid', color=palette[-1]),\n",
    "                    line_3x,\n",
    "                    line_5x,\n",
    "                    combined_handles[0],\n",
    "                    combined_handles[4],\n",
    "                    combined_handles[2],\n",
    "                    combined_handles[0],\n",
    "                    combined_handles[3],\n",
    "                    combined_handles[5],\n",
    "                    combined_handles[7],\n",
    "                    combined_handles[9]]\n",
    "\n",
    "# Now place the legend inside ax[0][0]\n",
    "#ax[0][0].legend(bbox_to_anchor=(1, 1), loc='upper left')\n",
    "\n",
    "\n",
    "legend = ax[0][0].legend(\n",
    "    handles=combined_handles,\n",
    "    labels=combined_labels,\n",
    "    ncol=1,\n",
    "    loc='upper left',\n",
    "    bbox_to_anchor=(1, 1.0345),  # fine-tune as needed\n",
    "    #bbox_transform=ax[0][0].transAxes,\n",
    "    frameon=True,\n",
    "    handletextpad=0.5,\n",
    "    columnspacing=1,\n",
    "    labelspacing=0.4,\n",
    "    fontsize=scaled_fontsize(8, 6.5),\n",
    ")\n",
    "\n",
    "combined_labels = ['Reads', '≥3x', '≥5x']\n",
    "combined_handles = [Line2D([], [], linestyle='None'), \n",
    "                     Line2D([], [], linestyle='dashed', color=palette[-1]), \n",
    "                     Line2D([], [], linestyle='dotted', color=palette[-1])]\n",
    "\n",
    "plt.tight_layout()\n",
    "plt.show()\n"
   ]
  },
  {
   "cell_type": "code",
   "execution_count": 14,
   "id": "19c04405-086c-40a8-aaa8-4e0923988207",
   "metadata": {},
   "outputs": [
    {
     "data": {
      "image/png": "[encoded data removed]",
      "text/plain": [
       "<Figure size 600x600 with 3 Axes>"
      ]
     },
     "metadata": {},
     "output_type": "display_data"
    }
   ],
   "source": [
    "p = sb.jointplot(data=data, x=\"coverage\", kind='hex', y=\"VAF delta\",\n",
    "                joint_kws=dict(gridsize=20),\n",
    "                marginal_kws=dict(bins=100))"
   ]
  },
  {
   "cell_type": "code",
   "execution_count": 61,
   "id": "005c3195-c4d2-409c-a282-a83d5409d6b0",
   "metadata": {},
   "outputs": [
    {
     "name": "stdout",
     "output_type": "stream",
     "text": [
      "1 PearsonRResult(statistic=0.47550696655553776, pvalue=0.34049724734873266)\n",
      "3 PearsonRResult(statistic=0.5331223320049688, pvalue=0.2760783622235144)\n",
      "5 PearsonRResult(statistic=0.69976794568566, pvalue=0.12167757808588715)\n"
     ]
    }
   ],
   "source": [
    "for i in [1, 3, 5]:\n",
    "    print(i, pearsonr(full_summary[f\"Recall{i}\"], full_summary[\"Mean Coverage\"]))\n",
    "    "
   ]
  },
  {
   "cell_type": "code",
   "execution_count": 55,
   "id": "38dea120-cbb6-4fd2-b30f-bc42894389c0",
   "metadata": {},
   "outputs": [
    {
     "name": "stderr",
     "output_type": "stream",
     "text": [
      "/var/folders/fy/lkd5_yz90zq3f67qys3tpztc0000gn/T/ipykernel_5620/3150223842.py:3: FutureWarning: The default of observed=False is deprecated and will be changed to True in a future version of pandas. Pass observed=False to retain current behavior or observed=True to adopt the future default and silence this warning.\n",
      "  for i, d in data.groupby('covbin'):\n"
     ]
    }
   ],
   "source": [
    "data['covbin'] = pd.cut(data['coverage'], bins=40)\n",
    "rs = []\n",
    "for i, d in data.groupby('covbin'):\n",
    "    rs.append([i, (d['read_count'] >= 3).sum(), len(d)])\n",
    "x = pd.DataFrame(rs, columns=['covbin', 'tp', 'count'])\n",
    "x['recall'] = x['tp'] / x['count']"
   ]
  },
  {
   "cell_type": "markdown",
   "id": "30ce8aa2-0cdf-4010-a56c-95fcbc522eaa",
   "metadata": {},
   "source": [
    "I wanted to do a Multiple Regression, but the 6 observations is too small."
   ]
  },
  {
   "cell_type": "code",
   "execution_count": 31,
   "id": "1edcf823-5960-45a3-a241-0d7973291975",
   "metadata": {},
   "outputs": [],
   "source": [
    "full_summary['Mean_Coverage'] = full_summary['Mean Coverage']\n",
    "full_summary['Technology'] = full_summary['tech'].astype('category')\n",
    "full_summary['Recall1'] = pd.to_numeric(full_summary['Recall1'], errors='raise')\n"
   ]
  },
  {
   "cell_type": "code",
   "execution_count": 32,
   "id": "baa5b2e9-9693-42a8-811a-cff7b57ce89b",
   "metadata": {},
   "outputs": [
    {
     "name": "stderr",
     "output_type": "stream",
     "text": [
      "/Users/english/py/lib/python3.9/site-packages/statsmodels/stats/stattools.py:74: ValueWarning: omni_normtest is not valid with less than 8 observations; 6 samples were given.\n",
      "  warn(\"omni_normtest is not valid with less than 8 observations; %i \"\n",
      "/Users/english/py/lib/python3.9/site-packages/statsmodels/regression/linear_model.py:1765: RuntimeWarning: divide by zero encountered in divide\n",
      "  return 1 - (np.divide(self.nobs - self.k_constant, self.df_resid)\n",
      "/Users/english/py/lib/python3.9/site-packages/statsmodels/regression/linear_model.py:1765: RuntimeWarning: invalid value encountered in scalar multiply\n",
      "  return 1 - (np.divide(self.nobs - self.k_constant, self.df_resid)\n",
      "/Users/english/py/lib/python3.9/site-packages/statsmodels/regression/linear_model.py:1687: RuntimeWarning: divide by zero encountered in scalar divide\n",
      "  return np.dot(wresid, wresid) / self.df_resid\n"
     ]
    },
    {
     "data": {
      "text/html": [
       "<table class=\"simpletable\">\n",
       "<caption>OLS Regression Results</caption>\n",
       "<tr>\n",
       "  <th>Dep. Variable:</th>         <td>Recall1</td>     <th>  R-squared:         </th> <td>   1.000</td>\n",
       "</tr>\n",
       "<tr>\n",
       "  <th>Model:</th>                   <td>OLS</td>       <th>  Adj. R-squared:    </th> <td>     nan</td>\n",
       "</tr>\n",
       "<tr>\n",
       "  <th>Method:</th>             <td>Least Squares</td>  <th>  F-statistic:       </th> <td>     nan</td>\n",
       "</tr>\n",
       "<tr>\n",
       "  <th>Date:</th>             <td>Thu, 10 Jul 2025</td> <th>  Prob (F-statistic):</th>  <td>   nan</td> \n",
       "</tr>\n",
       "<tr>\n",
       "  <th>Time:</th>                 <td>22:00:38</td>     <th>  Log-Likelihood:    </th> <td>  206.29</td>\n",
       "</tr>\n",
       "<tr>\n",
       "  <th>No. Observations:</th>      <td>     6</td>      <th>  AIC:               </th> <td>  -400.6</td>\n",
       "</tr>\n",
       "<tr>\n",
       "  <th>Df Residuals:</th>          <td>     0</td>      <th>  BIC:               </th> <td>  -401.8</td>\n",
       "</tr>\n",
       "<tr>\n",
       "  <th>Df Model:</th>              <td>     5</td>      <th>                     </th>     <td> </td>   \n",
       "</tr>\n",
       "<tr>\n",
       "  <th>Covariance Type:</th>      <td>nonrobust</td>    <th>                     </th>     <td> </td>   \n",
       "</tr>\n",
       "</table>\n",
       "<table class=\"simpletable\">\n",
       "<tr>\n",
       "                   <td></td>                      <th>coef</th>     <th>std err</th>      <th>t</th>      <th>P>|t|</th>  <th>[0.025</th>    <th>0.975]</th>  \n",
       "</tr>\n",
       "<tr>\n",
       "  <th>Intercept</th>                           <td>    0.7888</td> <td>      inf</td> <td>        0</td> <td>   nan</td> <td>      nan</td> <td>      nan</td>\n",
       "</tr>\n",
       "<tr>\n",
       "  <th>Mean_Coverage[T.66.92233368966367]</th>  <td>    0.1316</td> <td>      inf</td> <td>        0</td> <td>   nan</td> <td>      nan</td> <td>      nan</td>\n",
       "</tr>\n",
       "<tr>\n",
       "  <th>Mean_Coverage[T.100.41474818136697]</th> <td>    0.1615</td> <td>      inf</td> <td>        0</td> <td>   nan</td> <td>      nan</td> <td>      nan</td>\n",
       "</tr>\n",
       "<tr>\n",
       "  <th>Mean_Coverage[T.100.67341832374474]</th> <td>    0.1602</td> <td>      inf</td> <td>        0</td> <td>   nan</td> <td>      nan</td> <td>      nan</td>\n",
       "</tr>\n",
       "<tr>\n",
       "  <th>Mean_Coverage[T.105.68504274633844]</th> <td>    0.1649</td> <td>      inf</td> <td>        0</td> <td>   nan</td> <td>      nan</td> <td>      nan</td>\n",
       "</tr>\n",
       "<tr>\n",
       "  <th>Mean_Coverage[T.110.54445795303708]</th> <td>    0.0123</td> <td>      inf</td> <td>        0</td> <td>   nan</td> <td>      nan</td> <td>      nan</td>\n",
       "</tr>\n",
       "<tr>\n",
       "  <th>Technology[T.ONT]</th>                   <td>    0.1706</td> <td>      inf</td> <td>        0</td> <td>   nan</td> <td>      nan</td> <td>      nan</td>\n",
       "</tr>\n",
       "</table>\n",
       "<table class=\"simpletable\">\n",
       "<tr>\n",
       "  <th>Omnibus:</th>       <td>   nan</td> <th>  Durbin-Watson:     </th> <td>   0.538</td>\n",
       "</tr>\n",
       "<tr>\n",
       "  <th>Prob(Omnibus):</th> <td>   nan</td> <th>  Jarque-Bera (JB):  </th> <td>   0.629</td>\n",
       "</tr>\n",
       "<tr>\n",
       "  <th>Skew:</th>          <td> 0.466</td> <th>  Prob(JB):          </th> <td>   0.730</td>\n",
       "</tr>\n",
       "<tr>\n",
       "  <th>Kurtosis:</th>      <td> 1.717</td> <th>  Cond. No.          </th> <td>    4.39</td>\n",
       "</tr>\n",
       "</table><br/><br/>Notes:<br/>[1] Standard Errors assume that the covariance matrix of the errors is correctly specified.<br/>[2] The input rank is higher than the number of observations."
      ],
      "text/plain": [
       "<class 'statsmodels.iolib.summary.Summary'>\n",
       "\"\"\"\n",
       "                            OLS Regression Results                            \n",
       "==============================================================================\n",
       "Dep. Variable:                Recall1   R-squared:                       1.000\n",
       "Model:                            OLS   Adj. R-squared:                    nan\n",
       "Method:                 Least Squares   F-statistic:                       nan\n",
       "Date:                Thu, 10 Jul 2025   Prob (F-statistic):                nan\n",
       "Time:                        22:00:38   Log-Likelihood:                 206.29\n",
       "No. Observations:                   6   AIC:                            -400.6\n",
       "Df Residuals:                       0   BIC:                            -401.8\n",
       "Df Model:                           5                                         \n",
       "Covariance Type:            nonrobust                                         \n",
       "=======================================================================================================\n",
       "                                          coef    std err          t      P>|t|      [0.025      0.975]\n",
       "-------------------------------------------------------------------------------------------------------\n",
       "Intercept                               0.7888        inf          0        nan         nan         nan\n",
       "Mean_Coverage[T.66.92233368966367]      0.1316        inf          0        nan         nan         nan\n",
       "Mean_Coverage[T.100.41474818136697]     0.1615        inf          0        nan         nan         nan\n",
       "Mean_Coverage[T.100.67341832374474]     0.1602        inf          0        nan         nan         nan\n",
       "Mean_Coverage[T.105.68504274633844]     0.1649        inf          0        nan         nan         nan\n",
       "Mean_Coverage[T.110.54445795303708]     0.0123        inf          0        nan         nan         nan\n",
       "Technology[T.ONT]                       0.1706        inf          0        nan         nan         nan\n",
       "==============================================================================\n",
       "Omnibus:                          nan   Durbin-Watson:                   0.538\n",
       "Prob(Omnibus):                    nan   Jarque-Bera (JB):                0.629\n",
       "Skew:                           0.466   Prob(JB):                        0.730\n",
       "Kurtosis:                       1.717   Cond. No.                         4.39\n",
       "==============================================================================\n",
       "\n",
       "Notes:\n",
       "[1] Standard Errors assume that the covariance matrix of the errors is correctly specified.\n",
       "[2] The input rank is higher than the number of observations.\n",
       "\"\"\""
      ]
     },
     "execution_count": 32,
     "metadata": {},
     "output_type": "execute_result"
    }
   ],
   "source": [
    "import statsmodels.formula.api as smf\n",
    "\n",
    "model = smf.ols(\"Recall1 ~ Mean_Coverage + Technology\", data=full_summary).fit()\n",
    "model.summary()"
   ]
  },
  {
   "cell_type": "code",
   "execution_count": 16,
   "id": "f41b10bf-4937-4268-a506-91902a1a7886",
   "metadata": {},
   "outputs": [
    {
     "name": "stdout",
     "output_type": "stream",
     "text": [
      "\n",
      "Recall1 regression:\n",
      "                            OLS Regression Results                            \n",
      "==============================================================================\n",
      "Dep. Variable:                Recall1   R-squared:                       0.226\n",
      "Model:                            OLS   Adj. R-squared:                  0.033\n",
      "Method:                 Least Squares   F-statistic:                     1.169\n",
      "Date:                Thu, 10 Jul 2025   Prob (F-statistic):              0.340\n",
      "Time:                        21:55:00   Log-Likelihood:                 17.246\n",
      "No. Observations:                   6   AIC:                            -30.49\n",
      "Df Residuals:                       4   BIC:                            -30.91\n",
      "Df Model:                           1                                         \n",
      "Covariance Type:            nonrobust                                         \n",
      "=================================================================================\n",
      "                    coef    std err          t      P>|t|      [0.025      0.975]\n",
      "---------------------------------------------------------------------------------\n",
      "const             0.9173      0.032     28.892      0.000       0.829       1.005\n",
      "Mean Coverage     0.0004      0.000      1.081      0.340      -0.001       0.001\n",
      "==============================================================================\n",
      "Omnibus:                          nan   Durbin-Watson:                   0.872\n",
      "Prob(Omnibus):                    nan   Jarque-Bera (JB):                0.235\n",
      "Skew:                           0.040   Prob(JB):                        0.889\n",
      "Kurtosis:                       2.034   Cond. No.                         431.\n",
      "==============================================================================\n",
      "\n",
      "Notes:\n",
      "[1] Standard Errors assume that the covariance matrix of the errors is correctly specified.\n",
      "\n",
      "Recall3 regression:\n",
      "                            OLS Regression Results                            \n",
      "==============================================================================\n",
      "Dep. Variable:                Recall3   R-squared:                       0.284\n",
      "Model:                            OLS   Adj. R-squared:                  0.105\n",
      "Method:                 Least Squares   F-statistic:                     1.588\n",
      "Date:                Thu, 10 Jul 2025   Prob (F-statistic):              0.276\n",
      "Time:                        21:55:00   Log-Likelihood:                 13.101\n",
      "No. Observations:                   6   AIC:                            -22.20\n",
      "Df Residuals:                       4   BIC:                            -22.62\n",
      "Df Model:                           1                                         \n",
      "Covariance Type:            nonrobust                                         \n",
      "=================================================================================\n",
      "                    coef    std err          t      P>|t|      [0.025      0.975]\n",
      "---------------------------------------------------------------------------------\n",
      "const             0.7708      0.063     12.167      0.000       0.595       0.947\n",
      "Mean Coverage     0.0009      0.001      1.260      0.276      -0.001       0.003\n",
      "==============================================================================\n",
      "Omnibus:                          nan   Durbin-Watson:                   0.872\n",
      "Prob(Omnibus):                    nan   Jarque-Bera (JB):                0.755\n",
      "Skew:                           0.508   Prob(JB):                        0.685\n",
      "Kurtosis:                       1.590   Cond. No.                         431.\n",
      "==============================================================================\n",
      "\n",
      "Notes:\n",
      "[1] Standard Errors assume that the covariance matrix of the errors is correctly specified.\n",
      "\n",
      "Recall5 regression:\n",
      "                            OLS Regression Results                            \n",
      "==============================================================================\n",
      "Dep. Variable:                Recall5   R-squared:                       0.490\n",
      "Model:                            OLS   Adj. R-squared:                  0.362\n",
      "Method:                 Least Squares   F-statistic:                     3.838\n",
      "Date:                Thu, 10 Jul 2025   Prob (F-statistic):              0.122\n",
      "Time:                        21:55:00   Log-Likelihood:                 13.254\n",
      "No. Observations:                   6   AIC:                            -22.51\n",
      "Df Residuals:                       4   BIC:                            -22.92\n",
      "Df Model:                           1                                         \n",
      "Covariance Type:            nonrobust                                         \n",
      "=================================================================================\n",
      "                    coef    std err          t      P>|t|      [0.025      0.975]\n",
      "---------------------------------------------------------------------------------\n",
      "const             0.6641      0.062     10.755      0.000       0.493       0.836\n",
      "Mean Coverage     0.0013      0.001      1.959      0.122      -0.001       0.003\n",
      "==============================================================================\n",
      "Omnibus:                          nan   Durbin-Watson:                   0.973\n",
      "Prob(Omnibus):                    nan   Jarque-Bera (JB):                0.917\n",
      "Skew:                           0.707   Prob(JB):                        0.632\n",
      "Kurtosis:                       1.708   Cond. No.                         431.\n",
      "==============================================================================\n",
      "\n",
      "Notes:\n",
      "[1] Standard Errors assume that the covariance matrix of the errors is correctly specified.\n"
     ]
    },
    {
     "name": "stderr",
     "output_type": "stream",
     "text": [
      "/Users/english/py/lib/python3.9/site-packages/statsmodels/stats/stattools.py:74: ValueWarning: omni_normtest is not valid with less than 8 observations; 6 samples were given.\n",
      "  warn(\"omni_normtest is not valid with less than 8 observations; %i \"\n",
      "/Users/english/py/lib/python3.9/site-packages/statsmodels/stats/stattools.py:74: ValueWarning: omni_normtest is not valid with less than 8 observations; 6 samples were given.\n",
      "  warn(\"omni_normtest is not valid with less than 8 observations; %i \"\n",
      "/Users/english/py/lib/python3.9/site-packages/statsmodels/stats/stattools.py:74: ValueWarning: omni_normtest is not valid with less than 8 observations; 6 samples were given.\n",
      "  warn(\"omni_normtest is not valid with less than 8 observations; %i \"\n"
     ]
    }
   ],
   "source": [
    "import statsmodels.api as sm\n",
    "\n",
    "cols = []\n",
    "\n",
    "for i in [1, 3, 5]:\n",
    "    name = f\"Recall{i}\"\n",
    "    full_summary[name] = full_summary[f\"num_loci_{i}x\"].astype(float) / full_summary['Num Alleles']\n",
    "    cols.append(name)\n",
    "    \n",
    "X = full_summary[['Mean Coverage']].astype(float)\n",
    "X = sm.add_constant(X)  # Adds intercept\n",
    "Ys = full_summary[cols].astype(float)\n",
    "\n",
    "# Fit a separate regression for each Recall measure\n",
    "models = {col: sm.OLS(Ys[col], X).fit() for col in Ys.columns}\n",
    "\n",
    "for name, model in models.items():\n",
    "    print(f\"\\n{name} regression:\")\n",
    "    print(model.summary())"
   ]
  },
  {
   "cell_type": "code",
   "execution_count": 165,
   "id": "605a487a-23eb-48dd-ba27-7011ad5d2f23",
   "metadata": {},
   "outputs": [
    {
     "data": {
      "text/plain": [
       "PearsonRResult(statistic=0.47550696655553776, pvalue=0.34049724734873266)"
      ]
     },
     "execution_count": 165,
     "metadata": {},
     "output_type": "execute_result"
    }
   ],
   "source": [
    "full_summary['Recall'] = full_summary[f\"num_loci_1x\"].astype(float) / full_summary['Num Alleles']\n",
    "pearsonr(full_summary['Mean Coverage'], full_summary['Recall'])"
   ]
  },
  {
   "cell_type": "code",
   "execution_count": 88,
   "id": "a488b6a9-2955-4c7b-af28-8e768f1f6906",
   "metadata": {},
   "outputs": [
    {
     "data": {
      "text/plain": [
       "∆MU_1x     0.000709\n",
       "∆STD_1x    0.090581\n",
       "dtype: object"
      ]
     },
     "execution_count": 88,
     "metadata": {},
     "output_type": "execute_result"
    }
   ],
   "source": [
    "x = full_summary[['∆MU_1x', '∆STD_1x']].mean()\n",
    "x"
   ]
  },
  {
   "cell_type": "code",
   "execution_count": 89,
   "id": "74aae6fe-a18c-4e13-920c-6e18e6bfdff0",
   "metadata": {},
   "outputs": [
    {
     "data": {
      "text/plain": [
       "num_loci_1x    0.950711\n",
       "num_loci_3x    0.848659\n",
       "num_loci_5x    0.782206\n",
       "dtype: object"
      ]
     },
     "execution_count": 89,
     "metadata": {},
     "output_type": "execute_result"
    }
   ],
   "source": [
    "(full_summary[[f'num_loci_{i}x' for i in [1, 3,5]]] / len(data)).mean()"
   ]
  },
  {
   "cell_type": "code",
   "execution_count": 62,
   "id": "f5aad776-9f0f-466c-9e82-6b9f3a526bb7",
   "metadata": {},
   "outputs": [
    {
     "name": "stdout",
     "output_type": "stream",
     "text": [
      "PearsonRResult(statistic=0.9594680488930863, pvalue=0.0)\n",
      "0.007576570622332692\n"
     ]
    },
    {
     "data": {
      "text/plain": [
       "count    21323.000000\n",
       "mean         0.002763\n",
       "std          0.087002\n",
       "min         -0.863100\n",
       "25%         -0.012600\n",
       "50%          0.007500\n",
       "75%          0.029800\n",
       "max          0.900000\n",
       "Name: VAF delta, dtype: float64"
      ]
     },
     "execution_count": 62,
     "metadata": {},
     "output_type": "execute_result"
    },
    {
     "data": {
      "image/png": "[encoded data removed]",
      "text/plain": [
       "<Figure size 640x480 with 1 Axes>"
      ]
     },
     "metadata": {},
     "output_type": "display_data"
    }
   ],
   "source": [
    "view = measure[(measure['read_count'] != 0) \n",
    "              & (measure['expected_len'].abs() >= 5)]\n",
    "p = sb.histplot(data=view, x=\"VAF delta\", binwidth=0.02)\n",
    "p.set(title=\"Observed - Expected VAF\", xlabel=\"VAF ∆\", xlim=(-1,1))\n",
    "\n",
    "print(pearsonr(view['observed_vaf'], view['expected_vaf']))\n",
    "MSE = ((view['expected_vaf'] - view['observed_vaf']) ** 2).sum()  / len(view)\n",
    "print(MSE)\n",
    "view['VAF delta'].describe()"
   ]
  },
  {
   "cell_type": "code",
   "execution_count": 92,
   "id": "dda38bd1-705c-4f6a-b0f2-47123d33b84f",
   "metadata": {},
   "outputs": [
    {
     "name": "stderr",
     "output_type": "stream",
     "text": [
      "/var/folders/fy/lkd5_yz90zq3f67qys3tpztc0000gn/T/ipykernel_2045/3519708749.py:1: DtypeWarning: Columns (3) have mixed types. Specify dtype option on import or set low_memory=False.\n",
      "  mosaic = pd.read_csv(\"/Users/english/code/SMaHT_MIMS/callers/severus/bench_hapmix_hifi_GCC_BCM_calls_clean/mosaic.summary.txt\", sep='\\t')\n"
     ]
    }
   ],
   "source": [
    "mosaic = pd.read_csv(\"/Users/english/code/SMaHT_MIMS/callers/severus/bench_hapmix_hifi_GCC_BCM_calls_clean/mosaic.summary.txt\", sep='\\t')"
   ]
  },
  {
   "cell_type": "code",
   "execution_count": 94,
   "id": "89f93831-7f6e-462a-8785-f64126efcdf5",
   "metadata": {},
   "outputs": [],
   "source": [
    "import truvari\n"
   ]
  },
  {
   "cell_type": "code",
   "execution_count": 96,
   "id": "212a3493-4421-40e2-a9f7-dc8c3160f1e6",
   "metadata": {},
   "outputs": [
    {
     "data": {
      "text/plain": [
       "(0.9372990991706021, 0.4816414686825054, 0.6363087009378571)"
      ]
     },
     "execution_count": 96,
     "metadata": {},
     "output_type": "execute_result"
    }
   ],
   "source": [
    "truvari.performance_metrics(**mosaic['state'].value_counts())"
   ]
  },
  {
   "cell_type": "code",
   "execution_count": 111,
   "id": "2fd7ccdf-48d3-4816-b67f-257547af5c2f",
   "metadata": {},
   "outputs": [
    {
     "data": {
      "text/plain": [
       "state\n",
       "fn        25200\n",
       "tp        23619\n",
       "tpbase    23415\n",
       "fp         1580\n",
       "Name: count, dtype: int64"
      ]
     },
     "execution_count": 111,
     "metadata": {},
     "output_type": "execute_result"
    }
   ],
   "source": [
    "mosaic['state'].value_counts()"
   ]
  },
  {
   "cell_type": "code",
   "execution_count": 105,
   "id": "8e754019-767b-4bb5-8e2a-29c52937b570",
   "metadata": {},
   "outputs": [],
   "source": [
    "base = mosaic['state'].isin(['tpbase', 'fn']) & (mosaic['expected_vaf'] < 0.3)\n",
    "all_comp = mosaic['state'].isin(['tp', 'fp'])\n",
    "comp = ~mosaic['state'].isin(['tpbase', 'fn']) & (mosaic['predicted_vaf'] < 0.3)"
   ]
  },
  {
   "cell_type": "code",
   "execution_count": 108,
   "id": "c03e0703-f35d-4053-8237-b52e3d388886",
   "metadata": {},
   "outputs": [],
   "source": [
    "base = mosaic[base]\n",
    "all_comp = mosaic[all_comp]"
   ]
  },
  {
   "cell_type": "code",
   "execution_count": 145,
   "id": "154e49af-1583-47cf-9a07-568c99523ace",
   "metadata": {},
   "outputs": [],
   "source": [
    "all_base = mosaic[mosaic['state'].isin(['tpbase', 'fn'])]"
   ]
  },
  {
   "cell_type": "code",
   "execution_count": 139,
   "id": "97e6cf93-62b2-4474-b03c-78facffaf894",
   "metadata": {},
   "outputs": [],
   "source": [
    "ac_bcnt = all_comp['base_id'].value_counts()\n",
    "ac_ccnt = all_comp['comp_id'].value_counts()"
   ]
  },
  {
   "cell_type": "code",
   "execution_count": 147,
   "id": "df62084c-475b-4591-8b83-c6e8a82471d4",
   "metadata": {},
   "outputs": [
    {
     "data": {
      "text/html": [
       "<div>\n",
       "<style scoped>\n",
       "    .dataframe tbody tr th:only-of-type {\n",
       "        vertical-align: middle;\n",
       "    }\n",
       "\n",
       "    .dataframe tbody tr th {\n",
       "        vertical-align: top;\n",
       "    }\n",
       "\n",
       "    .dataframe thead th {\n",
       "        text-align: right;\n",
       "    }\n",
       "</style>\n",
       "<table border=\"1\" class=\"dataframe\">\n",
       "  <thead>\n",
       "    <tr style=\"text-align: right;\">\n",
       "      <th></th>\n",
       "      <th>svtype</th>\n",
       "      <th>svlen</th>\n",
       "      <th>szbin</th>\n",
       "      <th>TRF</th>\n",
       "      <th>NumNeighbors</th>\n",
       "      <th>NeighId</th>\n",
       "      <th>expected_vaf</th>\n",
       "      <th>predicted_vaf</th>\n",
       "      <th>state</th>\n",
       "      <th>hash</th>\n",
       "      <th>base_id</th>\n",
       "      <th>comp_id</th>\n",
       "      <th>expected_vaf_bin</th>\n",
       "      <th>predicted_vaf_bin</th>\n",
       "      <th>matching_vaf_bin</th>\n",
       "      <th>vaf-delta</th>\n",
       "    </tr>\n",
       "  </thead>\n",
       "  <tbody>\n",
       "    <tr>\n",
       "      <th>11415</th>\n",
       "      <td>DEL</td>\n",
       "      <td>1124</td>\n",
       "      <td>[1k,2.5k)</td>\n",
       "      <td>True</td>\n",
       "      <td>1.0</td>\n",
       "      <td>29025.0</td>\n",
       "      <td>0.4475</td>\n",
       "      <td>0.89</td>\n",
       "      <td>tpbase</td>\n",
       "      <td>0f584ee3bb21d68a8682626d6bbc527cde656802</td>\n",
       "      <td>29962.1</td>\n",
       "      <td>29962.1</td>\n",
       "      <td>Medium</td>\n",
       "      <td>High</td>\n",
       "      <td>False</td>\n",
       "      <td>0.4425</td>\n",
       "    </tr>\n",
       "  </tbody>\n",
       "</table>\n",
       "</div>"
      ],
      "text/plain": [
       "      svtype  svlen      szbin   TRF  NumNeighbors  NeighId  expected_vaf  \\\n",
       "11415    DEL   1124  [1k,2.5k)  True           1.0  29025.0        0.4475   \n",
       "\n",
       "       predicted_vaf   state                                      hash  \\\n",
       "11415           0.89  tpbase  0f584ee3bb21d68a8682626d6bbc527cde656802   \n",
       "\n",
       "       base_id  comp_id expected_vaf_bin predicted_vaf_bin  matching_vaf_bin  \\\n",
       "11415  29962.1  29962.1           Medium              High             False   \n",
       "\n",
       "       vaf-delta  \n",
       "11415     0.4425  "
      ]
     },
     "execution_count": 147,
     "metadata": {},
     "output_type": "execute_result"
    }
   ],
   "source": [
    "all_base[all_base['base_id'] == 29962.1]"
   ]
  },
  {
   "cell_type": "code",
   "execution_count": 142,
   "id": "eb240e8b-a9cb-41e9-a267-62c558456274",
   "metadata": {},
   "outputs": [
    {
     "data": {
      "text/html": [
       "<div>\n",
       "<style scoped>\n",
       "    .dataframe tbody tr th:only-of-type {\n",
       "        vertical-align: middle;\n",
       "    }\n",
       "\n",
       "    .dataframe tbody tr th {\n",
       "        vertical-align: top;\n",
       "    }\n",
       "\n",
       "    .dataframe thead th {\n",
       "        text-align: right;\n",
       "    }\n",
       "</style>\n",
       "<table border=\"1\" class=\"dataframe\">\n",
       "  <thead>\n",
       "    <tr style=\"text-align: right;\">\n",
       "      <th></th>\n",
       "      <th>svtype</th>\n",
       "      <th>svlen</th>\n",
       "      <th>szbin</th>\n",
       "      <th>TRF</th>\n",
       "      <th>NumNeighbors</th>\n",
       "      <th>NeighId</th>\n",
       "      <th>expected_vaf</th>\n",
       "      <th>predicted_vaf</th>\n",
       "      <th>state</th>\n",
       "      <th>hash</th>\n",
       "      <th>base_id</th>\n",
       "      <th>comp_id</th>\n",
       "      <th>expected_vaf_bin</th>\n",
       "      <th>predicted_vaf_bin</th>\n",
       "      <th>matching_vaf_bin</th>\n",
       "      <th>vaf-delta</th>\n",
       "    </tr>\n",
       "  </thead>\n",
       "  <tbody>\n",
       "    <tr>\n",
       "      <th>60870</th>\n",
       "      <td>DEL</td>\n",
       "      <td>1125</td>\n",
       "      <td>[1k,2.5k)</td>\n",
       "      <td>True</td>\n",
       "      <td>1.0</td>\n",
       "      <td>NaN</td>\n",
       "      <td>0.4475</td>\n",
       "      <td>0.30</td>\n",
       "      <td>tp</td>\n",
       "      <td>357fbf73288d94b8817c3dd51777a1caa042803e</td>\n",
       "      <td>29962.1</td>\n",
       "      <td>29962.1</td>\n",
       "      <td>Medium</td>\n",
       "      <td>Medium</td>\n",
       "      <td>True</td>\n",
       "      <td>-0.1475</td>\n",
       "    </tr>\n",
       "    <tr>\n",
       "      <th>60871</th>\n",
       "      <td>DEL</td>\n",
       "      <td>1125</td>\n",
       "      <td>[1k,2.5k)</td>\n",
       "      <td>True</td>\n",
       "      <td>1.0</td>\n",
       "      <td>NaN</td>\n",
       "      <td>0.4475</td>\n",
       "      <td>0.10</td>\n",
       "      <td>tp</td>\n",
       "      <td>9ccf72e95e205723a640c1ca1efcc1d9c7d49177</td>\n",
       "      <td>29962.1</td>\n",
       "      <td>29962.2</td>\n",
       "      <td>Medium</td>\n",
       "      <td>Low</td>\n",
       "      <td>False</td>\n",
       "      <td>-0.3475</td>\n",
       "    </tr>\n",
       "    <tr>\n",
       "      <th>60872</th>\n",
       "      <td>DEL</td>\n",
       "      <td>1125</td>\n",
       "      <td>[1k,2.5k)</td>\n",
       "      <td>True</td>\n",
       "      <td>1.0</td>\n",
       "      <td>NaN</td>\n",
       "      <td>0.4475</td>\n",
       "      <td>0.17</td>\n",
       "      <td>tp</td>\n",
       "      <td>db2fc18a48b8c671cca408e711adc9890d4440f8</td>\n",
       "      <td>29962.1</td>\n",
       "      <td>29962.3</td>\n",
       "      <td>Medium</td>\n",
       "      <td>Low</td>\n",
       "      <td>False</td>\n",
       "      <td>-0.2775</td>\n",
       "    </tr>\n",
       "    <tr>\n",
       "      <th>60873</th>\n",
       "      <td>DEL</td>\n",
       "      <td>1125</td>\n",
       "      <td>[1k,2.5k)</td>\n",
       "      <td>True</td>\n",
       "      <td>1.0</td>\n",
       "      <td>NaN</td>\n",
       "      <td>0.4475</td>\n",
       "      <td>0.09</td>\n",
       "      <td>tp</td>\n",
       "      <td>fcc306cc8fa84d2409f63e2e25ec2fd57982a322</td>\n",
       "      <td>29962.1</td>\n",
       "      <td>29962.4</td>\n",
       "      <td>Medium</td>\n",
       "      <td>Low</td>\n",
       "      <td>False</td>\n",
       "      <td>-0.3575</td>\n",
       "    </tr>\n",
       "    <tr>\n",
       "      <th>60874</th>\n",
       "      <td>DEL</td>\n",
       "      <td>1124</td>\n",
       "      <td>[1k,2.5k)</td>\n",
       "      <td>True</td>\n",
       "      <td>1.0</td>\n",
       "      <td>NaN</td>\n",
       "      <td>0.4475</td>\n",
       "      <td>0.23</td>\n",
       "      <td>tp</td>\n",
       "      <td>b931b6f92a442fe445588e21bf9a0d9dda7b5891</td>\n",
       "      <td>29962.1</td>\n",
       "      <td>29962.5</td>\n",
       "      <td>Medium</td>\n",
       "      <td>Low</td>\n",
       "      <td>False</td>\n",
       "      <td>-0.2175</td>\n",
       "    </tr>\n",
       "  </tbody>\n",
       "</table>\n",
       "</div>"
      ],
      "text/plain": [
       "      svtype  svlen      szbin   TRF  NumNeighbors  NeighId  expected_vaf  \\\n",
       "60870    DEL   1125  [1k,2.5k)  True           1.0      NaN        0.4475   \n",
       "60871    DEL   1125  [1k,2.5k)  True           1.0      NaN        0.4475   \n",
       "60872    DEL   1125  [1k,2.5k)  True           1.0      NaN        0.4475   \n",
       "60873    DEL   1125  [1k,2.5k)  True           1.0      NaN        0.4475   \n",
       "60874    DEL   1124  [1k,2.5k)  True           1.0      NaN        0.4475   \n",
       "\n",
       "       predicted_vaf state                                      hash  base_id  \\\n",
       "60870           0.30    tp  357fbf73288d94b8817c3dd51777a1caa042803e  29962.1   \n",
       "60871           0.10    tp  9ccf72e95e205723a640c1ca1efcc1d9c7d49177  29962.1   \n",
       "60872           0.17    tp  db2fc18a48b8c671cca408e711adc9890d4440f8  29962.1   \n",
       "60873           0.09    tp  fcc306cc8fa84d2409f63e2e25ec2fd57982a322  29962.1   \n",
       "60874           0.23    tp  b931b6f92a442fe445588e21bf9a0d9dda7b5891  29962.1   \n",
       "\n",
       "       comp_id expected_vaf_bin predicted_vaf_bin  matching_vaf_bin  vaf-delta  \n",
       "60870  29962.1           Medium            Medium              True    -0.1475  \n",
       "60871  29962.2           Medium               Low             False    -0.3475  \n",
       "60872  29962.3           Medium               Low             False    -0.2775  \n",
       "60873  29962.4           Medium               Low             False    -0.3575  \n",
       "60874  29962.5           Medium               Low             False    -0.2175  "
      ]
     },
     "execution_count": 142,
     "metadata": {},
     "output_type": "execute_result"
    }
   ],
   "source": [
    "all_comp[all_comp['base_id'] == 29962.1]"
   ]
  },
  {
   "cell_type": "code",
   "execution_count": 135,
   "id": "89daac2e-1ce5-4d8a-b864-1c39404ee406",
   "metadata": {},
   "outputs": [
    {
     "data": {
      "text/plain": [
       "state\n",
       "tp    14172\n",
       "fp      781\n",
       "Name: count, dtype: int64"
      ]
     },
     "execution_count": 135,
     "metadata": {},
     "output_type": "execute_result"
    }
   ],
   "source": [
    "all_comp[all_comp['comp_id'].isin(base['comp_id'])]['state'].value_counts()"
   ]
  },
  {
   "cell_type": "code",
   "execution_count": 136,
   "id": "04b11dc8-ba1a-498d-b9b6-bdae69055e89",
   "metadata": {},
   "outputs": [
    {
     "data": {
      "text/plain": [
       "state\n",
       "tp    10977\n",
       "fp      883\n",
       "Name: count, dtype: int64"
      ]
     },
     "execution_count": 136,
     "metadata": {},
     "output_type": "execute_result"
    }
   ],
   "source": [
    "all_comp[all_comp['base_id'].isin(base['base_id'])]['state'].value_counts()"
   ]
  },
  {
   "cell_type": "code",
   "execution_count": 138,
   "id": "d862c3b9-76a1-4db7-b120-591f8de18a37",
   "metadata": {},
   "outputs": [
    {
     "data": {
      "text/plain": [
       "state\n",
       "fn        12667\n",
       "tpbase    10965\n",
       "Name: count, dtype: int64"
      ]
     },
     "execution_count": 138,
     "metadata": {},
     "output_type": "execute_result"
    }
   ],
   "source": [
    "base[base['comp_id'].isin(all_comp['comp_id'])]['state'].value_counts()"
   ]
  },
  {
   "cell_type": "code",
   "execution_count": 137,
   "id": "7727d0b5-a15d-48f6-8140-74fef07f740a",
   "metadata": {},
   "outputs": [
    {
     "data": {
      "text/plain": [
       "state\n",
       "tpbase    10960\n",
       "fn          756\n",
       "Name: count, dtype: int64"
      ]
     },
     "execution_count": 137,
     "metadata": {},
     "output_type": "execute_result"
    }
   ],
   "source": [
    "base[base['base_id'].isin(all_comp['base_id'])]['state'].value_counts()"
   ]
  },
  {
   "cell_type": "code",
   "execution_count": 112,
   "id": "83554a47-11eb-490e-bbaa-5a8d672736ad",
   "metadata": {},
   "outputs": [
    {
     "data": {
      "text/plain": [
       "(0.9372990991706021, 0.3195116265516639, 0.47656811580646535)"
      ]
     },
     "execution_count": 112,
     "metadata": {},
     "output_type": "execute_result"
    }
   ],
   "source": [
    "a = base['state'].value_counts()\n",
    "b = all_comp['state'].value_counts()\n",
    "tmp = pd.concat([a, b])\n",
    "truvari.performance_metrics(**tmp)"
   ]
  },
  {
   "cell_type": "code",
   "execution_count": 120,
   "id": "ab5313a6-45dd-46f3-a1f9-065dd2f5d219",
   "metadata": {},
   "outputs": [
    {
     "data": {
      "text/plain": [
       "state\n",
       "tp    10976\n",
       "fp      822\n",
       "Name: count, dtype: int64"
      ]
     },
     "execution_count": 120,
     "metadata": {},
     "output_type": "execute_result"
    }
   ],
   "source": [
    "all_comp[all_comp['comp_id'].isin(base['base_id'])]['state'].value_counts()"
   ]
  },
  {
   "cell_type": "code",
   "execution_count": 119,
   "id": "26e6d8bb-bf8d-4732-a806-3d73d2e50eea",
   "metadata": {},
   "outputs": [
    {
     "data": {
      "text/plain": [
       "state\n",
       "fn        14561\n",
       "tpbase     7935\n",
       "Name: count, dtype: int64"
      ]
     },
     "execution_count": 119,
     "metadata": {},
     "output_type": "execute_result"
    }
   ],
   "source": [
    "base[base['comp_id'].isin(all_comp['base_id'])]['state'].value_counts()"
   ]
  },
  {
   "cell_type": "code",
   "execution_count": 114,
   "id": "cfad0d62-a296-4ecb-b4b2-3e5bb0d8ad2e",
   "metadata": {},
   "outputs": [
    {
     "data": {
      "text/plain": [
       "0.34139518619966197"
      ]
     },
     "execution_count": 114,
     "metadata": {},
     "output_type": "execute_result"
    }
   ],
   "source": [
    "base['base_id'].isin(all_comp['base_id']).mean()"
   ]
  },
  {
   "cell_type": "code",
   "execution_count": 101,
   "id": "5bfb3ed1-4d50-4e7c-8cc8-08f5b3705dd7",
   "metadata": {},
   "outputs": [
    {
     "data": {
      "text/plain": [
       "(1.0, 0.3195116265516639, 0.48428770178654246)"
      ]
     },
     "execution_count": 101,
     "metadata": {},
     "output_type": "execute_result"
    }
   ],
   "source": [
    "exclusive_recall_subset = mosaic[(mosaic['expected_vaf'] < 0.30)]\n",
    "truvari.performance_metrics(**exclusive_recall_subset['state'].value_counts(), fp=0)"
   ]
  },
  {
   "cell_type": "code",
   "execution_count": 103,
   "id": "adecf4c6-567f-43f6-b4ce-127c8fa109a4",
   "metadata": {},
   "outputs": [
    {
     "data": {
      "text/plain": [
       "(44079, 48687)"
      ]
     },
     "execution_count": 103,
     "metadata": {},
     "output_type": "execute_result"
    }
   ],
   "source": [
    "len(exclusive_recall_subset), len(recall_subset)"
   ]
  },
  {
   "cell_type": "code",
   "execution_count": 115,
   "id": "afe62db3-de90-4ad8-938e-f8c7ff5ddbf5",
   "metadata": {},
   "outputs": [
    {
     "data": {
      "text/html": [
       "<div>\n",
       "<style scoped>\n",
       "    .dataframe tbody tr th:only-of-type {\n",
       "        vertical-align: middle;\n",
       "    }\n",
       "\n",
       "    .dataframe tbody tr th {\n",
       "        vertical-align: top;\n",
       "    }\n",
       "\n",
       "    .dataframe thead th {\n",
       "        text-align: right;\n",
       "    }\n",
       "</style>\n",
       "<table border=\"1\" class=\"dataframe\">\n",
       "  <thead>\n",
       "    <tr style=\"text-align: right;\">\n",
       "      <th></th>\n",
       "      <th>svtype</th>\n",
       "      <th>svlen</th>\n",
       "      <th>szbin</th>\n",
       "      <th>TRF</th>\n",
       "      <th>NumNeighbors</th>\n",
       "      <th>NeighId</th>\n",
       "      <th>expected_vaf</th>\n",
       "      <th>predicted_vaf</th>\n",
       "      <th>state</th>\n",
       "      <th>hash</th>\n",
       "      <th>base_id</th>\n",
       "      <th>comp_id</th>\n",
       "      <th>expected_vaf_bin</th>\n",
       "      <th>predicted_vaf_bin</th>\n",
       "      <th>matching_vaf_bin</th>\n",
       "      <th>vaf-delta</th>\n",
       "    </tr>\n",
       "  </thead>\n",
       "  <tbody>\n",
       "    <tr>\n",
       "      <th>1</th>\n",
       "      <td>INS</td>\n",
       "      <td>354</td>\n",
       "      <td>[300,400)</td>\n",
       "      <td>True</td>\n",
       "      <td>3.0</td>\n",
       "      <td>19.0</td>\n",
       "      <td>0.0500</td>\n",
       "      <td>0.10</td>\n",
       "      <td>tpbase</td>\n",
       "      <td>bea5a92dfe7253692b5349418e67534637181dfe</td>\n",
       "      <td>10.1</td>\n",
       "      <td>10.1</td>\n",
       "      <td>Low</td>\n",
       "      <td>Low</td>\n",
       "      <td>True</td>\n",
       "      <td>0.0500</td>\n",
       "    </tr>\n",
       "    <tr>\n",
       "      <th>6</th>\n",
       "      <td>DEL</td>\n",
       "      <td>597</td>\n",
       "      <td>[400,600)</td>\n",
       "      <td>False</td>\n",
       "      <td>0.0</td>\n",
       "      <td>44776.0</td>\n",
       "      <td>0.1000</td>\n",
       "      <td>0.13</td>\n",
       "      <td>tpbase</td>\n",
       "      <td>0837495609fcbf2978b5e8e98122eaf48324d10c</td>\n",
       "      <td>10007.0</td>\n",
       "      <td>10007.0</td>\n",
       "      <td>Low</td>\n",
       "      <td>Low</td>\n",
       "      <td>True</td>\n",
       "      <td>0.0300</td>\n",
       "    </tr>\n",
       "    <tr>\n",
       "      <th>8</th>\n",
       "      <td>INS</td>\n",
       "      <td>62</td>\n",
       "      <td>[50,100)</td>\n",
       "      <td>True</td>\n",
       "      <td>0.0</td>\n",
       "      <td>44789.0</td>\n",
       "      <td>0.0500</td>\n",
       "      <td>0.05</td>\n",
       "      <td>tpbase</td>\n",
       "      <td>c52392c54ed83f2ea6066f0eed0b5268c8318af6</td>\n",
       "      <td>10012.0</td>\n",
       "      <td>10012.0</td>\n",
       "      <td>Low</td>\n",
       "      <td>Low</td>\n",
       "      <td>True</td>\n",
       "      <td>0.0000</td>\n",
       "    </tr>\n",
       "    <tr>\n",
       "      <th>9</th>\n",
       "      <td>DEL</td>\n",
       "      <td>71</td>\n",
       "      <td>[50,100)</td>\n",
       "      <td>True</td>\n",
       "      <td>0.0</td>\n",
       "      <td>44790.0</td>\n",
       "      <td>0.1200</td>\n",
       "      <td>0.13</td>\n",
       "      <td>tpbase</td>\n",
       "      <td>226b10eb5124d54397c284af5bf20fea47ff166a</td>\n",
       "      <td>10013.0</td>\n",
       "      <td>10013.0</td>\n",
       "      <td>Low</td>\n",
       "      <td>Low</td>\n",
       "      <td>True</td>\n",
       "      <td>0.0100</td>\n",
       "    </tr>\n",
       "    <tr>\n",
       "      <th>10</th>\n",
       "      <td>DEL</td>\n",
       "      <td>252</td>\n",
       "      <td>[200,300)</td>\n",
       "      <td>True</td>\n",
       "      <td>8.0</td>\n",
       "      <td>44792.0</td>\n",
       "      <td>0.0600</td>\n",
       "      <td>0.10</td>\n",
       "      <td>tpbase</td>\n",
       "      <td>cb537ac0ed147930371d54d5f5d8d3c7fcaddae8</td>\n",
       "      <td>10014.2</td>\n",
       "      <td>10014.0</td>\n",
       "      <td>Low</td>\n",
       "      <td>Low</td>\n",
       "      <td>True</td>\n",
       "      <td>0.0400</td>\n",
       "    </tr>\n",
       "    <tr>\n",
       "      <th>...</th>\n",
       "      <td>...</td>\n",
       "      <td>...</td>\n",
       "      <td>...</td>\n",
       "      <td>...</td>\n",
       "      <td>...</td>\n",
       "      <td>...</td>\n",
       "      <td>...</td>\n",
       "      <td>...</td>\n",
       "      <td>...</td>\n",
       "      <td>...</td>\n",
       "      <td>...</td>\n",
       "      <td>...</td>\n",
       "      <td>...</td>\n",
       "      <td>...</td>\n",
       "      <td>...</td>\n",
       "      <td>...</td>\n",
       "    </tr>\n",
       "    <tr>\n",
       "      <th>72212</th>\n",
       "      <td>INS</td>\n",
       "      <td>66</td>\n",
       "      <td>[50,100)</td>\n",
       "      <td>False</td>\n",
       "      <td>0.0</td>\n",
       "      <td>NaN</td>\n",
       "      <td>0.0500</td>\n",
       "      <td>0.07</td>\n",
       "      <td>tp</td>\n",
       "      <td>bcdcc6a12c3d81ac75460eac001e1ee8c644e69b</td>\n",
       "      <td>18391.0</td>\n",
       "      <td>18391.0</td>\n",
       "      <td>Low</td>\n",
       "      <td>Low</td>\n",
       "      <td>True</td>\n",
       "      <td>0.0200</td>\n",
       "    </tr>\n",
       "    <tr>\n",
       "      <th>72220</th>\n",
       "      <td>INS</td>\n",
       "      <td>94</td>\n",
       "      <td>[50,100)</td>\n",
       "      <td>True</td>\n",
       "      <td>10.0</td>\n",
       "      <td>NaN</td>\n",
       "      <td>0.0600</td>\n",
       "      <td>0.08</td>\n",
       "      <td>tp</td>\n",
       "      <td>7f4ed4a1bb98f898a4e5baa32429a0298ac94ff7</td>\n",
       "      <td>18401.5</td>\n",
       "      <td>18401.0</td>\n",
       "      <td>Low</td>\n",
       "      <td>Low</td>\n",
       "      <td>True</td>\n",
       "      <td>0.0200</td>\n",
       "    </tr>\n",
       "    <tr>\n",
       "      <th>72223</th>\n",
       "      <td>DEL</td>\n",
       "      <td>357</td>\n",
       "      <td>[300,400)</td>\n",
       "      <td>True</td>\n",
       "      <td>0.0</td>\n",
       "      <td>NaN</td>\n",
       "      <td>0.0700</td>\n",
       "      <td>0.05</td>\n",
       "      <td>tp</td>\n",
       "      <td>ca89728e2e01ee5b27c8dd27b64ec08c19a9067d</td>\n",
       "      <td>18402.0</td>\n",
       "      <td>18402.0</td>\n",
       "      <td>Low</td>\n",
       "      <td>Low</td>\n",
       "      <td>True</td>\n",
       "      <td>-0.0200</td>\n",
       "    </tr>\n",
       "    <tr>\n",
       "      <th>72225</th>\n",
       "      <td>INS</td>\n",
       "      <td>57</td>\n",
       "      <td>[50,100)</td>\n",
       "      <td>True</td>\n",
       "      <td>1.0</td>\n",
       "      <td>NaN</td>\n",
       "      <td>0.0500</td>\n",
       "      <td>0.09</td>\n",
       "      <td>tp</td>\n",
       "      <td>cf46a851e37ab209981be55f3aa09d0341337767</td>\n",
       "      <td>18407.0</td>\n",
       "      <td>18407.0</td>\n",
       "      <td>Low</td>\n",
       "      <td>Low</td>\n",
       "      <td>True</td>\n",
       "      <td>0.0400</td>\n",
       "    </tr>\n",
       "    <tr>\n",
       "      <th>72229</th>\n",
       "      <td>INS</td>\n",
       "      <td>1310</td>\n",
       "      <td>[1k,2.5k)</td>\n",
       "      <td>True</td>\n",
       "      <td>11.0</td>\n",
       "      <td>NaN</td>\n",
       "      <td>0.0625</td>\n",
       "      <td>0.18</td>\n",
       "      <td>tp</td>\n",
       "      <td>7f1b3a12df98cfc37b30dddac799c0e18ec4df49</td>\n",
       "      <td>18410.8</td>\n",
       "      <td>18410.0</td>\n",
       "      <td>Low</td>\n",
       "      <td>Low</td>\n",
       "      <td>True</td>\n",
       "      <td>0.1175</td>\n",
       "    </tr>\n",
       "  </tbody>\n",
       "</table>\n",
       "<p>18893 rows × 16 columns</p>\n",
       "</div>"
      ],
      "text/plain": [
       "      svtype  svlen      szbin    TRF  NumNeighbors  NeighId  expected_vaf  \\\n",
       "1        INS    354  [300,400)   True           3.0     19.0        0.0500   \n",
       "6        DEL    597  [400,600)  False           0.0  44776.0        0.1000   \n",
       "8        INS     62   [50,100)   True           0.0  44789.0        0.0500   \n",
       "9        DEL     71   [50,100)   True           0.0  44790.0        0.1200   \n",
       "10       DEL    252  [200,300)   True           8.0  44792.0        0.0600   \n",
       "...      ...    ...        ...    ...           ...      ...           ...   \n",
       "72212    INS     66   [50,100)  False           0.0      NaN        0.0500   \n",
       "72220    INS     94   [50,100)   True          10.0      NaN        0.0600   \n",
       "72223    DEL    357  [300,400)   True           0.0      NaN        0.0700   \n",
       "72225    INS     57   [50,100)   True           1.0      NaN        0.0500   \n",
       "72229    INS   1310  [1k,2.5k)   True          11.0      NaN        0.0625   \n",
       "\n",
       "       predicted_vaf   state                                      hash  \\\n",
       "1               0.10  tpbase  bea5a92dfe7253692b5349418e67534637181dfe   \n",
       "6               0.13  tpbase  0837495609fcbf2978b5e8e98122eaf48324d10c   \n",
       "8               0.05  tpbase  c52392c54ed83f2ea6066f0eed0b5268c8318af6   \n",
       "9               0.13  tpbase  226b10eb5124d54397c284af5bf20fea47ff166a   \n",
       "10              0.10  tpbase  cb537ac0ed147930371d54d5f5d8d3c7fcaddae8   \n",
       "...              ...     ...                                       ...   \n",
       "72212           0.07      tp  bcdcc6a12c3d81ac75460eac001e1ee8c644e69b   \n",
       "72220           0.08      tp  7f4ed4a1bb98f898a4e5baa32429a0298ac94ff7   \n",
       "72223           0.05      tp  ca89728e2e01ee5b27c8dd27b64ec08c19a9067d   \n",
       "72225           0.09      tp  cf46a851e37ab209981be55f3aa09d0341337767   \n",
       "72229           0.18      tp  7f1b3a12df98cfc37b30dddac799c0e18ec4df49   \n",
       "\n",
       "       base_id  comp_id expected_vaf_bin predicted_vaf_bin  matching_vaf_bin  \\\n",
       "1         10.1     10.1              Low               Low              True   \n",
       "6      10007.0  10007.0              Low               Low              True   \n",
       "8      10012.0  10012.0              Low               Low              True   \n",
       "9      10013.0  10013.0              Low               Low              True   \n",
       "10     10014.2  10014.0              Low               Low              True   \n",
       "...        ...      ...              ...               ...               ...   \n",
       "72212  18391.0  18391.0              Low               Low              True   \n",
       "72220  18401.5  18401.0              Low               Low              True   \n",
       "72223  18402.0  18402.0              Low               Low              True   \n",
       "72225  18407.0  18407.0              Low               Low              True   \n",
       "72229  18410.8  18410.0              Low               Low              True   \n",
       "\n",
       "       vaf-delta  \n",
       "1         0.0500  \n",
       "6         0.0300  \n",
       "8         0.0000  \n",
       "9         0.0100  \n",
       "10        0.0400  \n",
       "...          ...  \n",
       "72212     0.0200  \n",
       "72220     0.0200  \n",
       "72223    -0.0200  \n",
       "72225     0.0400  \n",
       "72229     0.1175  \n",
       "\n",
       "[18893 rows x 16 columns]"
      ]
     },
     "execution_count": 115,
     "metadata": {},
     "output_type": "execute_result"
    }
   ],
   "source": [
    "recall_subset = mosaic[(mosaic['predicted_vaf'] < 0.30)\n",
    "                     | (mosaic['expected_vaf'] < 0.30)]\n",
    "recall_subset"
   ]
  },
  {
   "cell_type": "code",
   "execution_count": 99,
   "id": "3988cc15-17c3-472e-8013-84125f519ee5",
   "metadata": {},
   "outputs": [
    {
     "data": {
      "text/plain": [
       "(0.919874558996472, 0.3500779249693866, 0.5071493318237754)"
      ]
     },
     "execution_count": 99,
     "metadata": {},
     "output_type": "execute_result"
    }
   ],
   "source": [
    "truvari.performance_metrics(**recall_subset['state'].value_counts())"
   ]
  },
  {
   "cell_type": "code",
   "execution_count": 63,
   "id": "139cf2db-2925-496e-be84-cce9943b5c7c",
   "metadata": {},
   "outputs": [
    {
     "data": {
      "text/plain": [
       "<Axes: xlabel='VAF delta', ylabel='coverage'>"
      ]
     },
     "execution_count": 63,
     "metadata": {},
     "output_type": "execute_result"
    },
    {
     "data": {
      "image/png": "[encoded data removed]",
      "text/plain": [
       "<Figure size 640x480 with 1 Axes>"
      ]
     },
     "metadata": {},
     "output_type": "display_data"
    }
   ],
   "source": [
    "sb.scatterplot(data=view, x=view['VAF delta'].abs(), y='coverage')"
   ]
  },
  {
   "cell_type": "code",
   "execution_count": 59,
   "id": "5f12953d-e97e-489c-bde1-a1e2622e303a",
   "metadata": {},
   "outputs": [
    {
     "data": {
      "text/plain": [
       "PearsonRResult(statistic=-0.018398016587624744, pvalue=0.038401351659267925)"
      ]
     },
     "execution_count": 59,
     "metadata": {},
     "output_type": "execute_result"
    }
   ],
   "source": [
    "pearsonr(view['VAF delta'].abs(), view['coverage'])"
   ]
  },
  {
   "cell_type": "code",
   "execution_count": 50,
   "id": "0ce5800f-deb9-497c-b7f7-51141841f57a",
   "metadata": {},
   "outputs": [
    {
     "data": {
      "text/html": [
       "<div>\n",
       "<style scoped>\n",
       "    .dataframe tbody tr th:only-of-type {\n",
       "        vertical-align: middle;\n",
       "    }\n",
       "\n",
       "    .dataframe tbody tr th {\n",
       "        vertical-align: top;\n",
       "    }\n",
       "\n",
       "    .dataframe thead th {\n",
       "        text-align: right;\n",
       "    }\n",
       "</style>\n",
       "<table border=\"1\" class=\"dataframe\">\n",
       "  <thead>\n",
       "    <tr style=\"text-align: right;\">\n",
       "      <th></th>\n",
       "      <th>Low VAF</th>\n",
       "      <th>Medium VAF</th>\n",
       "      <th>High VAF</th>\n",
       "    </tr>\n",
       "  </thead>\n",
       "  <tbody>\n",
       "    <tr>\n",
       "      <th>count</th>\n",
       "      <td>8131.000000</td>\n",
       "      <td>2994.000000</td>\n",
       "      <td>1541.000000</td>\n",
       "    </tr>\n",
       "    <tr>\n",
       "      <th>mean</th>\n",
       "      <td>0.029866</td>\n",
       "      <td>-0.028806</td>\n",
       "      <td>-0.081944</td>\n",
       "    </tr>\n",
       "    <tr>\n",
       "      <th>50%</th>\n",
       "      <td>0.015000</td>\n",
       "      <td>-0.023250</td>\n",
       "      <td>-0.039200</td>\n",
       "    </tr>\n",
       "    <tr>\n",
       "      <th>std</th>\n",
       "      <td>0.058225</td>\n",
       "      <td>0.073174</td>\n",
       "      <td>0.127803</td>\n",
       "    </tr>\n",
       "    <tr>\n",
       "      <th>PearsonR</th>\n",
       "      <td>0.534601</td>\n",
       "      <td>0.632575</td>\n",
       "      <td>0.635039</td>\n",
       "    </tr>\n",
       "    <tr>\n",
       "      <th>MSE</th>\n",
       "      <td>0.004282</td>\n",
       "      <td>0.006182</td>\n",
       "      <td>0.023038</td>\n",
       "    </tr>\n",
       "  </tbody>\n",
       "</table>\n",
       "</div>"
      ],
      "text/plain": [
       "              Low VAF   Medium VAF     High VAF\n",
       "count     8131.000000  2994.000000  1541.000000\n",
       "mean         0.029866    -0.028806    -0.081944\n",
       "50%          0.015000    -0.023250    -0.039200\n",
       "std          0.058225     0.073174     0.127803\n",
       "PearsonR     0.534601     0.632575     0.635039\n",
       "MSE          0.004282     0.006182     0.023038"
      ]
     },
     "execution_count": 52,
     "metadata": {},
     "output_type": "execute_result"
    }
   ],
   "source": [
    "parts = []\n",
    "mask = (view['expected_vaf'] < 0.30)\n",
    "parts.append((view[mask]['observed_vaf'] - view[mask]['expected_vaf']).describe().to_frame())\n",
    "parts[-1].loc['PearsonR'] = pearsonr(view[mask]['observed_vaf'], view[mask]['expected_vaf'])[0]\n",
    "MSE = ((view[mask]['expected_vaf'] - view[mask]['observed_vaf']) ** 2).sum()  / len(view[mask])\n",
    "parts[-1].loc['MSE'] = MSE\n",
    "\n",
    "mask = view['expected_vaf'].between(0.30, 0.70)\n",
    "parts.append((view[mask]['observed_vaf'] - view[mask]['expected_vaf']).describe().to_frame())\n",
    "parts[-1].loc['PearsonR'] = pearsonr(view[mask]['observed_vaf'], view[mask]['expected_vaf'])[0]\n",
    "MSE = ((view[mask]['expected_vaf'] - view[mask]['observed_vaf']) ** 2).sum()  / len(view[mask])\n",
    "parts[-1].loc['MSE'] = MSE\n",
    "\n",
    "mask = view['expected_vaf'] > 0.70\n",
    "parts.append((view[mask]['observed_vaf'] - view[mask]['expected_vaf']).describe().to_frame())\n",
    "parts[-1].loc['PearsonR'] = pearsonr(view[mask]['observed_vaf'], view[mask]['expected_vaf'])[0]\n",
    "MSE = ((view[mask]['expected_vaf'] - view[mask]['observed_vaf']) ** 2).sum()  / len(view[mask])\n",
    "parts[-1].loc['MSE'] = MSE\n",
    "\n",
    "vaf_report = pd.concat(parts, axis=1)\n",
    "vaf_report.columns = [\"Low VAF\", \"Medium VAF\", \"High VAF\"]\n",
    "\n",
    "vaf_report.loc[['count', 'mean', '50%', 'std', 'PearsonR', 'MSE']]"
   ]
  },
  {
   "cell_type": "code",
   "execution_count": null,
   "id": "8074ba25-8587-4b36-85d8-009cecd271b2",
   "metadata": {},
   "outputs": [
    {
     "name": "stderr",
     "output_type": "stream",
     "text": [
      "No artists with labels found to put in legend.  Note that artists whose label start with an underscore are ignored when legend() is called with no argument.\n"
     ]
    },
    {
     "data": {
      "image/png": "[encoded data removed]",
      "text/plain": [
       "<Figure size 640x480 with 1 Axes>"
      ]
     },
     "metadata": {},
     "output_type": "display_data"
    }
   ],
   "source": [
    "p = sb.boxplot(data=view, x='vaf_bin', y='observed_vaf')\n",
    "#sb.kdeplot(data=comp_vars, x=\"predicted_vaf\", y=\"expected_vaf\", hue=\"vaf_bin\")\n",
    "p.set(title=\"Observed vs Expected VAF\")\n",
    "plt.legend().remove()"
   ]
  },
  {
   "cell_type": "markdown",
   "id": "ee976ef7-f98b-4ac2-9c38-b5e3141b8470",
   "metadata": {},
   "source": [
    "# Max Recall Estimate"
   ]
  },
  {
   "cell_type": "code",
   "execution_count": null,
   "id": "37fdb14c-2590-4156-a950-0f7edf26e020",
   "metadata": {},
   "outputs": [
    {
     "data": {
      "text/plain": [
       "327"
      ]
     },
     "execution_count": 54,
     "metadata": {},
     "output_type": "execute_result"
    }
   ],
   "source": [
    "x = measure[(measure['read_count'] == 0) & (measure['expected_len'].abs() >= 50)]\n",
    "len(x)"
   ]
  },
  {
   "cell_type": "code",
   "execution_count": null,
   "id": "ff842742-5909-4d5b-b08a-8437216fca87",
   "metadata": {},
   "outputs": [
    {
     "data": {
      "text/plain": [
       "2390"
      ]
     },
     "execution_count": 55,
     "metadata": {},
     "output_type": "execute_result"
    }
   ],
   "source": [
    "len(measure[(measure['expected_len'].abs() >= 50)])"
   ]
  },
  {
   "cell_type": "code",
   "execution_count": null,
   "id": "243533df-0614-48ef-92e7-4d7bf279f717",
   "metadata": {},
   "outputs": [
    {
     "data": {
      "text/plain": [
       "0.8631799163179916"
      ]
     },
     "execution_count": 56,
     "metadata": {},
     "output_type": "execute_result"
    }
   ],
   "source": [
    "1 - (len(x) / len(measure[(measure['expected_len'].abs() >= 50)]))"
   ]
  },
  {
   "cell_type": "code",
   "execution_count": 57,
   "id": "7f7c22be-9051-46b5-80b9-f5ce68ae7b54",
   "metadata": {},
   "outputs": [
    {
     "data": {
      "image/png": "[encoded data removed]",
      "text/plain": [
       "<Figure size 640x480 with 1 Axes>"
      ]
     },
     "metadata": {},
     "output_type": "display_data"
    }
   ],
   "source": [
    "p = sb.histplot(data=view, x=\"observed_vaf\", binwidth=0.02)\n",
    "_ = p.set(title=\"Observed VAF distribution\", xlabel=\"VAF\")"
   ]
  },
  {
   "cell_type": "code",
   "execution_count": 20,
   "id": "7635cc09-a32e-4427-8d5d-b2355596b4a8",
   "metadata": {},
   "outputs": [
    {
     "data": {
      "text/html": [
       "<div>\n",
       "<style scoped>\n",
       "    .dataframe tbody tr th:only-of-type {\n",
       "        vertical-align: middle;\n",
       "    }\n",
       "\n",
       "    .dataframe tbody tr th {\n",
       "        vertical-align: top;\n",
       "    }\n",
       "\n",
       "    .dataframe thead th {\n",
       "        text-align: right;\n",
       "    }\n",
       "</style>\n",
       "<table border=\"1\" class=\"dataframe\">\n",
       "  <thead>\n",
       "    <tr style=\"text-align: right;\">\n",
       "      <th></th>\n",
       "      <th>TP</th>\n",
       "      <th>FN</th>\n",
       "      <th>total</th>\n",
       "      <th>recall</th>\n",
       "      <th>VAF Bin</th>\n",
       "    </tr>\n",
       "  </thead>\n",
       "  <tbody>\n",
       "    <tr>\n",
       "      <th>0</th>\n",
       "      <td>27611</td>\n",
       "      <td>8609</td>\n",
       "      <td>36220</td>\n",
       "      <td>0.762314</td>\n",
       "      <td>Low</td>\n",
       "    </tr>\n",
       "    <tr>\n",
       "      <th>1</th>\n",
       "      <td>10733</td>\n",
       "      <td>37</td>\n",
       "      <td>10770</td>\n",
       "      <td>0.996565</td>\n",
       "      <td>Medium</td>\n",
       "    </tr>\n",
       "    <tr>\n",
       "      <th>2</th>\n",
       "      <td>3682</td>\n",
       "      <td>6</td>\n",
       "      <td>3688</td>\n",
       "      <td>0.998373</td>\n",
       "      <td>High</td>\n",
       "    </tr>\n",
       "  </tbody>\n",
       "</table>\n",
       "</div>"
      ],
      "text/plain": [
       "      TP    FN  total    recall VAF Bin\n",
       "0  27611  8609  36220  0.762314     Low\n",
       "1  10733    37  10770  0.996565  Medium\n",
       "2   3682     6   3688  0.998373    High"
      ]
     },
     "execution_count": 20,
     "metadata": {},
     "output_type": "execute_result"
    }
   ],
   "source": [
    "subset = measure[(measure['expected_len'].abs() >= 50)]\n",
    "low = (subset['expected_vaf'] < 0.30)\n",
    "medium = subset['expected_vaf'].between(0.30, 0.70)\n",
    "high = subset['expected_vaf'] > 0.70\n",
    "\n",
    "def foo(x):\n",
    "    missing = (x['read_count'] == 0).sum()\n",
    "    total = len(x)\n",
    "    tp = total - missing\n",
    "    return [tp, missing, total, tp/total]\n",
    "\n",
    "r = pd.DataFrame([foo(subset[x]) for x in [low, medium, high]], columns=['TP', 'FN', 'total', 'recall'])\n",
    "r['VAF Bin'] = ['Low', 'Medium', 'High']\n",
    "r"
   ]
  },
  {
   "cell_type": "code",
   "execution_count": 16,
   "id": "6a6b8221-9bed-4ace-a7bc-1d9f3d926cf5",
   "metadata": {},
   "outputs": [
    {
     "data": {
      "text/html": [
       "<div>\n",
       "<style scoped>\n",
       "    .dataframe tbody tr th:only-of-type {\n",
       "        vertical-align: middle;\n",
       "    }\n",
       "\n",
       "    .dataframe tbody tr th {\n",
       "        vertical-align: top;\n",
       "    }\n",
       "\n",
       "    .dataframe thead th {\n",
       "        text-align: right;\n",
       "    }\n",
       "</style>\n",
       "<table border=\"1\" class=\"dataframe\">\n",
       "  <thead>\n",
       "    <tr style=\"text-align: right;\">\n",
       "      <th></th>\n",
       "      <th>chrom</th>\n",
       "      <th>start</th>\n",
       "      <th>end</th>\n",
       "      <th>expected_len</th>\n",
       "      <th>read_count</th>\n",
       "      <th>observed_vaf</th>\n",
       "      <th>expected_vaf</th>\n",
       "      <th>vaf_bin</th>\n",
       "      <th>VAF delta</th>\n",
       "    </tr>\n",
       "  </thead>\n",
       "  <tbody>\n",
       "    <tr>\n",
       "      <th>0</th>\n",
       "      <td>chr1</td>\n",
       "      <td>840404</td>\n",
       "      <td>840466</td>\n",
       "      <td>0.00</td>\n",
       "      <td>90</td>\n",
       "      <td>0.9184</td>\n",
       "      <td>0.9900</td>\n",
       "      <td>High</td>\n",
       "      <td>-0.0716</td>\n",
       "    </tr>\n",
       "    <tr>\n",
       "      <th>1</th>\n",
       "      <td>chr1</td>\n",
       "      <td>839177</td>\n",
       "      <td>839680</td>\n",
       "      <td>-42.00</td>\n",
       "      <td>95</td>\n",
       "      <td>0.9794</td>\n",
       "      <td>0.9275</td>\n",
       "      <td>High</td>\n",
       "      <td>0.0519</td>\n",
       "    </tr>\n",
       "    <tr>\n",
       "      <th>2</th>\n",
       "      <td>chr1</td>\n",
       "      <td>839177</td>\n",
       "      <td>839680</td>\n",
       "      <td>0.00</td>\n",
       "      <td>2</td>\n",
       "      <td>0.0206</td>\n",
       "      <td>0.0625</td>\n",
       "      <td>Low</td>\n",
       "      <td>-0.0419</td>\n",
       "    </tr>\n",
       "    <tr>\n",
       "      <th>3</th>\n",
       "      <td>chr1</td>\n",
       "      <td>850622</td>\n",
       "      <td>850687</td>\n",
       "      <td>0.00</td>\n",
       "      <td>19</td>\n",
       "      <td>0.1696</td>\n",
       "      <td>0.9900</td>\n",
       "      <td>High</td>\n",
       "      <td>-0.8204</td>\n",
       "    </tr>\n",
       "    <tr>\n",
       "      <th>4</th>\n",
       "      <td>chr1</td>\n",
       "      <td>853415</td>\n",
       "      <td>853930</td>\n",
       "      <td>-49.00</td>\n",
       "      <td>98</td>\n",
       "      <td>0.9703</td>\n",
       "      <td>0.9275</td>\n",
       "      <td>High</td>\n",
       "      <td>0.0428</td>\n",
       "    </tr>\n",
       "    <tr>\n",
       "      <th>...</th>\n",
       "      <td>...</td>\n",
       "      <td>...</td>\n",
       "      <td>...</td>\n",
       "      <td>...</td>\n",
       "      <td>...</td>\n",
       "      <td>...</td>\n",
       "      <td>...</td>\n",
       "      <td>...</td>\n",
       "      <td>...</td>\n",
       "    </tr>\n",
       "    <tr>\n",
       "      <th>465255</th>\n",
       "      <td>chr9</td>\n",
       "      <td>138107101</td>\n",
       "      <td>138107291</td>\n",
       "      <td>1.75</td>\n",
       "      <td>91</td>\n",
       "      <td>1.0000</td>\n",
       "      <td>0.9800</td>\n",
       "      <td>High</td>\n",
       "      <td>0.0200</td>\n",
       "    </tr>\n",
       "    <tr>\n",
       "      <th>465256</th>\n",
       "      <td>chr9</td>\n",
       "      <td>138107726</td>\n",
       "      <td>138108356</td>\n",
       "      <td>-6.50</td>\n",
       "      <td>71</td>\n",
       "      <td>0.8353</td>\n",
       "      <td>0.8575</td>\n",
       "      <td>High</td>\n",
       "      <td>-0.0222</td>\n",
       "    </tr>\n",
       "    <tr>\n",
       "      <th>465257</th>\n",
       "      <td>chr9</td>\n",
       "      <td>138107726</td>\n",
       "      <td>138108356</td>\n",
       "      <td>1.00</td>\n",
       "      <td>12</td>\n",
       "      <td>0.1412</td>\n",
       "      <td>0.1325</td>\n",
       "      <td>Low</td>\n",
       "      <td>0.0087</td>\n",
       "    </tr>\n",
       "    <tr>\n",
       "      <th>465258</th>\n",
       "      <td>chr9</td>\n",
       "      <td>138099084</td>\n",
       "      <td>138099847</td>\n",
       "      <td>-32.00</td>\n",
       "      <td>1</td>\n",
       "      <td>0.0093</td>\n",
       "      <td>0.0100</td>\n",
       "      <td>Low</td>\n",
       "      <td>-0.0007</td>\n",
       "    </tr>\n",
       "    <tr>\n",
       "      <th>465259</th>\n",
       "      <td>chr9</td>\n",
       "      <td>138099084</td>\n",
       "      <td>138099847</td>\n",
       "      <td>0.00</td>\n",
       "      <td>30</td>\n",
       "      <td>0.2778</td>\n",
       "      <td>0.9800</td>\n",
       "      <td>High</td>\n",
       "      <td>-0.7022</td>\n",
       "    </tr>\n",
       "  </tbody>\n",
       "</table>\n",
       "<p>465260 rows × 9 columns</p>\n",
       "</div>"
      ],
      "text/plain": [
       "       chrom      start        end  expected_len  read_count  observed_vaf  \\\n",
       "0       chr1     840404     840466          0.00          90        0.9184   \n",
       "1       chr1     839177     839680        -42.00          95        0.9794   \n",
       "2       chr1     839177     839680          0.00           2        0.0206   \n",
       "3       chr1     850622     850687          0.00          19        0.1696   \n",
       "4       chr1     853415     853930        -49.00          98        0.9703   \n",
       "...      ...        ...        ...           ...         ...           ...   \n",
       "465255  chr9  138107101  138107291          1.75          91        1.0000   \n",
       "465256  chr9  138107726  138108356         -6.50          71        0.8353   \n",
       "465257  chr9  138107726  138108356          1.00          12        0.1412   \n",
       "465258  chr9  138099084  138099847        -32.00           1        0.0093   \n",
       "465259  chr9  138099084  138099847          0.00          30        0.2778   \n",
       "\n",
       "        expected_vaf vaf_bin  VAF delta  \n",
       "0             0.9900    High    -0.0716  \n",
       "1             0.9275    High     0.0519  \n",
       "2             0.0625     Low    -0.0419  \n",
       "3             0.9900    High    -0.8204  \n",
       "4             0.9275    High     0.0428  \n",
       "...              ...     ...        ...  \n",
       "465255        0.9800    High     0.0200  \n",
       "465256        0.8575    High    -0.0222  \n",
       "465257        0.1325     Low     0.0087  \n",
       "465258        0.0100     Low    -0.0007  \n",
       "465259        0.9800    High    -0.7022  \n",
       "\n",
       "[465260 rows x 9 columns]"
      ]
     },
     "execution_count": 16,
     "metadata": {},
     "output_type": "execute_result"
    }
   ],
   "source": [
    "measure"
   ]
  },
  {
   "cell_type": "code",
   "execution_count": 41,
   "id": "08c8414d-147b-4738-a79e-2aac61466b08",
   "metadata": {},
   "outputs": [],
   "source": [
    "washu_pacbio = measure.copy()"
   ]
  },
  {
   "cell_type": "code",
   "execution_count": 46,
   "id": "a50ed34b-a0b3-4f88-80de-c8f8477c2cfe",
   "metadata": {},
   "outputs": [],
   "source": [
    "bcm_ont = measure.copy()"
   ]
  },
  {
   "cell_type": "code",
   "execution_count": 53,
   "id": "2bbcb94a-732b-4752-83bb-a49656d3b38c",
   "metadata": {},
   "outputs": [],
   "source": [
    "bcm_pacbio = measure.copy()"
   ]
  },
  {
   "cell_type": "code",
   "execution_count": 60,
   "id": "8f2ecbbe-2b9f-4619-94fa-ca50efa25f59",
   "metadata": {},
   "outputs": [],
   "source": [
    "bo = bcm_ont[(bcm_ont['expected_len'].abs() >= 50) & (bcm_ont['read_count'] >= 1)].set_index(['chrom', 'start', 'end', 'expected_len'])\n",
    "bp = bcm_pacbio[(bcm_pacbio['expected_len'].abs() >= 50) & (bcm_pacbio['read_count'] >= 1)].set_index(['chrom', 'start', 'end', 'expected_len'])\n",
    "wp = washu_pacbio[(washu_pacbio['expected_len'].abs() >= 50) & (washu_pacbio['read_count'] >= 1)].set_index(['chrom', 'start', 'end', 'expected_len'])"
   ]
  },
  {
   "cell_type": "code",
   "execution_count": 61,
   "id": "7d948e0e-652d-4b74-9341-d100fbf71d5d",
   "metadata": {},
   "outputs": [
    {
     "data": {
      "text/html": [
       "<div>\n",
       "<style scoped>\n",
       "    .dataframe tbody tr th:only-of-type {\n",
       "        vertical-align: middle;\n",
       "    }\n",
       "\n",
       "    .dataframe tbody tr th {\n",
       "        vertical-align: top;\n",
       "    }\n",
       "\n",
       "    .dataframe thead th {\n",
       "        text-align: right;\n",
       "    }\n",
       "</style>\n",
       "<table border=\"1\" class=\"dataframe\">\n",
       "  <thead>\n",
       "    <tr style=\"text-align: right;\">\n",
       "      <th></th>\n",
       "      <th></th>\n",
       "      <th></th>\n",
       "      <th></th>\n",
       "      <th>read_count</th>\n",
       "      <th>observed_vaf</th>\n",
       "      <th>expected_vaf</th>\n",
       "      <th>vaf_bin</th>\n",
       "      <th>VAF delta</th>\n",
       "    </tr>\n",
       "    <tr>\n",
       "      <th>chrom</th>\n",
       "      <th>start</th>\n",
       "      <th>end</th>\n",
       "      <th>expected_len</th>\n",
       "      <th></th>\n",
       "      <th></th>\n",
       "      <th></th>\n",
       "      <th></th>\n",
       "      <th></th>\n",
       "    </tr>\n",
       "  </thead>\n",
       "  <tbody>\n",
       "    <tr>\n",
       "      <th rowspan=\"5\" valign=\"top\">chr1</th>\n",
       "      <th>872478</th>\n",
       "      <th>873203</th>\n",
       "      <th>-210.0</th>\n",
       "      <td>41</td>\n",
       "      <td>0.4940</td>\n",
       "      <td>0.4175</td>\n",
       "      <td>Medium</td>\n",
       "      <td>0.0765</td>\n",
       "    </tr>\n",
       "    <tr>\n",
       "      <th rowspan=\"3\" valign=\"top\">904387</th>\n",
       "      <th rowspan=\"3\" valign=\"top\">904830</th>\n",
       "      <th>-98.0</th>\n",
       "      <td>32</td>\n",
       "      <td>0.3368</td>\n",
       "      <td>0.4200</td>\n",
       "      <td>Medium</td>\n",
       "      <td>-0.0832</td>\n",
       "    </tr>\n",
       "    <tr>\n",
       "      <th>79.0</th>\n",
       "      <td>9</td>\n",
       "      <td>0.0947</td>\n",
       "      <td>0.0500</td>\n",
       "      <td>Low</td>\n",
       "      <td>0.0447</td>\n",
       "    </tr>\n",
       "    <tr>\n",
       "      <th>354.0</th>\n",
       "      <td>7</td>\n",
       "      <td>0.0737</td>\n",
       "      <td>0.0500</td>\n",
       "      <td>Low</td>\n",
       "      <td>0.0237</td>\n",
       "    </tr>\n",
       "    <tr>\n",
       "      <th>866379</th>\n",
       "      <th>867217</th>\n",
       "      <th>147.0</th>\n",
       "      <td>92</td>\n",
       "      <td>0.9787</td>\n",
       "      <td>0.9650</td>\n",
       "      <td>High</td>\n",
       "      <td>0.0137</td>\n",
       "    </tr>\n",
       "  </tbody>\n",
       "</table>\n",
       "</div>"
      ],
      "text/plain": [
       "                                  read_count  observed_vaf  expected_vaf  \\\n",
       "chrom start  end    expected_len                                           \n",
       "chr1  872478 873203 -210.0                41        0.4940        0.4175   \n",
       "      904387 904830 -98.0                 32        0.3368        0.4200   \n",
       "                     79.0                  9        0.0947        0.0500   \n",
       "                     354.0                 7        0.0737        0.0500   \n",
       "      866379 867217  147.0                92        0.9787        0.9650   \n",
       "\n",
       "                                 vaf_bin  VAF delta  \n",
       "chrom start  end    expected_len                     \n",
       "chr1  872478 873203 -210.0        Medium     0.0765  \n",
       "      904387 904830 -98.0         Medium    -0.0832  \n",
       "                     79.0            Low     0.0447  \n",
       "                     354.0           Low     0.0237  \n",
       "      866379 867217  147.0          High     0.0137  "
      ]
     },
     "execution_count": 61,
     "metadata": {},
     "output_type": "execute_result"
    }
   ],
   "source": [
    "bo.head()"
   ]
  },
  {
   "cell_type": "code",
   "execution_count": 86,
   "id": "e6e2f074-316c-4c54-bc18-4bfc926d1f95",
   "metadata": {},
   "outputs": [],
   "source": [
    "x = bo.join(bp, lsuffix='_bont', rsuffix='_bpac', how='outer')"
   ]
  },
  {
   "cell_type": "code",
   "execution_count": 87,
   "id": "1784cab9-5dc1-4aa0-8e56-abf12c1d689e",
   "metadata": {},
   "outputs": [
    {
     "data": {
      "text/html": [
       "<div>\n",
       "<style scoped>\n",
       "    .dataframe tbody tr th:only-of-type {\n",
       "        vertical-align: middle;\n",
       "    }\n",
       "\n",
       "    .dataframe tbody tr th {\n",
       "        vertical-align: top;\n",
       "    }\n",
       "\n",
       "    .dataframe thead th {\n",
       "        text-align: right;\n",
       "    }\n",
       "</style>\n",
       "<table border=\"1\" class=\"dataframe\">\n",
       "  <thead>\n",
       "    <tr style=\"text-align: right;\">\n",
       "      <th>read_count_bpac</th>\n",
       "      <th>False</th>\n",
       "      <th>True</th>\n",
       "    </tr>\n",
       "    <tr>\n",
       "      <th>read_count_bont</th>\n",
       "      <th></th>\n",
       "      <th></th>\n",
       "    </tr>\n",
       "  </thead>\n",
       "  <tbody>\n",
       "    <tr>\n",
       "      <th>False</th>\n",
       "      <td>38087.0</td>\n",
       "      <td>5243.0</td>\n",
       "    </tr>\n",
       "    <tr>\n",
       "      <th>True</th>\n",
       "      <td>3939.0</td>\n",
       "      <td>NaN</td>\n",
       "    </tr>\n",
       "  </tbody>\n",
       "</table>\n",
       "</div>"
      ],
      "text/plain": [
       "read_count_bpac    False   True \n",
       "read_count_bont                 \n",
       "False            38087.0  5243.0\n",
       "True              3939.0     NaN"
      ]
     },
     "execution_count": 87,
     "metadata": {},
     "output_type": "execute_result"
    }
   ],
   "source": [
    "x[['read_count_bont', 'read_count_bpac']].isna().value_counts().unstack()"
   ]
  },
  {
   "cell_type": "code",
   "execution_count": 80,
   "id": "bc69cdce-8ce9-412b-8186-b09834aa1194",
   "metadata": {},
   "outputs": [],
   "source": [
    "x = bp.join(wp, lsuffix='_bpac', rsuffix='_wpac', how='outer')"
   ]
  },
  {
   "cell_type": "code",
   "execution_count": 83,
   "id": "1a3b9429-1d53-4fe9-9c96-a35e13d068a5",
   "metadata": {},
   "outputs": [
    {
     "data": {
      "text/html": [
       "<div>\n",
       "<style scoped>\n",
       "    .dataframe tbody tr th:only-of-type {\n",
       "        vertical-align: middle;\n",
       "    }\n",
       "\n",
       "    .dataframe tbody tr th {\n",
       "        vertical-align: top;\n",
       "    }\n",
       "\n",
       "    .dataframe thead th {\n",
       "        text-align: right;\n",
       "    }\n",
       "</style>\n",
       "<table border=\"1\" class=\"dataframe\">\n",
       "  <thead>\n",
       "    <tr style=\"text-align: right;\">\n",
       "      <th>read_count_bpac</th>\n",
       "      <th>False</th>\n",
       "      <th>True</th>\n",
       "    </tr>\n",
       "    <tr>\n",
       "      <th>read_count_wpac</th>\n",
       "      <th></th>\n",
       "      <th></th>\n",
       "    </tr>\n",
       "  </thead>\n",
       "  <tbody>\n",
       "    <tr>\n",
       "      <th>False</th>\n",
       "      <td>37340.0</td>\n",
       "      <td>4396.0</td>\n",
       "    </tr>\n",
       "    <tr>\n",
       "      <th>True</th>\n",
       "      <td>4686.0</td>\n",
       "      <td>NaN</td>\n",
       "    </tr>\n",
       "  </tbody>\n",
       "</table>\n",
       "</div>"
      ],
      "text/plain": [
       "read_count_bpac    False   True \n",
       "read_count_wpac                 \n",
       "False            37340.0  4396.0\n",
       "True              4686.0     NaN"
      ]
     },
     "execution_count": 83,
     "metadata": {},
     "output_type": "execute_result"
    }
   ],
   "source": [
    "x[['read_count_wpac', 'read_count_bpac']].isna().value_counts().unstack()"
   ]
  },
  {
   "cell_type": "code",
   "execution_count": 93,
   "id": "7d538320-ffce-408c-a3c6-795eab5c9473",
   "metadata": {},
   "outputs": [
    {
     "data": {
      "text/html": [
       "<div>\n",
       "<style scoped>\n",
       "    .dataframe tbody tr th:only-of-type {\n",
       "        vertical-align: middle;\n",
       "    }\n",
       "\n",
       "    .dataframe tbody tr th {\n",
       "        vertical-align: top;\n",
       "    }\n",
       "\n",
       "    .dataframe thead th {\n",
       "        text-align: right;\n",
       "    }\n",
       "</style>\n",
       "<table border=\"1\" class=\"dataframe\">\n",
       "  <thead>\n",
       "    <tr style=\"text-align: right;\">\n",
       "      <th>read_count_wpac</th>\n",
       "      <th>False</th>\n",
       "      <th>True</th>\n",
       "    </tr>\n",
       "    <tr>\n",
       "      <th>read_count_bont</th>\n",
       "      <th></th>\n",
       "      <th></th>\n",
       "    </tr>\n",
       "  </thead>\n",
       "  <tbody>\n",
       "    <tr>\n",
       "      <th>False</th>\n",
       "      <td>37941.0</td>\n",
       "      <td>5389.0</td>\n",
       "    </tr>\n",
       "    <tr>\n",
       "      <th>True</th>\n",
       "      <td>3795.0</td>\n",
       "      <td>NaN</td>\n",
       "    </tr>\n",
       "  </tbody>\n",
       "</table>\n",
       "</div>"
      ],
      "text/plain": [
       "read_count_wpac    False   True \n",
       "read_count_bont                 \n",
       "False            37941.0  5389.0\n",
       "True              3795.0     NaN"
      ]
     },
     "execution_count": 93,
     "metadata": {},
     "output_type": "execute_result"
    }
   ],
   "source": [
    "x = bo.join(wp, lsuffix='_bont', rsuffix='_wpac', how='outer')\n",
    "x[['read_count_bont', 'read_count_wpac']].isna().value_counts().unstack()"
   ]
  },
  {
   "cell_type": "code",
   "execution_count": 89,
   "id": "a4c76575-b460-400d-9c0f-858da5373b6c",
   "metadata": {},
   "outputs": [],
   "source": [
    "y = x.join(wp, how='outer')"
   ]
  },
  {
   "cell_type": "code",
   "execution_count": 90,
   "id": "26323fc4-3dd5-4f83-b8b5-61656df455b9",
   "metadata": {},
   "outputs": [],
   "source": [
    "both_b = y[(~y['read_count_bont'].isna() == ~y['read_count_bpac'].isna())]"
   ]
  },
  {
   "cell_type": "code",
   "execution_count": 91,
   "id": "bbf20f2a-8a24-4e8d-83ab-e8b095fe0dcf",
   "metadata": {},
   "outputs": [
    {
     "data": {
      "text/html": [
       "<div>\n",
       "<style scoped>\n",
       "    .dataframe tbody tr th:only-of-type {\n",
       "        vertical-align: middle;\n",
       "    }\n",
       "\n",
       "    .dataframe tbody tr th {\n",
       "        vertical-align: top;\n",
       "    }\n",
       "\n",
       "    .dataframe thead th {\n",
       "        text-align: right;\n",
       "    }\n",
       "</style>\n",
       "<table border=\"1\" class=\"dataframe\">\n",
       "  <thead>\n",
       "    <tr style=\"text-align: right;\">\n",
       "      <th>read_count_bpac</th>\n",
       "      <th>False</th>\n",
       "      <th>True</th>\n",
       "    </tr>\n",
       "    <tr>\n",
       "      <th>read_count</th>\n",
       "      <th></th>\n",
       "      <th></th>\n",
       "    </tr>\n",
       "  </thead>\n",
       "  <tbody>\n",
       "    <tr>\n",
       "      <th>False</th>\n",
       "      <td>35017.0</td>\n",
       "      <td>1472.0</td>\n",
       "    </tr>\n",
       "    <tr>\n",
       "      <th>True</th>\n",
       "      <td>3070.0</td>\n",
       "      <td>NaN</td>\n",
       "    </tr>\n",
       "  </tbody>\n",
       "</table>\n",
       "</div>"
      ],
      "text/plain": [
       "read_count_bpac    False   True \n",
       "read_count                      \n",
       "False            35017.0  1472.0\n",
       "True              3070.0     NaN"
      ]
     },
     "execution_count": 91,
     "metadata": {},
     "output_type": "execute_result"
    }
   ],
   "source": [
    "both_b[['read_count', 'read_count_bpac']].isna().value_counts().unstack()"
   ]
  },
  {
   "cell_type": "code",
   "execution_count": 75,
   "id": "ca3cb460-c44e-43cd-87ac-d040fc146565",
   "metadata": {},
   "outputs": [
    {
     "data": {
      "text/plain": [
       "read_count_bpac\n",
       "False    38087\n",
       "True      1472\n",
       "Name: count, dtype: int64"
      ]
     },
     "execution_count": 75,
     "metadata": {},
     "output_type": "execute_result"
    }
   ],
   "source": [
    "both_b['read_count_bpac'].isna().value_counts()"
   ]
  },
  {
   "cell_type": "code",
   "execution_count": 77,
   "id": "74d531b3-7178-46bc-8da7-0071aab032f8",
   "metadata": {},
   "outputs": [
    {
     "data": {
      "text/plain": [
       "read_count\n",
       "False    36489\n",
       "True      3070\n",
       "Name: count, dtype: int64"
      ]
     },
     "execution_count": 77,
     "metadata": {},
     "output_type": "execute_result"
    }
   ],
   "source": [
    "both_b['read_count'].isna().value_counts()"
   ]
  },
  {
   "cell_type": "markdown",
   "id": "ec8ab0d0-d2cc-4310-a412-277f17e901b5",
   "metadata": {},
   "source": [
    "# Obs - Exp VAF by Coverage"
   ]
  },
  {
   "cell_type": "code",
   "execution_count": 25,
   "id": "7f484037-ac65-461f-8314-9991d94b676f",
   "metadata": {},
   "outputs": [
    {
     "data": {
      "text/html": [
       "<div>\n",
       "<style scoped>\n",
       "    .dataframe tbody tr th:only-of-type {\n",
       "        vertical-align: middle;\n",
       "    }\n",
       "\n",
       "    .dataframe tbody tr th {\n",
       "        vertical-align: top;\n",
       "    }\n",
       "\n",
       "    .dataframe thead th {\n",
       "        text-align: right;\n",
       "    }\n",
       "</style>\n",
       "<table border=\"1\" class=\"dataframe\">\n",
       "  <thead>\n",
       "    <tr style=\"text-align: right;\">\n",
       "      <th></th>\n",
       "      <th>chrom</th>\n",
       "      <th>start</th>\n",
       "      <th>end</th>\n",
       "      <th>expected_len</th>\n",
       "      <th>read_count</th>\n",
       "      <th>observed_vaf</th>\n",
       "      <th>expected_vaf</th>\n",
       "      <th>vaf_bin</th>\n",
       "      <th>VAF delta</th>\n",
       "      <th>orig_coverage</th>\n",
       "    </tr>\n",
       "  </thead>\n",
       "  <tbody>\n",
       "    <tr>\n",
       "      <th>0</th>\n",
       "      <td>chr1</td>\n",
       "      <td>840404</td>\n",
       "      <td>840466</td>\n",
       "      <td>0.00</td>\n",
       "      <td>90</td>\n",
       "      <td>0.9184</td>\n",
       "      <td>0.9900</td>\n",
       "      <td>High</td>\n",
       "      <td>-0.0716</td>\n",
       "      <td>97.996516</td>\n",
       "    </tr>\n",
       "    <tr>\n",
       "      <th>1</th>\n",
       "      <td>chr1</td>\n",
       "      <td>839177</td>\n",
       "      <td>839680</td>\n",
       "      <td>-42.00</td>\n",
       "      <td>95</td>\n",
       "      <td>0.9794</td>\n",
       "      <td>0.9275</td>\n",
       "      <td>High</td>\n",
       "      <td>0.0519</td>\n",
       "      <td>96.998162</td>\n",
       "    </tr>\n",
       "    <tr>\n",
       "      <th>2</th>\n",
       "      <td>chr1</td>\n",
       "      <td>839177</td>\n",
       "      <td>839680</td>\n",
       "      <td>0.00</td>\n",
       "      <td>2</td>\n",
       "      <td>0.0206</td>\n",
       "      <td>0.0625</td>\n",
       "      <td>Low</td>\n",
       "      <td>-0.0419</td>\n",
       "      <td>97.087379</td>\n",
       "    </tr>\n",
       "    <tr>\n",
       "      <th>3</th>\n",
       "      <td>chr1</td>\n",
       "      <td>850622</td>\n",
       "      <td>850687</td>\n",
       "      <td>0.00</td>\n",
       "      <td>19</td>\n",
       "      <td>0.1696</td>\n",
       "      <td>0.9900</td>\n",
       "      <td>High</td>\n",
       "      <td>-0.8204</td>\n",
       "      <td>112.028302</td>\n",
       "    </tr>\n",
       "    <tr>\n",
       "      <th>4</th>\n",
       "      <td>chr1</td>\n",
       "      <td>853415</td>\n",
       "      <td>853930</td>\n",
       "      <td>-49.00</td>\n",
       "      <td>98</td>\n",
       "      <td>0.9703</td>\n",
       "      <td>0.9275</td>\n",
       "      <td>High</td>\n",
       "      <td>0.0428</td>\n",
       "      <td>100.999691</td>\n",
       "    </tr>\n",
       "    <tr>\n",
       "      <th>...</th>\n",
       "      <td>...</td>\n",
       "      <td>...</td>\n",
       "      <td>...</td>\n",
       "      <td>...</td>\n",
       "      <td>...</td>\n",
       "      <td>...</td>\n",
       "      <td>...</td>\n",
       "      <td>...</td>\n",
       "      <td>...</td>\n",
       "      <td>...</td>\n",
       "    </tr>\n",
       "    <tr>\n",
       "      <th>465255</th>\n",
       "      <td>chr9</td>\n",
       "      <td>138107101</td>\n",
       "      <td>138107291</td>\n",
       "      <td>1.75</td>\n",
       "      <td>91</td>\n",
       "      <td>1.0000</td>\n",
       "      <td>0.9800</td>\n",
       "      <td>High</td>\n",
       "      <td>0.0200</td>\n",
       "      <td>91.000000</td>\n",
       "    </tr>\n",
       "    <tr>\n",
       "      <th>465256</th>\n",
       "      <td>chr9</td>\n",
       "      <td>138107726</td>\n",
       "      <td>138108356</td>\n",
       "      <td>-6.50</td>\n",
       "      <td>71</td>\n",
       "      <td>0.8353</td>\n",
       "      <td>0.8575</td>\n",
       "      <td>High</td>\n",
       "      <td>-0.0222</td>\n",
       "      <td>84.999401</td>\n",
       "    </tr>\n",
       "    <tr>\n",
       "      <th>465257</th>\n",
       "      <td>chr9</td>\n",
       "      <td>138107726</td>\n",
       "      <td>138108356</td>\n",
       "      <td>1.00</td>\n",
       "      <td>12</td>\n",
       "      <td>0.1412</td>\n",
       "      <td>0.1325</td>\n",
       "      <td>Low</td>\n",
       "      <td>0.0087</td>\n",
       "      <td>84.985836</td>\n",
       "    </tr>\n",
       "    <tr>\n",
       "      <th>465258</th>\n",
       "      <td>chr9</td>\n",
       "      <td>138099084</td>\n",
       "      <td>138099847</td>\n",
       "      <td>-32.00</td>\n",
       "      <td>1</td>\n",
       "      <td>0.0093</td>\n",
       "      <td>0.0100</td>\n",
       "      <td>Low</td>\n",
       "      <td>-0.0007</td>\n",
       "      <td>107.526882</td>\n",
       "    </tr>\n",
       "    <tr>\n",
       "      <th>465259</th>\n",
       "      <td>chr9</td>\n",
       "      <td>138099084</td>\n",
       "      <td>138099847</td>\n",
       "      <td>0.00</td>\n",
       "      <td>30</td>\n",
       "      <td>0.2778</td>\n",
       "      <td>0.9800</td>\n",
       "      <td>High</td>\n",
       "      <td>-0.7022</td>\n",
       "      <td>107.991361</td>\n",
       "    </tr>\n",
       "  </tbody>\n",
       "</table>\n",
       "<p>465260 rows × 10 columns</p>\n",
       "</div>"
      ],
      "text/plain": [
       "       chrom      start        end  expected_len  read_count  observed_vaf  \\\n",
       "0       chr1     840404     840466          0.00          90        0.9184   \n",
       "1       chr1     839177     839680        -42.00          95        0.9794   \n",
       "2       chr1     839177     839680          0.00           2        0.0206   \n",
       "3       chr1     850622     850687          0.00          19        0.1696   \n",
       "4       chr1     853415     853930        -49.00          98        0.9703   \n",
       "...      ...        ...        ...           ...         ...           ...   \n",
       "465255  chr9  138107101  138107291          1.75          91        1.0000   \n",
       "465256  chr9  138107726  138108356         -6.50          71        0.8353   \n",
       "465257  chr9  138107726  138108356          1.00          12        0.1412   \n",
       "465258  chr9  138099084  138099847        -32.00           1        0.0093   \n",
       "465259  chr9  138099084  138099847          0.00          30        0.2778   \n",
       "\n",
       "        expected_vaf vaf_bin  VAF delta  orig_coverage  \n",
       "0             0.9900    High    -0.0716      97.996516  \n",
       "1             0.9275    High     0.0519      96.998162  \n",
       "2             0.0625     Low    -0.0419      97.087379  \n",
       "3             0.9900    High    -0.8204     112.028302  \n",
       "4             0.9275    High     0.0428     100.999691  \n",
       "...              ...     ...        ...            ...  \n",
       "465255        0.9800    High     0.0200      91.000000  \n",
       "465256        0.8575    High    -0.0222      84.999401  \n",
       "465257        0.1325     Low     0.0087      84.985836  \n",
       "465258        0.0100     Low    -0.0007     107.526882  \n",
       "465259        0.9800    High    -0.7022     107.991361  \n",
       "\n",
       "[465260 rows x 10 columns]"
      ]
     },
     "execution_count": 25,
     "metadata": {},
     "output_type": "execute_result"
    }
   ],
   "source": [
    "measure"
   ]
  },
  {
   "cell_type": "code",
   "execution_count": 83,
   "id": "98d70912-7b78-4f0d-b93e-456dd2ab1463",
   "metadata": {},
   "outputs": [],
   "source": [
    "import sys\n",
    "measure['coverage_bin'] = pd.cut(measure['orig_coverage'], bins=[0, 72, 104, sys.maxsize], labels=[\"<72\", \"[72,104)\", \"≥104\"])"
   ]
  },
  {
   "cell_type": "code",
   "execution_count": 84,
   "id": "b8ff1a64-c867-4792-8ad9-5279fc349b99",
   "metadata": {},
   "outputs": [
    {
     "name": "stderr",
     "output_type": "stream",
     "text": [
      "/Users/english/py/lib/python3.9/site-packages/seaborn/_oldcore.py:1119: FutureWarning: use_inf_as_na option is deprecated and will be removed in a future version. Convert inf values to NaN before operating instead.\n",
      "  with pd.option_context('mode.use_inf_as_na', True):\n",
      "/Users/english/py/lib/python3.9/site-packages/seaborn/_oldcore.py:1057: FutureWarning: The default of observed=False is deprecated and will be changed to True in a future version of pandas. Pass observed=False to retain current behavior or observed=True to adopt the future default and silence this warning.\n",
      "  grouped_data = data.groupby(\n",
      "/Users/english/py/lib/python3.9/site-packages/seaborn/_oldcore.py:1075: FutureWarning: When grouping with a length-1 list-like, you will need to pass a length-1 tuple to get_group in a future version of pandas. Pass `(name,)` instead of `name` to silence this warning.\n",
      "  data_subset = grouped_data.get_group(pd_key)\n",
      "/Users/english/py/lib/python3.9/site-packages/seaborn/_oldcore.py:1057: FutureWarning: The default of observed=False is deprecated and will be changed to True in a future version of pandas. Pass observed=False to retain current behavior or observed=True to adopt the future default and silence this warning.\n",
      "  grouped_data = data.groupby(\n",
      "/Users/english/py/lib/python3.9/site-packages/seaborn/_oldcore.py:1075: FutureWarning: When grouping with a length-1 list-like, you will need to pass a length-1 tuple to get_group in a future version of pandas. Pass `(name,)` instead of `name` to silence this warning.\n",
      "  data_subset = grouped_data.get_group(pd_key)\n",
      "/Users/english/py/lib/python3.9/site-packages/seaborn/_oldcore.py:1075: FutureWarning: When grouping with a length-1 list-like, you will need to pass a length-1 tuple to get_group in a future version of pandas. Pass `(name,)` instead of `name` to silence this warning.\n",
      "  data_subset = grouped_data.get_group(pd_key)\n",
      "/Users/english/py/lib/python3.9/site-packages/seaborn/_oldcore.py:1075: FutureWarning: When grouping with a length-1 list-like, you will need to pass a length-1 tuple to get_group in a future version of pandas. Pass `(name,)` instead of `name` to silence this warning.\n",
      "  data_subset = grouped_data.get_group(pd_key)\n"
     ]
    },
    {
     "data": {
      "text/plain": [
       "[Text(0.5, 1.0, 'Observed - Expected VAF'), Text(0.5, 0, 'VAF ∆'), (-1.0, 1.0)]"
      ]
     },
     "execution_count": 84,
     "metadata": {},
     "output_type": "execute_result"
    },
    {
     "data": {
      "image/png": "[encoded data removed]",
      "text/plain": [
       "<Figure size 640x480 with 1 Axes>"
      ]
     },
     "metadata": {},
     "output_type": "display_data"
    }
   ],
   "source": [
    "view = measure[(measure['read_count'] != 0) \n",
    "              & (measure['expected_len'].abs() >= 50)]\n",
    "p = sb.histplot(data=view, x=\"VAF delta\", binwidth=0.02, hue='coverage_bin', multiple='stack')\n",
    "p.set(title=\"Observed - Expected VAF\", xlabel=\"VAF ∆\", xlim=(-1,1))"
   ]
  },
  {
   "cell_type": "code",
   "execution_count": 85,
   "id": "d9582793-e25f-4994-b1ba-c8d45f6e8236",
   "metadata": {},
   "outputs": [
    {
     "data": {
      "text/html": [
       "<div>\n",
       "<style scoped>\n",
       "    .dataframe tbody tr th:only-of-type {\n",
       "        vertical-align: middle;\n",
       "    }\n",
       "\n",
       "    .dataframe tbody tr th {\n",
       "        vertical-align: top;\n",
       "    }\n",
       "\n",
       "    .dataframe thead th {\n",
       "        text-align: right;\n",
       "    }\n",
       "</style>\n",
       "<table border=\"1\" class=\"dataframe\">\n",
       "  <thead>\n",
       "    <tr style=\"text-align: right;\">\n",
       "      <th></th>\n",
       "      <th>Low Cov</th>\n",
       "      <th>Medium Cov</th>\n",
       "      <th>High Cov</th>\n",
       "    </tr>\n",
       "  </thead>\n",
       "  <tbody>\n",
       "    <tr>\n",
       "      <th>count</th>\n",
       "      <td>10691.000000</td>\n",
       "      <td>20932.000000</td>\n",
       "      <td>10403.000000</td>\n",
       "    </tr>\n",
       "    <tr>\n",
       "      <th>mean</th>\n",
       "      <td>0.011488</td>\n",
       "      <td>0.007111</td>\n",
       "      <td>0.004010</td>\n",
       "    </tr>\n",
       "    <tr>\n",
       "      <th>50%</th>\n",
       "      <td>0.012200</td>\n",
       "      <td>0.009500</td>\n",
       "      <td>0.006700</td>\n",
       "    </tr>\n",
       "    <tr>\n",
       "      <th>std</th>\n",
       "      <td>0.098688</td>\n",
       "      <td>0.061077</td>\n",
       "      <td>0.055039</td>\n",
       "    </tr>\n",
       "    <tr>\n",
       "      <th>PearsonR</th>\n",
       "      <td>0.932930</td>\n",
       "      <td>0.976196</td>\n",
       "      <td>0.981030</td>\n",
       "    </tr>\n",
       "    <tr>\n",
       "      <th>MSE</th>\n",
       "      <td>0.009870</td>\n",
       "      <td>0.003781</td>\n",
       "      <td>0.003045</td>\n",
       "    </tr>\n",
       "  </tbody>\n",
       "</table>\n",
       "</div>"
      ],
      "text/plain": [
       "               Low Cov    Medium Cov      High Cov\n",
       "count     10691.000000  20932.000000  10403.000000\n",
       "mean          0.011488      0.007111      0.004010\n",
       "50%           0.012200      0.009500      0.006700\n",
       "std           0.098688      0.061077      0.055039\n",
       "PearsonR      0.932930      0.976196      0.981030\n",
       "MSE           0.009870      0.003781      0.003045"
      ]
     },
     "execution_count": 85,
     "metadata": {},
     "output_type": "execute_result"
    }
   ],
   "source": [
    "parts = []\n",
    "mask = (view['coverage_bin'] == \"<72\")\n",
    "parts.append((view[mask]['observed_vaf'] - view[mask]['expected_vaf']).describe().to_frame())\n",
    "parts[-1].loc['PearsonR'] = pearsonr(view[mask]['observed_vaf'], view[mask]['expected_vaf'])[0]\n",
    "MSE = ((view[mask]['expected_vaf'] - view[mask]['observed_vaf']) ** 2).sum()  / len(view[mask])\n",
    "parts[-1].loc['MSE'] = MSE\n",
    "\n",
    "mask = view['coverage_bin'] == \"[72,104)\"\n",
    "parts.append((view[mask]['observed_vaf'] - view[mask]['expected_vaf']).describe().to_frame())\n",
    "parts[-1].loc['PearsonR'] = pearsonr(view[mask]['observed_vaf'], view[mask]['expected_vaf'])[0]\n",
    "MSE = ((view[mask]['expected_vaf'] - view[mask]['observed_vaf']) ** 2).sum()  / len(view[mask])\n",
    "parts[-1].loc['MSE'] = MSE\n",
    "\n",
    "mask = view['coverage_bin'] == \"≥104\"\n",
    "parts.append((view[mask]['observed_vaf'] - view[mask]['expected_vaf']).describe().to_frame())\n",
    "parts[-1].loc['PearsonR'] = pearsonr(view[mask]['observed_vaf'], view[mask]['expected_vaf'])[0]\n",
    "MSE = ((view[mask]['expected_vaf'] - view[mask]['observed_vaf']) ** 2).sum()  / len(view[mask])\n",
    "parts[-1].loc['MSE'] = MSE\n",
    "\n",
    "cov_report = pd.concat(parts, axis=1)\n",
    "cov_report.columns = [\"Low Cov\", \"Medium Cov\", \"High Cov\"]\n",
    "\n",
    "cov_report.loc[['count', 'mean', '50%', 'std', 'PearsonR', 'MSE']]"
   ]
  },
  {
   "cell_type": "code",
   "execution_count": 86,
   "id": "d03c2c29-52ae-478c-9583-f580c755cf5c",
   "metadata": {},
   "outputs": [
    {
     "name": "stderr",
     "output_type": "stream",
     "text": [
      "/var/folders/fy/lkd5_yz90zq3f67qys3tpztc0000gn/T/ipykernel_1062/583592222.py:1: FutureWarning: The default of observed=False is deprecated and will be changed to True in a future version of pandas. Pass observed=False to retain current behavior or observed=True to adopt the future default and silence this warning.\n",
      "  measure[(measure['expected_len'].abs() >= 50)\n"
     ]
    },
    {
     "data": {
      "text/html": [
       "<div>\n",
       "<style scoped>\n",
       "    .dataframe tbody tr th:only-of-type {\n",
       "        vertical-align: middle;\n",
       "    }\n",
       "\n",
       "    .dataframe tbody tr th {\n",
       "        vertical-align: top;\n",
       "    }\n",
       "\n",
       "    .dataframe thead th {\n",
       "        text-align: right;\n",
       "    }\n",
       "</style>\n",
       "<table border=\"1\" class=\"dataframe\">\n",
       "  <thead>\n",
       "    <tr style=\"text-align: right;\">\n",
       "      <th>coverage_bin</th>\n",
       "      <th>&lt;72</th>\n",
       "      <th>[72,104)</th>\n",
       "      <th>≥104</th>\n",
       "    </tr>\n",
       "    <tr>\n",
       "      <th>vaf_bin</th>\n",
       "      <th></th>\n",
       "      <th></th>\n",
       "      <th></th>\n",
       "    </tr>\n",
       "  </thead>\n",
       "  <tbody>\n",
       "    <tr>\n",
       "      <th>Low</th>\n",
       "      <td>0.036</td>\n",
       "      <td>0.021</td>\n",
       "      <td>0.017</td>\n",
       "    </tr>\n",
       "    <tr>\n",
       "      <th>Medium</th>\n",
       "      <td>-0.020</td>\n",
       "      <td>-0.016</td>\n",
       "      <td>-0.021</td>\n",
       "    </tr>\n",
       "    <tr>\n",
       "      <th>High</th>\n",
       "      <td>-0.066</td>\n",
       "      <td>-0.029</td>\n",
       "      <td>-0.036</td>\n",
       "    </tr>\n",
       "  </tbody>\n",
       "</table>\n",
       "</div>"
      ],
      "text/plain": [
       "coverage_bin    <72  [72,104)   ≥104\n",
       "vaf_bin                             \n",
       "Low           0.036     0.021  0.017\n",
       "Medium       -0.020    -0.016 -0.021\n",
       "High         -0.066    -0.029 -0.036"
      ]
     },
     "execution_count": 86,
     "metadata": {},
     "output_type": "execute_result"
    }
   ],
   "source": [
    "measure[(measure['expected_len'].abs() >= 50) \n",
    "        & (measure['read_count'] != 0)].groupby(['vaf_bin', 'coverage_bin'])['VAF delta'].describe()['mean'].unstack().round(3)"
   ]
  },
  {
   "cell_type": "code",
   "execution_count": 87,
   "id": "1f05e099-2aa3-40c4-8ec1-0815a062a3d3",
   "metadata": {},
   "outputs": [
    {
     "name": "stderr",
     "output_type": "stream",
     "text": [
      "/var/folders/fy/lkd5_yz90zq3f67qys3tpztc0000gn/T/ipykernel_1062/1669775510.py:6: FutureWarning: The default of observed=False is deprecated and will be changed to True in a future version of pandas. Pass observed=False to retain current behavior or observed=True to adopt the future default and silence this warning.\n",
      "  measure[(measure['expected_len'].abs() >= 50)\n",
      "/var/folders/fy/lkd5_yz90zq3f67qys3tpztc0000gn/T/ipykernel_1062/1669775510.py:6: DeprecationWarning: DataFrameGroupBy.apply operated on the grouping columns. This behavior is deprecated, and in a future version of pandas the grouping columns will be excluded from the operation. Either pass `include_groups=False` to exclude the groupings or explicitly select the grouping columns after groupby to silence this warning.\n",
      "  measure[(measure['expected_len'].abs() >= 50)\n"
     ]
    },
    {
     "data": {
      "text/html": [
       "<div>\n",
       "<style scoped>\n",
       "    .dataframe tbody tr th:only-of-type {\n",
       "        vertical-align: middle;\n",
       "    }\n",
       "\n",
       "    .dataframe tbody tr th {\n",
       "        vertical-align: top;\n",
       "    }\n",
       "\n",
       "    .dataframe thead th {\n",
       "        text-align: right;\n",
       "    }\n",
       "</style>\n",
       "<table border=\"1\" class=\"dataframe\">\n",
       "  <thead>\n",
       "    <tr style=\"text-align: right;\">\n",
       "      <th>coverage_bin</th>\n",
       "      <th>&lt;72</th>\n",
       "      <th>[72,104)</th>\n",
       "      <th>≥104</th>\n",
       "    </tr>\n",
       "    <tr>\n",
       "      <th>vaf_bin</th>\n",
       "      <th></th>\n",
       "      <th></th>\n",
       "      <th></th>\n",
       "    </tr>\n",
       "  </thead>\n",
       "  <tbody>\n",
       "    <tr>\n",
       "      <th>Low</th>\n",
       "      <td>0.006</td>\n",
       "      <td>0.002</td>\n",
       "      <td>0.002</td>\n",
       "    </tr>\n",
       "    <tr>\n",
       "      <th>Medium</th>\n",
       "      <td>0.013</td>\n",
       "      <td>0.006</td>\n",
       "      <td>0.004</td>\n",
       "    </tr>\n",
       "    <tr>\n",
       "      <th>High</th>\n",
       "      <td>0.023</td>\n",
       "      <td>0.009</td>\n",
       "      <td>0.011</td>\n",
       "    </tr>\n",
       "  </tbody>\n",
       "</table>\n",
       "</div>"
      ],
      "text/plain": [
       "coverage_bin    <72  [72,104)   ≥104\n",
       "vaf_bin                             \n",
       "Low           0.006     0.002  0.002\n",
       "Medium        0.013     0.006  0.004\n",
       "High          0.023     0.009  0.011"
      ]
     },
     "execution_count": 87,
     "metadata": {},
     "output_type": "execute_result"
    }
   ],
   "source": [
    "def pr(x):\n",
    "    return pearsonr(x['observed_vaf'], x['expected_vaf'])[0]\n",
    "def mse(x):\n",
    "    return ((x['expected_vaf'] - x['observed_vaf']) ** 2).sum()  / len(x)\n",
    "\n",
    "measure[(measure['expected_len'].abs() >= 50) \n",
    "    & (measure['read_count'] != 0)].groupby(['vaf_bin', 'coverage_bin']).apply(mse).unstack().round(3)"
   ]
  },
  {
   "cell_type": "code",
   "execution_count": 70,
   "id": "1cf69887-7856-4f2b-ab06-7b210efeeac0",
   "metadata": {},
   "outputs": [
    {
     "data": {
      "text/plain": [
       "count    465260.000000\n",
       "mean         36.104631\n",
       "std         900.512764\n",
       "min      -13021.000000\n",
       "25%          -4.000000\n",
       "50%           0.000000\n",
       "75%           6.500000\n",
       "max      297863.000000\n",
       "Name: expected_len, dtype: float64"
      ]
     },
     "execution_count": 70,
     "metadata": {},
     "output_type": "execute_result"
    }
   ],
   "source": [
    "measure['expected_len'].describe()"
   ]
  },
  {
   "cell_type": "code",
   "execution_count": 74,
   "id": "aa6f6cc9-cc36-48f7-a6ce-a2ddf7e3da00",
   "metadata": {},
   "outputs": [
    {
     "name": "stderr",
     "output_type": "stream",
     "text": [
      "/var/folders/fy/lkd5_yz90zq3f67qys3tpztc0000gn/T/ipykernel_1062/3313651188.py:1: FutureWarning: The default of observed=False is deprecated and will be changed to True in a future version of pandas. Pass observed=False to retain current behavior or observed=True to adopt the future default and silence this warning.\n",
      "  measure[(measure['expected_len'].abs() >= 50)\n"
     ]
    },
    {
     "data": {
      "text/html": [
       "<div>\n",
       "<style scoped>\n",
       "    .dataframe tbody tr th:only-of-type {\n",
       "        vertical-align: middle;\n",
       "    }\n",
       "\n",
       "    .dataframe tbody tr th {\n",
       "        vertical-align: top;\n",
       "    }\n",
       "\n",
       "    .dataframe thead th {\n",
       "        text-align: right;\n",
       "    }\n",
       "</style>\n",
       "<table border=\"1\" class=\"dataframe\">\n",
       "  <thead>\n",
       "    <tr style=\"text-align: right;\">\n",
       "      <th>coverage_bin</th>\n",
       "      <th>&lt;50</th>\n",
       "      <th>[50,100)</th>\n",
       "      <th>≥100</th>\n",
       "    </tr>\n",
       "    <tr>\n",
       "      <th>vaf_bin</th>\n",
       "      <th></th>\n",
       "      <th></th>\n",
       "      <th></th>\n",
       "    </tr>\n",
       "  </thead>\n",
       "  <tbody>\n",
       "    <tr>\n",
       "      <th>Low</th>\n",
       "      <td>0.108</td>\n",
       "      <td>0.045</td>\n",
       "      <td>0.038</td>\n",
       "    </tr>\n",
       "    <tr>\n",
       "      <th>Medium</th>\n",
       "      <td>0.145</td>\n",
       "      <td>0.085</td>\n",
       "      <td>0.060</td>\n",
       "    </tr>\n",
       "    <tr>\n",
       "      <th>High</th>\n",
       "      <td>0.191</td>\n",
       "      <td>0.098</td>\n",
       "      <td>0.095</td>\n",
       "    </tr>\n",
       "  </tbody>\n",
       "</table>\n",
       "</div>"
      ],
      "text/plain": [
       "coverage_bin    <50  [50,100)   ≥100\n",
       "vaf_bin                             \n",
       "Low           0.108     0.045  0.038\n",
       "Medium        0.145     0.085  0.060\n",
       "High          0.191     0.098  0.095"
      ]
     },
     "execution_count": 74,
     "metadata": {},
     "output_type": "execute_result"
    }
   ],
   "source": [
    "measure[(measure['expected_len'].abs() >= 50) \n",
    "    & (measure['read_count'] != 0)].groupby(['vaf_bin', 'coverage_bin'])['VAF delta'].describe()['std'].unstack().round(3)"
   ]
  },
  {
   "cell_type": "code",
   "execution_count": 75,
   "id": "fa9d958c-a5bf-4f2c-83c0-e4bc369e376d",
   "metadata": {},
   "outputs": [
    {
     "name": "stderr",
     "output_type": "stream",
     "text": [
      "/var/folders/fy/lkd5_yz90zq3f67qys3tpztc0000gn/T/ipykernel_1062/1710790320.py:1: FutureWarning: The default of observed=False is deprecated and will be changed to True in a future version of pandas. Pass observed=False to retain current behavior or observed=True to adopt the future default and silence this warning.\n",
      "  measure[(measure['expected_len'].abs() >= 50)\n",
      "/var/folders/fy/lkd5_yz90zq3f67qys3tpztc0000gn/T/ipykernel_1062/1710790320.py:1: DeprecationWarning: DataFrameGroupBy.apply operated on the grouping columns. This behavior is deprecated, and in a future version of pandas the grouping columns will be excluded from the operation. Either pass `include_groups=False` to exclude the groupings or explicitly select the grouping columns after groupby to silence this warning.\n",
      "  measure[(measure['expected_len'].abs() >= 50)\n"
     ]
    },
    {
     "data": {
      "text/html": [
       "<div>\n",
       "<style scoped>\n",
       "    .dataframe tbody tr th:only-of-type {\n",
       "        vertical-align: middle;\n",
       "    }\n",
       "\n",
       "    .dataframe tbody tr th {\n",
       "        vertical-align: top;\n",
       "    }\n",
       "\n",
       "    .dataframe thead th {\n",
       "        text-align: right;\n",
       "    }\n",
       "</style>\n",
       "<table border=\"1\" class=\"dataframe\">\n",
       "  <thead>\n",
       "    <tr style=\"text-align: right;\">\n",
       "      <th>coverage_bin</th>\n",
       "      <th>&lt;50</th>\n",
       "      <th>[50,100)</th>\n",
       "      <th>≥100</th>\n",
       "    </tr>\n",
       "    <tr>\n",
       "      <th>vaf_bin</th>\n",
       "      <th></th>\n",
       "      <th></th>\n",
       "      <th></th>\n",
       "    </tr>\n",
       "  </thead>\n",
       "  <tbody>\n",
       "    <tr>\n",
       "      <th>Low</th>\n",
       "      <td>0.297</td>\n",
       "      <td>0.629</td>\n",
       "      <td>0.690</td>\n",
       "    </tr>\n",
       "    <tr>\n",
       "      <th>Medium</th>\n",
       "      <td>0.407</td>\n",
       "      <td>0.592</td>\n",
       "      <td>0.636</td>\n",
       "    </tr>\n",
       "    <tr>\n",
       "      <th>High</th>\n",
       "      <td>0.397</td>\n",
       "      <td>0.646</td>\n",
       "      <td>0.715</td>\n",
       "    </tr>\n",
       "  </tbody>\n",
       "</table>\n",
       "</div>"
      ],
      "text/plain": [
       "coverage_bin    <50  [50,100)   ≥100\n",
       "vaf_bin                             \n",
       "Low           0.297     0.629  0.690\n",
       "Medium        0.407     0.592  0.636\n",
       "High          0.397     0.646  0.715"
      ]
     },
     "execution_count": 75,
     "metadata": {},
     "output_type": "execute_result"
    }
   ],
   "source": [
    "measure[(measure['expected_len'].abs() >= 50) \n",
    "    & (measure['read_count'] != 0)].groupby(['vaf_bin', 'coverage_bin']).apply(pr).unstack().round(3)"
   ]
  },
  {
   "cell_type": "code",
   "execution_count": null,
   "id": "09e56e1a-f867-4c3c-8d6b-367aa9b9751d",
   "metadata": {},
   "outputs": [],
   "source": []
  }
 ],
 "metadata": {
  "kernelspec": {
   "display_name": "Python 3 (ipykernel)",
   "language": "python",
   "name": "python3"
  },
  "language_info": {
   "codemirror_mode": {
    "name": "ipython",
    "version": 3
   },
   "file_extension": ".py",
   "mimetype": "text/x-python",
   "name": "python",
   "nbconvert_exporter": "python",
   "pygments_lexer": "ipython3",
   "version": "3.9.6"
  }
 },
 "nbformat": 4,
 "nbformat_minor": 5
}
