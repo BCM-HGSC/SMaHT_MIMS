{
 "cells": [
  {
   "cell_type": "code",
   "execution_count": 1,
   "id": "44d5f347-42d1-4786-8054-d94a81147ae0",
   "metadata": {},
   "outputs": [],
   "source": [
    "import json\n",
    "import pandas as pd\n",
    "import seaborn as sb\n",
    "import matplotlib.pyplot as plt\n",
    "import numpy as np\n",
    "from scipy.stats import pearsonr\n",
    "from collections import Counter"
   ]
  },
  {
   "cell_type": "code",
   "execution_count": 2,
   "id": "af8e7b55-729a-4bc2-8728-fd133317b0fc",
   "metadata": {},
   "outputs": [
    {
     "data": {
      "text/plain": [
       "HG002.1      0.0100\n",
       "HG002.2      0.0100\n",
       "HG00438.1    0.0025\n",
       "HG00438.2    0.0025\n",
       "HG005.1      0.4175\n",
       "HG005.2      0.4175\n",
       "HG02257.1    0.0100\n",
       "HG02257.2    0.0100\n",
       "HG02486.1    0.0100\n",
       "HG02486.2    0.0100\n",
       "HG02622.1    0.0500\n",
       "HG02622.2    0.0500\n",
       "dtype: float64"
      ]
     },
     "execution_count": 2,
     "metadata": {},
     "output_type": "execute_result"
    }
   ],
   "source": [
    "truth = pd.read_csv(\"allele_deltas.txt\", sep='\\t')\n",
    "props = {\"HG00438\": 0.5 / 100,\n",
    "         \"HG002\":   2 / 100,\n",
    "         \"HG02257\": 2 / 100,\n",
    "         \"HG02486\": 2 / 100,\n",
    "         \"HG02622\": 10 / 100,\n",
    "         \"HG005\":   83.5 / 100}\n",
    "percents = []\n",
    "names = []\n",
    "for i in truth.columns[3:]:\n",
    "    percents.append(props[i.split('.')[0]] / 2)\n",
    "    names.append(i)\n",
    "percents = pd.Series(percents, index=names)    \n",
    "\n",
    "truth.set_index(['chrom', 'start', 'end'], inplace=True)\n",
    "\n",
    "percents\n"
   ]
  },
  {
   "cell_type": "code",
   "execution_count": 3,
   "id": "c03265f4-8d70-4b07-8283-769d5d40af69",
   "metadata": {},
   "outputs": [],
   "source": [
    "fn = \"pacbio.kmop.final.txt.gz\"\n",
    "data = pd.read_csv(fn, sep='\\t', names=[\"chrom\", \"start\", \"end\", \"coverage\", \"reads\"])\n",
    "\n",
    "data['reads'] = data['reads'].apply(lambda x: json.loads(x))\n",
    "\n",
    "data.set_index(['chrom', 'start', 'end'], inplace=True)\n",
    "full_data = data.join(truth, how='left').dropna()"
   ]
  },
  {
   "cell_type": "code",
   "execution_count": 76,
   "id": "a40e31fb-bccb-4f7a-b45a-8911bf55c313",
   "metadata": {},
   "outputs": [
    {
     "data": {
      "text/plain": [
       "count    296149.00000\n",
       "mean        101.08026\n",
       "std          21.54607\n",
       "min           0.00000\n",
       "25%          88.00000\n",
       "50%         103.00000\n",
       "75%         116.00000\n",
       "max         390.00000\n",
       "Name: coverage, dtype: float64"
      ]
     },
     "execution_count": 76,
     "metadata": {},
     "output_type": "execute_result"
    }
   ],
   "source": [
    "data['coverage'].describe()"
   ]
  },
  {
   "cell_type": "code",
   "execution_count": 4,
   "id": "9af2dba1-fefc-48bf-9a74-4e78e7f6ad17",
   "metadata": {},
   "outputs": [
    {
     "name": "stderr",
     "output_type": "stream",
     "text": [
      "/Users/english/py/lib/python3.9/site-packages/seaborn/_oldcore.py:1119: FutureWarning: use_inf_as_na option is deprecated and will be removed in a future version. Convert inf values to NaN before operating instead.\n",
      "  with pd.option_context('mode.use_inf_as_na', True):\n"
     ]
    },
    {
     "data": {
      "image/png": "[encoded data removed]",
      "text/plain": [
       "<Figure size 640x480 with 1 Axes>"
      ]
     },
     "metadata": {},
     "output_type": "display_data"
    }
   ],
   "source": [
    "p =  sb.histplot(data=data, x='coverage', binwidth=5)\n",
    "_ = p.set(title=f\"WashU PacBio observed coverage per-TR (N={len(full_data)})\")"
   ]
  },
  {
   "cell_type": "code",
   "execution_count": 5,
   "id": "a488b6a9-2955-4c7b-af28-8e768f1f6906",
   "metadata": {},
   "outputs": [],
   "source": [
    "def combine_and_average(numbers, delta=5):\n",
    "    \"\"\"\n",
    "    Numbers that are within delta are combined and averaged\n",
    "    returns a dictionary of original value mapped to its new average bin\n",
    "    \"\"\"\n",
    "    combined = {}\n",
    "    current_group = [numbers[0]]\n",
    "\n",
    "    for num in numbers[1:]:\n",
    "        if abs(num - current_group[-1]) <= delta:\n",
    "            current_group.append(num)\n",
    "        else:\n",
    "            avg = sum(current_group) / len(current_group)\n",
    "            for n in current_group:\n",
    "                combined[n] = avg\n",
    "            current_group = [num]\n",
    "\n",
    "    avg = sum(current_group) / len(current_group)\n",
    "    for n in current_group:\n",
    "        combined[n] = avg\n",
    "    \n",
    "    return combined\n"
   ]
  },
  {
   "cell_type": "code",
   "execution_count": 6,
   "id": "74aae6fe-a18c-4e13-920c-6e18e6bfdff0",
   "metadata": {},
   "outputs": [],
   "source": [
    "rows = []\n",
    "for _, row in full_data.iterrows():\n",
    "    observed = Counter(row['reads'].values())\n",
    "\n",
    "    expected_unaltered = Counter()\n",
    "    for size, percent in zip(row.iloc[3:].values, percents[row.index[3:]]):\n",
    "        expected_unaltered[size] += percent\n",
    "    \n",
    "    expected = Counter()\n",
    "    vals = sorted(list(expected_unaltered.keys()))\n",
    "    dedup = combine_and_average(vals, delta=5)\n",
    "    for k, v in dedup.items():\n",
    "        expected[v] += expected_unaltered[k]\n",
    "        \n",
    "    # Dedup the expected -- If they're within 5bp, combine them.\n",
    "    closest_numbers = dict([(num, min(expected.keys(), key=lambda x: abs(x - num))) for num in observed])\n",
    "\n",
    "    # Observed mapto Expected\n",
    "    summed_observed = Counter()\n",
    "    for o, e in closest_numbers.items():\n",
    "        summed_observed[e] += observed[o]\n",
    "    summed_observed\n",
    "\n",
    "    chrom, start, end = row.name\n",
    "    tot_cov = row['coverage']\n",
    "    if tot_cov == 0:\n",
    "        continue\n",
    "    for k in expected.keys():\n",
    "        obs = summed_observed[k]\n",
    "        rows.append((chrom, start, end, k, obs, round(obs / tot_cov, 4), expected[k]))\n",
    "        \n",
    "measure = pd.DataFrame(rows, \n",
    "                       columns=[\"chrom\", \"start\", \"end\", \"expected_len\", \"read_count\", \"observed_vaf\", \"expected_vaf\"])\n",
    "\n",
    "measure['vaf_bin'] = pd.cut(measure['expected_vaf'], bins=[0, 0.3, 0.7, 1], labels=[\"Low\", \"Medium\", \"High\"])\n",
    "measure['VAF delta'] = measure[\"observed_vaf\"] - measure[\"expected_vaf\"]"
   ]
  },
  {
   "cell_type": "code",
   "execution_count": 23,
   "id": "04c63334-69b7-4f02-a4fb-87dc477fe580",
   "metadata": {},
   "outputs": [],
   "source": [
    "measure['orig_coverage'] = measure['read_count'] / measure['observed_vaf']"
   ]
  },
  {
   "cell_type": "code",
   "execution_count": 7,
   "id": "f5aad776-9f0f-466c-9e82-6b9f3a526bb7",
   "metadata": {},
   "outputs": [
    {
     "name": "stdout",
     "output_type": "stream",
     "text": [
      "PearsonRResult(statistic=0.9668769763525407, pvalue=0.0)\n",
      "0.005147836997097035\n"
     ]
    },
    {
     "name": "stderr",
     "output_type": "stream",
     "text": [
      "/Users/english/py/lib/python3.9/site-packages/seaborn/_oldcore.py:1119: FutureWarning: use_inf_as_na option is deprecated and will be removed in a future version. Convert inf values to NaN before operating instead.\n",
      "  with pd.option_context('mode.use_inf_as_na', True):\n"
     ]
    },
    {
     "data": {
      "text/plain": [
       "count    42026.000000\n",
       "mean         0.007457\n",
       "std          0.071361\n",
       "min         -0.893400\n",
       "25%         -0.006300\n",
       "50%          0.009000\n",
       "75%          0.029500\n",
       "max          0.990000\n",
       "Name: VAF delta, dtype: float64"
      ]
     },
     "execution_count": 7,
     "metadata": {},
     "output_type": "execute_result"
    },
    {
     "data": {
      "image/png": "[encoded data removed]",
      "text/plain": [
       "<Figure size 640x480 with 1 Axes>"
      ]
     },
     "metadata": {},
     "output_type": "display_data"
    }
   ],
   "source": [
    "view = measure[(measure['read_count'] != 0) \n",
    "              & (measure['expected_len'].abs() >= 50)]\n",
    "p = sb.histplot(data=view, x=\"VAF delta\", binwidth=0.02)\n",
    "p.set(title=\"Observed - Expected VAF\", xlabel=\"VAF ∆\", xlim=(-1,1))\n",
    "\n",
    "print(pearsonr(view['observed_vaf'], view['expected_vaf']))\n",
    "MSE = ((view['expected_vaf'] - view['observed_vaf']) ** 2).sum()  / len(view)\n",
    "print(MSE)\n",
    "view['VAF delta'].describe()"
   ]
  },
  {
   "cell_type": "code",
   "execution_count": 8,
   "id": "0ce5800f-deb9-497c-b7f7-51141841f57a",
   "metadata": {},
   "outputs": [
    {
     "data": {
      "text/html": [
       "<div>\n",
       "<style scoped>\n",
       "    .dataframe tbody tr th:only-of-type {\n",
       "        vertical-align: middle;\n",
       "    }\n",
       "\n",
       "    .dataframe tbody tr th {\n",
       "        vertical-align: top;\n",
       "    }\n",
       "\n",
       "    .dataframe thead th {\n",
       "        text-align: right;\n",
       "    }\n",
       "</style>\n",
       "<table border=\"1\" class=\"dataframe\">\n",
       "  <thead>\n",
       "    <tr style=\"text-align: right;\">\n",
       "      <th></th>\n",
       "      <th>Low VAF</th>\n",
       "      <th>Medium VAF</th>\n",
       "      <th>High VAF</th>\n",
       "    </tr>\n",
       "  </thead>\n",
       "  <tbody>\n",
       "    <tr>\n",
       "      <th>count</th>\n",
       "      <td>27611.000000</td>\n",
       "      <td>10733.000000</td>\n",
       "      <td>3682.000000</td>\n",
       "    </tr>\n",
       "    <tr>\n",
       "      <th>mean</th>\n",
       "      <td>0.023680</td>\n",
       "      <td>-0.018112</td>\n",
       "      <td>-0.039661</td>\n",
       "    </tr>\n",
       "    <tr>\n",
       "      <th>50%</th>\n",
       "      <td>0.012700</td>\n",
       "      <td>-0.017500</td>\n",
       "      <td>-0.011500</td>\n",
       "    </tr>\n",
       "    <tr>\n",
       "      <th>std</th>\n",
       "      <td>0.050287</td>\n",
       "      <td>0.086561</td>\n",
       "      <td>0.105944</td>\n",
       "    </tr>\n",
       "    <tr>\n",
       "      <th>PearsonR</th>\n",
       "      <td>0.583099</td>\n",
       "      <td>0.567693</td>\n",
       "      <td>0.636304</td>\n",
       "    </tr>\n",
       "    <tr>\n",
       "      <th>MSE</th>\n",
       "      <td>0.003089</td>\n",
       "      <td>0.007820</td>\n",
       "      <td>0.012794</td>\n",
       "    </tr>\n",
       "  </tbody>\n",
       "</table>\n",
       "</div>"
      ],
      "text/plain": [
       "               Low VAF    Medium VAF     High VAF\n",
       "count     27611.000000  10733.000000  3682.000000\n",
       "mean          0.023680     -0.018112    -0.039661\n",
       "50%           0.012700     -0.017500    -0.011500\n",
       "std           0.050287      0.086561     0.105944\n",
       "PearsonR      0.583099      0.567693     0.636304\n",
       "MSE           0.003089      0.007820     0.012794"
      ]
     },
     "execution_count": 8,
     "metadata": {},
     "output_type": "execute_result"
    }
   ],
   "source": [
    "parts = []\n",
    "mask = (view['expected_vaf'] < 0.30)\n",
    "parts.append((view[mask]['observed_vaf'] - view[mask]['expected_vaf']).describe().to_frame())\n",
    "parts[-1].loc['PearsonR'] = pearsonr(view[mask]['observed_vaf'], view[mask]['expected_vaf'])[0]\n",
    "MSE = ((view[mask]['expected_vaf'] - view[mask]['observed_vaf']) ** 2).sum()  / len(view[mask])\n",
    "parts[-1].loc['MSE'] = MSE\n",
    "\n",
    "mask = view['expected_vaf'].between(0.30, 0.70)\n",
    "parts.append((view[mask]['observed_vaf'] - view[mask]['expected_vaf']).describe().to_frame())\n",
    "parts[-1].loc['PearsonR'] = pearsonr(view[mask]['observed_vaf'], view[mask]['expected_vaf'])[0]\n",
    "MSE = ((view[mask]['expected_vaf'] - view[mask]['observed_vaf']) ** 2).sum()  / len(view[mask])\n",
    "parts[-1].loc['MSE'] = MSE\n",
    "\n",
    "mask = view['expected_vaf'] > 0.70\n",
    "parts.append((view[mask]['observed_vaf'] - view[mask]['expected_vaf']).describe().to_frame())\n",
    "parts[-1].loc['PearsonR'] = pearsonr(view[mask]['observed_vaf'], view[mask]['expected_vaf'])[0]\n",
    "MSE = ((view[mask]['expected_vaf'] - view[mask]['observed_vaf']) ** 2).sum()  / len(view[mask])\n",
    "parts[-1].loc['MSE'] = MSE\n",
    "\n",
    "vaf_report = pd.concat(parts, axis=1)\n",
    "vaf_report.columns = [\"Low VAF\", \"Medium VAF\", \"High VAF\"]\n",
    "\n",
    "vaf_report.loc[['count', 'mean', '50%', 'std', 'PearsonR', 'MSE']]"
   ]
  },
  {
   "cell_type": "code",
   "execution_count": 9,
   "id": "8074ba25-8587-4b36-85d8-009cecd271b2",
   "metadata": {},
   "outputs": [
    {
     "name": "stderr",
     "output_type": "stream",
     "text": [
      "/Users/english/py/lib/python3.9/site-packages/seaborn/categorical.py:641: FutureWarning: The default of observed=False is deprecated and will be changed to True in a future version of pandas. Pass observed=False to retain current behavior or observed=True to adopt the future default and silence this warning.\n",
      "  grouped_vals = vals.groupby(grouper)\n",
      "No artists with labels found to put in legend.  Note that artists whose label start with an underscore are ignored when legend() is called with no argument.\n"
     ]
    },
    {
     "data": {
      "image/png": "[encoded data removed]",
      "text/plain": [
       "<Figure size 640x480 with 1 Axes>"
      ]
     },
     "metadata": {},
     "output_type": "display_data"
    }
   ],
   "source": [
    "p = sb.boxplot(data=view, x='vaf_bin', y='observed_vaf')\n",
    "#sb.kdeplot(data=comp_vars, x=\"predicted_vaf\", y=\"expected_vaf\", hue=\"vaf_bin\")\n",
    "p.set(title=\"Observed vs Expected VAF\")\n",
    "plt.legend().remove()"
   ]
  },
  {
   "cell_type": "markdown",
   "id": "ee976ef7-f98b-4ac2-9c38-b5e3141b8470",
   "metadata": {},
   "source": [
    "# Max Recall Estimate"
   ]
  },
  {
   "cell_type": "code",
   "execution_count": 10,
   "id": "37fdb14c-2590-4156-a950-0f7edf26e020",
   "metadata": {},
   "outputs": [
    {
     "data": {
      "text/plain": [
       "8652"
      ]
     },
     "execution_count": 10,
     "metadata": {},
     "output_type": "execute_result"
    }
   ],
   "source": [
    "x = measure[(measure['read_count'] == 0) & (measure['expected_len'].abs() >= 50)]\n",
    "len(x)"
   ]
  },
  {
   "cell_type": "code",
   "execution_count": 11,
   "id": "ff842742-5909-4d5b-b08a-8437216fca87",
   "metadata": {},
   "outputs": [
    {
     "data": {
      "text/plain": [
       "50678"
      ]
     },
     "execution_count": 11,
     "metadata": {},
     "output_type": "execute_result"
    }
   ],
   "source": [
    "len(measure[(measure['expected_len'].abs() >= 50)])"
   ]
  },
  {
   "cell_type": "code",
   "execution_count": 12,
   "id": "243533df-0614-48ef-92e7-4d7bf279f717",
   "metadata": {},
   "outputs": [
    {
     "data": {
      "text/plain": [
       "0.8292750305852639"
      ]
     },
     "execution_count": 12,
     "metadata": {},
     "output_type": "execute_result"
    }
   ],
   "source": [
    "1 - (len(x) / len(measure[(measure['expected_len'].abs() >= 50)]))"
   ]
  },
  {
   "cell_type": "code",
   "execution_count": 13,
   "id": "7f7c22be-9051-46b5-80b9-f5ce68ae7b54",
   "metadata": {},
   "outputs": [
    {
     "name": "stderr",
     "output_type": "stream",
     "text": [
      "/Users/english/py/lib/python3.9/site-packages/seaborn/_oldcore.py:1119: FutureWarning: use_inf_as_na option is deprecated and will be removed in a future version. Convert inf values to NaN before operating instead.\n",
      "  with pd.option_context('mode.use_inf_as_na', True):\n"
     ]
    },
    {
     "data": {
      "image/png": "[encoded data removed]",
      "text/plain": [
       "<Figure size 640x480 with 1 Axes>"
      ]
     },
     "metadata": {},
     "output_type": "display_data"
    }
   ],
   "source": [
    "p = sb.histplot(data=view, x=\"observed_vaf\", binwidth=0.02)\n",
    "_ = p.set(title=\"Observed VAF distribution\", xlabel=\"VAF\")"
   ]
  },
  {
   "cell_type": "code",
   "execution_count": 20,
   "id": "7635cc09-a32e-4427-8d5d-b2355596b4a8",
   "metadata": {},
   "outputs": [
    {
     "data": {
      "text/html": [
       "<div>\n",
       "<style scoped>\n",
       "    .dataframe tbody tr th:only-of-type {\n",
       "        vertical-align: middle;\n",
       "    }\n",
       "\n",
       "    .dataframe tbody tr th {\n",
       "        vertical-align: top;\n",
       "    }\n",
       "\n",
       "    .dataframe thead th {\n",
       "        text-align: right;\n",
       "    }\n",
       "</style>\n",
       "<table border=\"1\" class=\"dataframe\">\n",
       "  <thead>\n",
       "    <tr style=\"text-align: right;\">\n",
       "      <th></th>\n",
       "      <th>TP</th>\n",
       "      <th>FN</th>\n",
       "      <th>total</th>\n",
       "      <th>recall</th>\n",
       "      <th>VAF Bin</th>\n",
       "    </tr>\n",
       "  </thead>\n",
       "  <tbody>\n",
       "    <tr>\n",
       "      <th>0</th>\n",
       "      <td>27611</td>\n",
       "      <td>8609</td>\n",
       "      <td>36220</td>\n",
       "      <td>0.762314</td>\n",
       "      <td>Low</td>\n",
       "    </tr>\n",
       "    <tr>\n",
       "      <th>1</th>\n",
       "      <td>10733</td>\n",
       "      <td>37</td>\n",
       "      <td>10770</td>\n",
       "      <td>0.996565</td>\n",
       "      <td>Medium</td>\n",
       "    </tr>\n",
       "    <tr>\n",
       "      <th>2</th>\n",
       "      <td>3682</td>\n",
       "      <td>6</td>\n",
       "      <td>3688</td>\n",
       "      <td>0.998373</td>\n",
       "      <td>High</td>\n",
       "    </tr>\n",
       "  </tbody>\n",
       "</table>\n",
       "</div>"
      ],
      "text/plain": [
       "      TP    FN  total    recall VAF Bin\n",
       "0  27611  8609  36220  0.762314     Low\n",
       "1  10733    37  10770  0.996565  Medium\n",
       "2   3682     6   3688  0.998373    High"
      ]
     },
     "execution_count": 20,
     "metadata": {},
     "output_type": "execute_result"
    }
   ],
   "source": [
    "subset = measure[(measure['expected_len'].abs() >= 50)]\n",
    "low = (subset['expected_vaf'] < 0.30)\n",
    "medium = subset['expected_vaf'].between(0.30, 0.70)\n",
    "high = subset['expected_vaf'] > 0.70\n",
    "\n",
    "def foo(x):\n",
    "    missing = (x['read_count'] == 0).sum()\n",
    "    total = len(x)\n",
    "    tp = total - missing\n",
    "    return [tp, missing, total, tp/total]\n",
    "\n",
    "r = pd.DataFrame([foo(subset[x]) for x in [low, medium, high]], columns=['TP', 'FN', 'total', 'recall'])\n",
    "r['VAF Bin'] = ['Low', 'Medium', 'High']\n",
    "r"
   ]
  },
  {
   "cell_type": "code",
   "execution_count": 16,
   "id": "6a6b8221-9bed-4ace-a7bc-1d9f3d926cf5",
   "metadata": {},
   "outputs": [
    {
     "data": {
      "text/html": [
       "<div>\n",
       "<style scoped>\n",
       "    .dataframe tbody tr th:only-of-type {\n",
       "        vertical-align: middle;\n",
       "    }\n",
       "\n",
       "    .dataframe tbody tr th {\n",
       "        vertical-align: top;\n",
       "    }\n",
       "\n",
       "    .dataframe thead th {\n",
       "        text-align: right;\n",
       "    }\n",
       "</style>\n",
       "<table border=\"1\" class=\"dataframe\">\n",
       "  <thead>\n",
       "    <tr style=\"text-align: right;\">\n",
       "      <th></th>\n",
       "      <th>chrom</th>\n",
       "      <th>start</th>\n",
       "      <th>end</th>\n",
       "      <th>expected_len</th>\n",
       "      <th>read_count</th>\n",
       "      <th>observed_vaf</th>\n",
       "      <th>expected_vaf</th>\n",
       "      <th>vaf_bin</th>\n",
       "      <th>VAF delta</th>\n",
       "    </tr>\n",
       "  </thead>\n",
       "  <tbody>\n",
       "    <tr>\n",
       "      <th>0</th>\n",
       "      <td>chr1</td>\n",
       "      <td>840404</td>\n",
       "      <td>840466</td>\n",
       "      <td>0.00</td>\n",
       "      <td>90</td>\n",
       "      <td>0.9184</td>\n",
       "      <td>0.9900</td>\n",
       "      <td>High</td>\n",
       "      <td>-0.0716</td>\n",
       "    </tr>\n",
       "    <tr>\n",
       "      <th>1</th>\n",
       "      <td>chr1</td>\n",
       "      <td>839177</td>\n",
       "      <td>839680</td>\n",
       "      <td>-42.00</td>\n",
       "      <td>95</td>\n",
       "      <td>0.9794</td>\n",
       "      <td>0.9275</td>\n",
       "      <td>High</td>\n",
       "      <td>0.0519</td>\n",
       "    </tr>\n",
       "    <tr>\n",
       "      <th>2</th>\n",
       "      <td>chr1</td>\n",
       "      <td>839177</td>\n",
       "      <td>839680</td>\n",
       "      <td>0.00</td>\n",
       "      <td>2</td>\n",
       "      <td>0.0206</td>\n",
       "      <td>0.0625</td>\n",
       "      <td>Low</td>\n",
       "      <td>-0.0419</td>\n",
       "    </tr>\n",
       "    <tr>\n",
       "      <th>3</th>\n",
       "      <td>chr1</td>\n",
       "      <td>850622</td>\n",
       "      <td>850687</td>\n",
       "      <td>0.00</td>\n",
       "      <td>19</td>\n",
       "      <td>0.1696</td>\n",
       "      <td>0.9900</td>\n",
       "      <td>High</td>\n",
       "      <td>-0.8204</td>\n",
       "    </tr>\n",
       "    <tr>\n",
       "      <th>4</th>\n",
       "      <td>chr1</td>\n",
       "      <td>853415</td>\n",
       "      <td>853930</td>\n",
       "      <td>-49.00</td>\n",
       "      <td>98</td>\n",
       "      <td>0.9703</td>\n",
       "      <td>0.9275</td>\n",
       "      <td>High</td>\n",
       "      <td>0.0428</td>\n",
       "    </tr>\n",
       "    <tr>\n",
       "      <th>...</th>\n",
       "      <td>...</td>\n",
       "      <td>...</td>\n",
       "      <td>...</td>\n",
       "      <td>...</td>\n",
       "      <td>...</td>\n",
       "      <td>...</td>\n",
       "      <td>...</td>\n",
       "      <td>...</td>\n",
       "      <td>...</td>\n",
       "    </tr>\n",
       "    <tr>\n",
       "      <th>465255</th>\n",
       "      <td>chr9</td>\n",
       "      <td>138107101</td>\n",
       "      <td>138107291</td>\n",
       "      <td>1.75</td>\n",
       "      <td>91</td>\n",
       "      <td>1.0000</td>\n",
       "      <td>0.9800</td>\n",
       "      <td>High</td>\n",
       "      <td>0.0200</td>\n",
       "    </tr>\n",
       "    <tr>\n",
       "      <th>465256</th>\n",
       "      <td>chr9</td>\n",
       "      <td>138107726</td>\n",
       "      <td>138108356</td>\n",
       "      <td>-6.50</td>\n",
       "      <td>71</td>\n",
       "      <td>0.8353</td>\n",
       "      <td>0.8575</td>\n",
       "      <td>High</td>\n",
       "      <td>-0.0222</td>\n",
       "    </tr>\n",
       "    <tr>\n",
       "      <th>465257</th>\n",
       "      <td>chr9</td>\n",
       "      <td>138107726</td>\n",
       "      <td>138108356</td>\n",
       "      <td>1.00</td>\n",
       "      <td>12</td>\n",
       "      <td>0.1412</td>\n",
       "      <td>0.1325</td>\n",
       "      <td>Low</td>\n",
       "      <td>0.0087</td>\n",
       "    </tr>\n",
       "    <tr>\n",
       "      <th>465258</th>\n",
       "      <td>chr9</td>\n",
       "      <td>138099084</td>\n",
       "      <td>138099847</td>\n",
       "      <td>-32.00</td>\n",
       "      <td>1</td>\n",
       "      <td>0.0093</td>\n",
       "      <td>0.0100</td>\n",
       "      <td>Low</td>\n",
       "      <td>-0.0007</td>\n",
       "    </tr>\n",
       "    <tr>\n",
       "      <th>465259</th>\n",
       "      <td>chr9</td>\n",
       "      <td>138099084</td>\n",
       "      <td>138099847</td>\n",
       "      <td>0.00</td>\n",
       "      <td>30</td>\n",
       "      <td>0.2778</td>\n",
       "      <td>0.9800</td>\n",
       "      <td>High</td>\n",
       "      <td>-0.7022</td>\n",
       "    </tr>\n",
       "  </tbody>\n",
       "</table>\n",
       "<p>465260 rows × 9 columns</p>\n",
       "</div>"
      ],
      "text/plain": [
       "       chrom      start        end  expected_len  read_count  observed_vaf  \\\n",
       "0       chr1     840404     840466          0.00          90        0.9184   \n",
       "1       chr1     839177     839680        -42.00          95        0.9794   \n",
       "2       chr1     839177     839680          0.00           2        0.0206   \n",
       "3       chr1     850622     850687          0.00          19        0.1696   \n",
       "4       chr1     853415     853930        -49.00          98        0.9703   \n",
       "...      ...        ...        ...           ...         ...           ...   \n",
       "465255  chr9  138107101  138107291          1.75          91        1.0000   \n",
       "465256  chr9  138107726  138108356         -6.50          71        0.8353   \n",
       "465257  chr9  138107726  138108356          1.00          12        0.1412   \n",
       "465258  chr9  138099084  138099847        -32.00           1        0.0093   \n",
       "465259  chr9  138099084  138099847          0.00          30        0.2778   \n",
       "\n",
       "        expected_vaf vaf_bin  VAF delta  \n",
       "0             0.9900    High    -0.0716  \n",
       "1             0.9275    High     0.0519  \n",
       "2             0.0625     Low    -0.0419  \n",
       "3             0.9900    High    -0.8204  \n",
       "4             0.9275    High     0.0428  \n",
       "...              ...     ...        ...  \n",
       "465255        0.9800    High     0.0200  \n",
       "465256        0.8575    High    -0.0222  \n",
       "465257        0.1325     Low     0.0087  \n",
       "465258        0.0100     Low    -0.0007  \n",
       "465259        0.9800    High    -0.7022  \n",
       "\n",
       "[465260 rows x 9 columns]"
      ]
     },
     "execution_count": 16,
     "metadata": {},
     "output_type": "execute_result"
    }
   ],
   "source": [
    "measure"
   ]
  },
  {
   "cell_type": "code",
   "execution_count": 41,
   "id": "08c8414d-147b-4738-a79e-2aac61466b08",
   "metadata": {},
   "outputs": [],
   "source": [
    "washu_pacbio = measure.copy()"
   ]
  },
  {
   "cell_type": "code",
   "execution_count": 46,
   "id": "a50ed34b-a0b3-4f88-80de-c8f8477c2cfe",
   "metadata": {},
   "outputs": [],
   "source": [
    "bcm_ont = measure.copy()"
   ]
  },
  {
   "cell_type": "code",
   "execution_count": 53,
   "id": "2bbcb94a-732b-4752-83bb-a49656d3b38c",
   "metadata": {},
   "outputs": [],
   "source": [
    "bcm_pacbio = measure.copy()"
   ]
  },
  {
   "cell_type": "code",
   "execution_count": 60,
   "id": "8f2ecbbe-2b9f-4619-94fa-ca50efa25f59",
   "metadata": {},
   "outputs": [],
   "source": [
    "bo = bcm_ont[(bcm_ont['expected_len'].abs() >= 50) & (bcm_ont['read_count'] >= 1)].set_index(['chrom', 'start', 'end', 'expected_len'])\n",
    "bp = bcm_pacbio[(bcm_pacbio['expected_len'].abs() >= 50) & (bcm_pacbio['read_count'] >= 1)].set_index(['chrom', 'start', 'end', 'expected_len'])\n",
    "wp = washu_pacbio[(washu_pacbio['expected_len'].abs() >= 50) & (washu_pacbio['read_count'] >= 1)].set_index(['chrom', 'start', 'end', 'expected_len'])"
   ]
  },
  {
   "cell_type": "code",
   "execution_count": 61,
   "id": "7d948e0e-652d-4b74-9341-d100fbf71d5d",
   "metadata": {},
   "outputs": [
    {
     "data": {
      "text/html": [
       "<div>\n",
       "<style scoped>\n",
       "    .dataframe tbody tr th:only-of-type {\n",
       "        vertical-align: middle;\n",
       "    }\n",
       "\n",
       "    .dataframe tbody tr th {\n",
       "        vertical-align: top;\n",
       "    }\n",
       "\n",
       "    .dataframe thead th {\n",
       "        text-align: right;\n",
       "    }\n",
       "</style>\n",
       "<table border=\"1\" class=\"dataframe\">\n",
       "  <thead>\n",
       "    <tr style=\"text-align: right;\">\n",
       "      <th></th>\n",
       "      <th></th>\n",
       "      <th></th>\n",
       "      <th></th>\n",
       "      <th>read_count</th>\n",
       "      <th>observed_vaf</th>\n",
       "      <th>expected_vaf</th>\n",
       "      <th>vaf_bin</th>\n",
       "      <th>VAF delta</th>\n",
       "    </tr>\n",
       "    <tr>\n",
       "      <th>chrom</th>\n",
       "      <th>start</th>\n",
       "      <th>end</th>\n",
       "      <th>expected_len</th>\n",
       "      <th></th>\n",
       "      <th></th>\n",
       "      <th></th>\n",
       "      <th></th>\n",
       "      <th></th>\n",
       "    </tr>\n",
       "  </thead>\n",
       "  <tbody>\n",
       "    <tr>\n",
       "      <th rowspan=\"5\" valign=\"top\">chr1</th>\n",
       "      <th>872478</th>\n",
       "      <th>873203</th>\n",
       "      <th>-210.0</th>\n",
       "      <td>41</td>\n",
       "      <td>0.4940</td>\n",
       "      <td>0.4175</td>\n",
       "      <td>Medium</td>\n",
       "      <td>0.0765</td>\n",
       "    </tr>\n",
       "    <tr>\n",
       "      <th rowspan=\"3\" valign=\"top\">904387</th>\n",
       "      <th rowspan=\"3\" valign=\"top\">904830</th>\n",
       "      <th>-98.0</th>\n",
       "      <td>32</td>\n",
       "      <td>0.3368</td>\n",
       "      <td>0.4200</td>\n",
       "      <td>Medium</td>\n",
       "      <td>-0.0832</td>\n",
       "    </tr>\n",
       "    <tr>\n",
       "      <th>79.0</th>\n",
       "      <td>9</td>\n",
       "      <td>0.0947</td>\n",
       "      <td>0.0500</td>\n",
       "      <td>Low</td>\n",
       "      <td>0.0447</td>\n",
       "    </tr>\n",
       "    <tr>\n",
       "      <th>354.0</th>\n",
       "      <td>7</td>\n",
       "      <td>0.0737</td>\n",
       "      <td>0.0500</td>\n",
       "      <td>Low</td>\n",
       "      <td>0.0237</td>\n",
       "    </tr>\n",
       "    <tr>\n",
       "      <th>866379</th>\n",
       "      <th>867217</th>\n",
       "      <th>147.0</th>\n",
       "      <td>92</td>\n",
       "      <td>0.9787</td>\n",
       "      <td>0.9650</td>\n",
       "      <td>High</td>\n",
       "      <td>0.0137</td>\n",
       "    </tr>\n",
       "  </tbody>\n",
       "</table>\n",
       "</div>"
      ],
      "text/plain": [
       "                                  read_count  observed_vaf  expected_vaf  \\\n",
       "chrom start  end    expected_len                                           \n",
       "chr1  872478 873203 -210.0                41        0.4940        0.4175   \n",
       "      904387 904830 -98.0                 32        0.3368        0.4200   \n",
       "                     79.0                  9        0.0947        0.0500   \n",
       "                     354.0                 7        0.0737        0.0500   \n",
       "      866379 867217  147.0                92        0.9787        0.9650   \n",
       "\n",
       "                                 vaf_bin  VAF delta  \n",
       "chrom start  end    expected_len                     \n",
       "chr1  872478 873203 -210.0        Medium     0.0765  \n",
       "      904387 904830 -98.0         Medium    -0.0832  \n",
       "                     79.0            Low     0.0447  \n",
       "                     354.0           Low     0.0237  \n",
       "      866379 867217  147.0          High     0.0137  "
      ]
     },
     "execution_count": 61,
     "metadata": {},
     "output_type": "execute_result"
    }
   ],
   "source": [
    "bo.head()"
   ]
  },
  {
   "cell_type": "code",
   "execution_count": 86,
   "id": "e6e2f074-316c-4c54-bc18-4bfc926d1f95",
   "metadata": {},
   "outputs": [],
   "source": [
    "x = bo.join(bp, lsuffix='_bont', rsuffix='_bpac', how='outer')"
   ]
  },
  {
   "cell_type": "code",
   "execution_count": 87,
   "id": "1784cab9-5dc1-4aa0-8e56-abf12c1d689e",
   "metadata": {},
   "outputs": [
    {
     "data": {
      "text/html": [
       "<div>\n",
       "<style scoped>\n",
       "    .dataframe tbody tr th:only-of-type {\n",
       "        vertical-align: middle;\n",
       "    }\n",
       "\n",
       "    .dataframe tbody tr th {\n",
       "        vertical-align: top;\n",
       "    }\n",
       "\n",
       "    .dataframe thead th {\n",
       "        text-align: right;\n",
       "    }\n",
       "</style>\n",
       "<table border=\"1\" class=\"dataframe\">\n",
       "  <thead>\n",
       "    <tr style=\"text-align: right;\">\n",
       "      <th>read_count_bpac</th>\n",
       "      <th>False</th>\n",
       "      <th>True</th>\n",
       "    </tr>\n",
       "    <tr>\n",
       "      <th>read_count_bont</th>\n",
       "      <th></th>\n",
       "      <th></th>\n",
       "    </tr>\n",
       "  </thead>\n",
       "  <tbody>\n",
       "    <tr>\n",
       "      <th>False</th>\n",
       "      <td>38087.0</td>\n",
       "      <td>5243.0</td>\n",
       "    </tr>\n",
       "    <tr>\n",
       "      <th>True</th>\n",
       "      <td>3939.0</td>\n",
       "      <td>NaN</td>\n",
       "    </tr>\n",
       "  </tbody>\n",
       "</table>\n",
       "</div>"
      ],
      "text/plain": [
       "read_count_bpac    False   True \n",
       "read_count_bont                 \n",
       "False            38087.0  5243.0\n",
       "True              3939.0     NaN"
      ]
     },
     "execution_count": 87,
     "metadata": {},
     "output_type": "execute_result"
    }
   ],
   "source": [
    "x[['read_count_bont', 'read_count_bpac']].isna().value_counts().unstack()"
   ]
  },
  {
   "cell_type": "code",
   "execution_count": 80,
   "id": "bc69cdce-8ce9-412b-8186-b09834aa1194",
   "metadata": {},
   "outputs": [],
   "source": [
    "x = bp.join(wp, lsuffix='_bpac', rsuffix='_wpac', how='outer')"
   ]
  },
  {
   "cell_type": "code",
   "execution_count": 83,
   "id": "1a3b9429-1d53-4fe9-9c96-a35e13d068a5",
   "metadata": {},
   "outputs": [
    {
     "data": {
      "text/html": [
       "<div>\n",
       "<style scoped>\n",
       "    .dataframe tbody tr th:only-of-type {\n",
       "        vertical-align: middle;\n",
       "    }\n",
       "\n",
       "    .dataframe tbody tr th {\n",
       "        vertical-align: top;\n",
       "    }\n",
       "\n",
       "    .dataframe thead th {\n",
       "        text-align: right;\n",
       "    }\n",
       "</style>\n",
       "<table border=\"1\" class=\"dataframe\">\n",
       "  <thead>\n",
       "    <tr style=\"text-align: right;\">\n",
       "      <th>read_count_bpac</th>\n",
       "      <th>False</th>\n",
       "      <th>True</th>\n",
       "    </tr>\n",
       "    <tr>\n",
       "      <th>read_count_wpac</th>\n",
       "      <th></th>\n",
       "      <th></th>\n",
       "    </tr>\n",
       "  </thead>\n",
       "  <tbody>\n",
       "    <tr>\n",
       "      <th>False</th>\n",
       "      <td>37340.0</td>\n",
       "      <td>4396.0</td>\n",
       "    </tr>\n",
       "    <tr>\n",
       "      <th>True</th>\n",
       "      <td>4686.0</td>\n",
       "      <td>NaN</td>\n",
       "    </tr>\n",
       "  </tbody>\n",
       "</table>\n",
       "</div>"
      ],
      "text/plain": [
       "read_count_bpac    False   True \n",
       "read_count_wpac                 \n",
       "False            37340.0  4396.0\n",
       "True              4686.0     NaN"
      ]
     },
     "execution_count": 83,
     "metadata": {},
     "output_type": "execute_result"
    }
   ],
   "source": [
    "x[['read_count_wpac', 'read_count_bpac']].isna().value_counts().unstack()"
   ]
  },
  {
   "cell_type": "code",
   "execution_count": 93,
   "id": "7d538320-ffce-408c-a3c6-795eab5c9473",
   "metadata": {},
   "outputs": [
    {
     "data": {
      "text/html": [
       "<div>\n",
       "<style scoped>\n",
       "    .dataframe tbody tr th:only-of-type {\n",
       "        vertical-align: middle;\n",
       "    }\n",
       "\n",
       "    .dataframe tbody tr th {\n",
       "        vertical-align: top;\n",
       "    }\n",
       "\n",
       "    .dataframe thead th {\n",
       "        text-align: right;\n",
       "    }\n",
       "</style>\n",
       "<table border=\"1\" class=\"dataframe\">\n",
       "  <thead>\n",
       "    <tr style=\"text-align: right;\">\n",
       "      <th>read_count_wpac</th>\n",
       "      <th>False</th>\n",
       "      <th>True</th>\n",
       "    </tr>\n",
       "    <tr>\n",
       "      <th>read_count_bont</th>\n",
       "      <th></th>\n",
       "      <th></th>\n",
       "    </tr>\n",
       "  </thead>\n",
       "  <tbody>\n",
       "    <tr>\n",
       "      <th>False</th>\n",
       "      <td>37941.0</td>\n",
       "      <td>5389.0</td>\n",
       "    </tr>\n",
       "    <tr>\n",
       "      <th>True</th>\n",
       "      <td>3795.0</td>\n",
       "      <td>NaN</td>\n",
       "    </tr>\n",
       "  </tbody>\n",
       "</table>\n",
       "</div>"
      ],
      "text/plain": [
       "read_count_wpac    False   True \n",
       "read_count_bont                 \n",
       "False            37941.0  5389.0\n",
       "True              3795.0     NaN"
      ]
     },
     "execution_count": 93,
     "metadata": {},
     "output_type": "execute_result"
    }
   ],
   "source": [
    "x = bo.join(wp, lsuffix='_bont', rsuffix='_wpac', how='outer')\n",
    "x[['read_count_bont', 'read_count_wpac']].isna().value_counts().unstack()"
   ]
  },
  {
   "cell_type": "code",
   "execution_count": 89,
   "id": "a4c76575-b460-400d-9c0f-858da5373b6c",
   "metadata": {},
   "outputs": [],
   "source": [
    "y = x.join(wp, how='outer')"
   ]
  },
  {
   "cell_type": "code",
   "execution_count": 90,
   "id": "26323fc4-3dd5-4f83-b8b5-61656df455b9",
   "metadata": {},
   "outputs": [],
   "source": [
    "both_b = y[(~y['read_count_bont'].isna() == ~y['read_count_bpac'].isna())]"
   ]
  },
  {
   "cell_type": "code",
   "execution_count": 91,
   "id": "bbf20f2a-8a24-4e8d-83ab-e8b095fe0dcf",
   "metadata": {},
   "outputs": [
    {
     "data": {
      "text/html": [
       "<div>\n",
       "<style scoped>\n",
       "    .dataframe tbody tr th:only-of-type {\n",
       "        vertical-align: middle;\n",
       "    }\n",
       "\n",
       "    .dataframe tbody tr th {\n",
       "        vertical-align: top;\n",
       "    }\n",
       "\n",
       "    .dataframe thead th {\n",
       "        text-align: right;\n",
       "    }\n",
       "</style>\n",
       "<table border=\"1\" class=\"dataframe\">\n",
       "  <thead>\n",
       "    <tr style=\"text-align: right;\">\n",
       "      <th>read_count_bpac</th>\n",
       "      <th>False</th>\n",
       "      <th>True</th>\n",
       "    </tr>\n",
       "    <tr>\n",
       "      <th>read_count</th>\n",
       "      <th></th>\n",
       "      <th></th>\n",
       "    </tr>\n",
       "  </thead>\n",
       "  <tbody>\n",
       "    <tr>\n",
       "      <th>False</th>\n",
       "      <td>35017.0</td>\n",
       "      <td>1472.0</td>\n",
       "    </tr>\n",
       "    <tr>\n",
       "      <th>True</th>\n",
       "      <td>3070.0</td>\n",
       "      <td>NaN</td>\n",
       "    </tr>\n",
       "  </tbody>\n",
       "</table>\n",
       "</div>"
      ],
      "text/plain": [
       "read_count_bpac    False   True \n",
       "read_count                      \n",
       "False            35017.0  1472.0\n",
       "True              3070.0     NaN"
      ]
     },
     "execution_count": 91,
     "metadata": {},
     "output_type": "execute_result"
    }
   ],
   "source": [
    "both_b[['read_count', 'read_count_bpac']].isna().value_counts().unstack()"
   ]
  },
  {
   "cell_type": "code",
   "execution_count": 75,
   "id": "ca3cb460-c44e-43cd-87ac-d040fc146565",
   "metadata": {},
   "outputs": [
    {
     "data": {
      "text/plain": [
       "read_count_bpac\n",
       "False    38087\n",
       "True      1472\n",
       "Name: count, dtype: int64"
      ]
     },
     "execution_count": 75,
     "metadata": {},
     "output_type": "execute_result"
    }
   ],
   "source": [
    "both_b['read_count_bpac'].isna().value_counts()"
   ]
  },
  {
   "cell_type": "code",
   "execution_count": 77,
   "id": "74d531b3-7178-46bc-8da7-0071aab032f8",
   "metadata": {},
   "outputs": [
    {
     "data": {
      "text/plain": [
       "read_count\n",
       "False    36489\n",
       "True      3070\n",
       "Name: count, dtype: int64"
      ]
     },
     "execution_count": 77,
     "metadata": {},
     "output_type": "execute_result"
    }
   ],
   "source": [
    "both_b['read_count'].isna().value_counts()"
   ]
  },
  {
   "cell_type": "markdown",
   "id": "ec8ab0d0-d2cc-4310-a412-277f17e901b5",
   "metadata": {},
   "source": [
    "# Obs - Exp VAF by Coverage"
   ]
  },
  {
   "cell_type": "code",
   "execution_count": 25,
   "id": "7f484037-ac65-461f-8314-9991d94b676f",
   "metadata": {},
   "outputs": [
    {
     "data": {
      "text/html": [
       "<div>\n",
       "<style scoped>\n",
       "    .dataframe tbody tr th:only-of-type {\n",
       "        vertical-align: middle;\n",
       "    }\n",
       "\n",
       "    .dataframe tbody tr th {\n",
       "        vertical-align: top;\n",
       "    }\n",
       "\n",
       "    .dataframe thead th {\n",
       "        text-align: right;\n",
       "    }\n",
       "</style>\n",
       "<table border=\"1\" class=\"dataframe\">\n",
       "  <thead>\n",
       "    <tr style=\"text-align: right;\">\n",
       "      <th></th>\n",
       "      <th>chrom</th>\n",
       "      <th>start</th>\n",
       "      <th>end</th>\n",
       "      <th>expected_len</th>\n",
       "      <th>read_count</th>\n",
       "      <th>observed_vaf</th>\n",
       "      <th>expected_vaf</th>\n",
       "      <th>vaf_bin</th>\n",
       "      <th>VAF delta</th>\n",
       "      <th>orig_coverage</th>\n",
       "    </tr>\n",
       "  </thead>\n",
       "  <tbody>\n",
       "    <tr>\n",
       "      <th>0</th>\n",
       "      <td>chr1</td>\n",
       "      <td>840404</td>\n",
       "      <td>840466</td>\n",
       "      <td>0.00</td>\n",
       "      <td>90</td>\n",
       "      <td>0.9184</td>\n",
       "      <td>0.9900</td>\n",
       "      <td>High</td>\n",
       "      <td>-0.0716</td>\n",
       "      <td>97.996516</td>\n",
       "    </tr>\n",
       "    <tr>\n",
       "      <th>1</th>\n",
       "      <td>chr1</td>\n",
       "      <td>839177</td>\n",
       "      <td>839680</td>\n",
       "      <td>-42.00</td>\n",
       "      <td>95</td>\n",
       "      <td>0.9794</td>\n",
       "      <td>0.9275</td>\n",
       "      <td>High</td>\n",
       "      <td>0.0519</td>\n",
       "      <td>96.998162</td>\n",
       "    </tr>\n",
       "    <tr>\n",
       "      <th>2</th>\n",
       "      <td>chr1</td>\n",
       "      <td>839177</td>\n",
       "      <td>839680</td>\n",
       "      <td>0.00</td>\n",
       "      <td>2</td>\n",
       "      <td>0.0206</td>\n",
       "      <td>0.0625</td>\n",
       "      <td>Low</td>\n",
       "      <td>-0.0419</td>\n",
       "      <td>97.087379</td>\n",
       "    </tr>\n",
       "    <tr>\n",
       "      <th>3</th>\n",
       "      <td>chr1</td>\n",
       "      <td>850622</td>\n",
       "      <td>850687</td>\n",
       "      <td>0.00</td>\n",
       "      <td>19</td>\n",
       "      <td>0.1696</td>\n",
       "      <td>0.9900</td>\n",
       "      <td>High</td>\n",
       "      <td>-0.8204</td>\n",
       "      <td>112.028302</td>\n",
       "    </tr>\n",
       "    <tr>\n",
       "      <th>4</th>\n",
       "      <td>chr1</td>\n",
       "      <td>853415</td>\n",
       "      <td>853930</td>\n",
       "      <td>-49.00</td>\n",
       "      <td>98</td>\n",
       "      <td>0.9703</td>\n",
       "      <td>0.9275</td>\n",
       "      <td>High</td>\n",
       "      <td>0.0428</td>\n",
       "      <td>100.999691</td>\n",
       "    </tr>\n",
       "    <tr>\n",
       "      <th>...</th>\n",
       "      <td>...</td>\n",
       "      <td>...</td>\n",
       "      <td>...</td>\n",
       "      <td>...</td>\n",
       "      <td>...</td>\n",
       "      <td>...</td>\n",
       "      <td>...</td>\n",
       "      <td>...</td>\n",
       "      <td>...</td>\n",
       "      <td>...</td>\n",
       "    </tr>\n",
       "    <tr>\n",
       "      <th>465255</th>\n",
       "      <td>chr9</td>\n",
       "      <td>138107101</td>\n",
       "      <td>138107291</td>\n",
       "      <td>1.75</td>\n",
       "      <td>91</td>\n",
       "      <td>1.0000</td>\n",
       "      <td>0.9800</td>\n",
       "      <td>High</td>\n",
       "      <td>0.0200</td>\n",
       "      <td>91.000000</td>\n",
       "    </tr>\n",
       "    <tr>\n",
       "      <th>465256</th>\n",
       "      <td>chr9</td>\n",
       "      <td>138107726</td>\n",
       "      <td>138108356</td>\n",
       "      <td>-6.50</td>\n",
       "      <td>71</td>\n",
       "      <td>0.8353</td>\n",
       "      <td>0.8575</td>\n",
       "      <td>High</td>\n",
       "      <td>-0.0222</td>\n",
       "      <td>84.999401</td>\n",
       "    </tr>\n",
       "    <tr>\n",
       "      <th>465257</th>\n",
       "      <td>chr9</td>\n",
       "      <td>138107726</td>\n",
       "      <td>138108356</td>\n",
       "      <td>1.00</td>\n",
       "      <td>12</td>\n",
       "      <td>0.1412</td>\n",
       "      <td>0.1325</td>\n",
       "      <td>Low</td>\n",
       "      <td>0.0087</td>\n",
       "      <td>84.985836</td>\n",
       "    </tr>\n",
       "    <tr>\n",
       "      <th>465258</th>\n",
       "      <td>chr9</td>\n",
       "      <td>138099084</td>\n",
       "      <td>138099847</td>\n",
       "      <td>-32.00</td>\n",
       "      <td>1</td>\n",
       "      <td>0.0093</td>\n",
       "      <td>0.0100</td>\n",
       "      <td>Low</td>\n",
       "      <td>-0.0007</td>\n",
       "      <td>107.526882</td>\n",
       "    </tr>\n",
       "    <tr>\n",
       "      <th>465259</th>\n",
       "      <td>chr9</td>\n",
       "      <td>138099084</td>\n",
       "      <td>138099847</td>\n",
       "      <td>0.00</td>\n",
       "      <td>30</td>\n",
       "      <td>0.2778</td>\n",
       "      <td>0.9800</td>\n",
       "      <td>High</td>\n",
       "      <td>-0.7022</td>\n",
       "      <td>107.991361</td>\n",
       "    </tr>\n",
       "  </tbody>\n",
       "</table>\n",
       "<p>465260 rows × 10 columns</p>\n",
       "</div>"
      ],
      "text/plain": [
       "       chrom      start        end  expected_len  read_count  observed_vaf  \\\n",
       "0       chr1     840404     840466          0.00          90        0.9184   \n",
       "1       chr1     839177     839680        -42.00          95        0.9794   \n",
       "2       chr1     839177     839680          0.00           2        0.0206   \n",
       "3       chr1     850622     850687          0.00          19        0.1696   \n",
       "4       chr1     853415     853930        -49.00          98        0.9703   \n",
       "...      ...        ...        ...           ...         ...           ...   \n",
       "465255  chr9  138107101  138107291          1.75          91        1.0000   \n",
       "465256  chr9  138107726  138108356         -6.50          71        0.8353   \n",
       "465257  chr9  138107726  138108356          1.00          12        0.1412   \n",
       "465258  chr9  138099084  138099847        -32.00           1        0.0093   \n",
       "465259  chr9  138099084  138099847          0.00          30        0.2778   \n",
       "\n",
       "        expected_vaf vaf_bin  VAF delta  orig_coverage  \n",
       "0             0.9900    High    -0.0716      97.996516  \n",
       "1             0.9275    High     0.0519      96.998162  \n",
       "2             0.0625     Low    -0.0419      97.087379  \n",
       "3             0.9900    High    -0.8204     112.028302  \n",
       "4             0.9275    High     0.0428     100.999691  \n",
       "...              ...     ...        ...            ...  \n",
       "465255        0.9800    High     0.0200      91.000000  \n",
       "465256        0.8575    High    -0.0222      84.999401  \n",
       "465257        0.1325     Low     0.0087      84.985836  \n",
       "465258        0.0100     Low    -0.0007     107.526882  \n",
       "465259        0.9800    High    -0.7022     107.991361  \n",
       "\n",
       "[465260 rows x 10 columns]"
      ]
     },
     "execution_count": 25,
     "metadata": {},
     "output_type": "execute_result"
    }
   ],
   "source": [
    "measure"
   ]
  },
  {
   "cell_type": "code",
   "execution_count": 83,
   "id": "98d70912-7b78-4f0d-b93e-456dd2ab1463",
   "metadata": {},
   "outputs": [],
   "source": [
    "import sys\n",
    "measure['coverage_bin'] = pd.cut(measure['orig_coverage'], bins=[0, 72, 104, sys.maxsize], labels=[\"<72\", \"[72,104)\", \"≥104\"])"
   ]
  },
  {
   "cell_type": "code",
   "execution_count": 84,
   "id": "b8ff1a64-c867-4792-8ad9-5279fc349b99",
   "metadata": {},
   "outputs": [
    {
     "name": "stderr",
     "output_type": "stream",
     "text": [
      "/Users/english/py/lib/python3.9/site-packages/seaborn/_oldcore.py:1119: FutureWarning: use_inf_as_na option is deprecated and will be removed in a future version. Convert inf values to NaN before operating instead.\n",
      "  with pd.option_context('mode.use_inf_as_na', True):\n",
      "/Users/english/py/lib/python3.9/site-packages/seaborn/_oldcore.py:1057: FutureWarning: The default of observed=False is deprecated and will be changed to True in a future version of pandas. Pass observed=False to retain current behavior or observed=True to adopt the future default and silence this warning.\n",
      "  grouped_data = data.groupby(\n",
      "/Users/english/py/lib/python3.9/site-packages/seaborn/_oldcore.py:1075: FutureWarning: When grouping with a length-1 list-like, you will need to pass a length-1 tuple to get_group in a future version of pandas. Pass `(name,)` instead of `name` to silence this warning.\n",
      "  data_subset = grouped_data.get_group(pd_key)\n",
      "/Users/english/py/lib/python3.9/site-packages/seaborn/_oldcore.py:1057: FutureWarning: The default of observed=False is deprecated and will be changed to True in a future version of pandas. Pass observed=False to retain current behavior or observed=True to adopt the future default and silence this warning.\n",
      "  grouped_data = data.groupby(\n",
      "/Users/english/py/lib/python3.9/site-packages/seaborn/_oldcore.py:1075: FutureWarning: When grouping with a length-1 list-like, you will need to pass a length-1 tuple to get_group in a future version of pandas. Pass `(name,)` instead of `name` to silence this warning.\n",
      "  data_subset = grouped_data.get_group(pd_key)\n",
      "/Users/english/py/lib/python3.9/site-packages/seaborn/_oldcore.py:1075: FutureWarning: When grouping with a length-1 list-like, you will need to pass a length-1 tuple to get_group in a future version of pandas. Pass `(name,)` instead of `name` to silence this warning.\n",
      "  data_subset = grouped_data.get_group(pd_key)\n",
      "/Users/english/py/lib/python3.9/site-packages/seaborn/_oldcore.py:1075: FutureWarning: When grouping with a length-1 list-like, you will need to pass a length-1 tuple to get_group in a future version of pandas. Pass `(name,)` instead of `name` to silence this warning.\n",
      "  data_subset = grouped_data.get_group(pd_key)\n"
     ]
    },
    {
     "data": {
      "text/plain": [
       "[Text(0.5, 1.0, 'Observed - Expected VAF'), Text(0.5, 0, 'VAF ∆'), (-1.0, 1.0)]"
      ]
     },
     "execution_count": 84,
     "metadata": {},
     "output_type": "execute_result"
    },
    {
     "data": {
      "image/png": "[encoded data removed]",
      "text/plain": [
       "<Figure size 640x480 with 1 Axes>"
      ]
     },
     "metadata": {},
     "output_type": "display_data"
    }
   ],
   "source": [
    "view = measure[(measure['read_count'] != 0) \n",
    "              & (measure['expected_len'].abs() >= 50)]\n",
    "p = sb.histplot(data=view, x=\"VAF delta\", binwidth=0.02, hue='coverage_bin', multiple='stack')\n",
    "p.set(title=\"Observed - Expected VAF\", xlabel=\"VAF ∆\", xlim=(-1,1))"
   ]
  },
  {
   "cell_type": "code",
   "execution_count": 85,
   "id": "d9582793-e25f-4994-b1ba-c8d45f6e8236",
   "metadata": {},
   "outputs": [
    {
     "data": {
      "text/html": [
       "<div>\n",
       "<style scoped>\n",
       "    .dataframe tbody tr th:only-of-type {\n",
       "        vertical-align: middle;\n",
       "    }\n",
       "\n",
       "    .dataframe tbody tr th {\n",
       "        vertical-align: top;\n",
       "    }\n",
       "\n",
       "    .dataframe thead th {\n",
       "        text-align: right;\n",
       "    }\n",
       "</style>\n",
       "<table border=\"1\" class=\"dataframe\">\n",
       "  <thead>\n",
       "    <tr style=\"text-align: right;\">\n",
       "      <th></th>\n",
       "      <th>Low Cov</th>\n",
       "      <th>Medium Cov</th>\n",
       "      <th>High Cov</th>\n",
       "    </tr>\n",
       "  </thead>\n",
       "  <tbody>\n",
       "    <tr>\n",
       "      <th>count</th>\n",
       "      <td>10691.000000</td>\n",
       "      <td>20932.000000</td>\n",
       "      <td>10403.000000</td>\n",
       "    </tr>\n",
       "    <tr>\n",
       "      <th>mean</th>\n",
       "      <td>0.011488</td>\n",
       "      <td>0.007111</td>\n",
       "      <td>0.004010</td>\n",
       "    </tr>\n",
       "    <tr>\n",
       "      <th>50%</th>\n",
       "      <td>0.012200</td>\n",
       "      <td>0.009500</td>\n",
       "      <td>0.006700</td>\n",
       "    </tr>\n",
       "    <tr>\n",
       "      <th>std</th>\n",
       "      <td>0.098688</td>\n",
       "      <td>0.061077</td>\n",
       "      <td>0.055039</td>\n",
       "    </tr>\n",
       "    <tr>\n",
       "      <th>PearsonR</th>\n",
       "      <td>0.932930</td>\n",
       "      <td>0.976196</td>\n",
       "      <td>0.981030</td>\n",
       "    </tr>\n",
       "    <tr>\n",
       "      <th>MSE</th>\n",
       "      <td>0.009870</td>\n",
       "      <td>0.003781</td>\n",
       "      <td>0.003045</td>\n",
       "    </tr>\n",
       "  </tbody>\n",
       "</table>\n",
       "</div>"
      ],
      "text/plain": [
       "               Low Cov    Medium Cov      High Cov\n",
       "count     10691.000000  20932.000000  10403.000000\n",
       "mean          0.011488      0.007111      0.004010\n",
       "50%           0.012200      0.009500      0.006700\n",
       "std           0.098688      0.061077      0.055039\n",
       "PearsonR      0.932930      0.976196      0.981030\n",
       "MSE           0.009870      0.003781      0.003045"
      ]
     },
     "execution_count": 85,
     "metadata": {},
     "output_type": "execute_result"
    }
   ],
   "source": [
    "parts = []\n",
    "mask = (view['coverage_bin'] == \"<72\")\n",
    "parts.append((view[mask]['observed_vaf'] - view[mask]['expected_vaf']).describe().to_frame())\n",
    "parts[-1].loc['PearsonR'] = pearsonr(view[mask]['observed_vaf'], view[mask]['expected_vaf'])[0]\n",
    "MSE = ((view[mask]['expected_vaf'] - view[mask]['observed_vaf']) ** 2).sum()  / len(view[mask])\n",
    "parts[-1].loc['MSE'] = MSE\n",
    "\n",
    "mask = view['coverage_bin'] == \"[72,104)\"\n",
    "parts.append((view[mask]['observed_vaf'] - view[mask]['expected_vaf']).describe().to_frame())\n",
    "parts[-1].loc['PearsonR'] = pearsonr(view[mask]['observed_vaf'], view[mask]['expected_vaf'])[0]\n",
    "MSE = ((view[mask]['expected_vaf'] - view[mask]['observed_vaf']) ** 2).sum()  / len(view[mask])\n",
    "parts[-1].loc['MSE'] = MSE\n",
    "\n",
    "mask = view['coverage_bin'] == \"≥104\"\n",
    "parts.append((view[mask]['observed_vaf'] - view[mask]['expected_vaf']).describe().to_frame())\n",
    "parts[-1].loc['PearsonR'] = pearsonr(view[mask]['observed_vaf'], view[mask]['expected_vaf'])[0]\n",
    "MSE = ((view[mask]['expected_vaf'] - view[mask]['observed_vaf']) ** 2).sum()  / len(view[mask])\n",
    "parts[-1].loc['MSE'] = MSE\n",
    "\n",
    "cov_report = pd.concat(parts, axis=1)\n",
    "cov_report.columns = [\"Low Cov\", \"Medium Cov\", \"High Cov\"]\n",
    "\n",
    "cov_report.loc[['count', 'mean', '50%', 'std', 'PearsonR', 'MSE']]"
   ]
  },
  {
   "cell_type": "code",
   "execution_count": 86,
   "id": "d03c2c29-52ae-478c-9583-f580c755cf5c",
   "metadata": {},
   "outputs": [
    {
     "name": "stderr",
     "output_type": "stream",
     "text": [
      "/var/folders/fy/lkd5_yz90zq3f67qys3tpztc0000gn/T/ipykernel_1062/583592222.py:1: FutureWarning: The default of observed=False is deprecated and will be changed to True in a future version of pandas. Pass observed=False to retain current behavior or observed=True to adopt the future default and silence this warning.\n",
      "  measure[(measure['expected_len'].abs() >= 50)\n"
     ]
    },
    {
     "data": {
      "text/html": [
       "<div>\n",
       "<style scoped>\n",
       "    .dataframe tbody tr th:only-of-type {\n",
       "        vertical-align: middle;\n",
       "    }\n",
       "\n",
       "    .dataframe tbody tr th {\n",
       "        vertical-align: top;\n",
       "    }\n",
       "\n",
       "    .dataframe thead th {\n",
       "        text-align: right;\n",
       "    }\n",
       "</style>\n",
       "<table border=\"1\" class=\"dataframe\">\n",
       "  <thead>\n",
       "    <tr style=\"text-align: right;\">\n",
       "      <th>coverage_bin</th>\n",
       "      <th>&lt;72</th>\n",
       "      <th>[72,104)</th>\n",
       "      <th>≥104</th>\n",
       "    </tr>\n",
       "    <tr>\n",
       "      <th>vaf_bin</th>\n",
       "      <th></th>\n",
       "      <th></th>\n",
       "      <th></th>\n",
       "    </tr>\n",
       "  </thead>\n",
       "  <tbody>\n",
       "    <tr>\n",
       "      <th>Low</th>\n",
       "      <td>0.036</td>\n",
       "      <td>0.021</td>\n",
       "      <td>0.017</td>\n",
       "    </tr>\n",
       "    <tr>\n",
       "      <th>Medium</th>\n",
       "      <td>-0.020</td>\n",
       "      <td>-0.016</td>\n",
       "      <td>-0.021</td>\n",
       "    </tr>\n",
       "    <tr>\n",
       "      <th>High</th>\n",
       "      <td>-0.066</td>\n",
       "      <td>-0.029</td>\n",
       "      <td>-0.036</td>\n",
       "    </tr>\n",
       "  </tbody>\n",
       "</table>\n",
       "</div>"
      ],
      "text/plain": [
       "coverage_bin    <72  [72,104)   ≥104\n",
       "vaf_bin                             \n",
       "Low           0.036     0.021  0.017\n",
       "Medium       -0.020    -0.016 -0.021\n",
       "High         -0.066    -0.029 -0.036"
      ]
     },
     "execution_count": 86,
     "metadata": {},
     "output_type": "execute_result"
    }
   ],
   "source": [
    "measure[(measure['expected_len'].abs() >= 50) \n",
    "        & (measure['read_count'] != 0)].groupby(['vaf_bin', 'coverage_bin'])['VAF delta'].describe()['mean'].unstack().round(3)"
   ]
  },
  {
   "cell_type": "code",
   "execution_count": 87,
   "id": "1f05e099-2aa3-40c4-8ec1-0815a062a3d3",
   "metadata": {},
   "outputs": [
    {
     "name": "stderr",
     "output_type": "stream",
     "text": [
      "/var/folders/fy/lkd5_yz90zq3f67qys3tpztc0000gn/T/ipykernel_1062/1669775510.py:6: FutureWarning: The default of observed=False is deprecated and will be changed to True in a future version of pandas. Pass observed=False to retain current behavior or observed=True to adopt the future default and silence this warning.\n",
      "  measure[(measure['expected_len'].abs() >= 50)\n",
      "/var/folders/fy/lkd5_yz90zq3f67qys3tpztc0000gn/T/ipykernel_1062/1669775510.py:6: DeprecationWarning: DataFrameGroupBy.apply operated on the grouping columns. This behavior is deprecated, and in a future version of pandas the grouping columns will be excluded from the operation. Either pass `include_groups=False` to exclude the groupings or explicitly select the grouping columns after groupby to silence this warning.\n",
      "  measure[(measure['expected_len'].abs() >= 50)\n"
     ]
    },
    {
     "data": {
      "text/html": [
       "<div>\n",
       "<style scoped>\n",
       "    .dataframe tbody tr th:only-of-type {\n",
       "        vertical-align: middle;\n",
       "    }\n",
       "\n",
       "    .dataframe tbody tr th {\n",
       "        vertical-align: top;\n",
       "    }\n",
       "\n",
       "    .dataframe thead th {\n",
       "        text-align: right;\n",
       "    }\n",
       "</style>\n",
       "<table border=\"1\" class=\"dataframe\">\n",
       "  <thead>\n",
       "    <tr style=\"text-align: right;\">\n",
       "      <th>coverage_bin</th>\n",
       "      <th>&lt;72</th>\n",
       "      <th>[72,104)</th>\n",
       "      <th>≥104</th>\n",
       "    </tr>\n",
       "    <tr>\n",
       "      <th>vaf_bin</th>\n",
       "      <th></th>\n",
       "      <th></th>\n",
       "      <th></th>\n",
       "    </tr>\n",
       "  </thead>\n",
       "  <tbody>\n",
       "    <tr>\n",
       "      <th>Low</th>\n",
       "      <td>0.006</td>\n",
       "      <td>0.002</td>\n",
       "      <td>0.002</td>\n",
       "    </tr>\n",
       "    <tr>\n",
       "      <th>Medium</th>\n",
       "      <td>0.013</td>\n",
       "      <td>0.006</td>\n",
       "      <td>0.004</td>\n",
       "    </tr>\n",
       "    <tr>\n",
       "      <th>High</th>\n",
       "      <td>0.023</td>\n",
       "      <td>0.009</td>\n",
       "      <td>0.011</td>\n",
       "    </tr>\n",
       "  </tbody>\n",
       "</table>\n",
       "</div>"
      ],
      "text/plain": [
       "coverage_bin    <72  [72,104)   ≥104\n",
       "vaf_bin                             \n",
       "Low           0.006     0.002  0.002\n",
       "Medium        0.013     0.006  0.004\n",
       "High          0.023     0.009  0.011"
      ]
     },
     "execution_count": 87,
     "metadata": {},
     "output_type": "execute_result"
    }
   ],
   "source": [
    "def pr(x):\n",
    "    return pearsonr(x['observed_vaf'], x['expected_vaf'])[0]\n",
    "def mse(x):\n",
    "    return ((x['expected_vaf'] - x['observed_vaf']) ** 2).sum()  / len(x)\n",
    "\n",
    "measure[(measure['expected_len'].abs() >= 50) \n",
    "    & (measure['read_count'] != 0)].groupby(['vaf_bin', 'coverage_bin']).apply(mse).unstack().round(3)"
   ]
  },
  {
   "cell_type": "code",
   "execution_count": 70,
   "id": "1cf69887-7856-4f2b-ab06-7b210efeeac0",
   "metadata": {},
   "outputs": [
    {
     "data": {
      "text/plain": [
       "count    465260.000000\n",
       "mean         36.104631\n",
       "std         900.512764\n",
       "min      -13021.000000\n",
       "25%          -4.000000\n",
       "50%           0.000000\n",
       "75%           6.500000\n",
       "max      297863.000000\n",
       "Name: expected_len, dtype: float64"
      ]
     },
     "execution_count": 70,
     "metadata": {},
     "output_type": "execute_result"
    }
   ],
   "source": [
    "measure['expected_len'].describe()"
   ]
  },
  {
   "cell_type": "code",
   "execution_count": 74,
   "id": "aa6f6cc9-cc36-48f7-a6ce-a2ddf7e3da00",
   "metadata": {},
   "outputs": [
    {
     "name": "stderr",
     "output_type": "stream",
     "text": [
      "/var/folders/fy/lkd5_yz90zq3f67qys3tpztc0000gn/T/ipykernel_1062/3313651188.py:1: FutureWarning: The default of observed=False is deprecated and will be changed to True in a future version of pandas. Pass observed=False to retain current behavior or observed=True to adopt the future default and silence this warning.\n",
      "  measure[(measure['expected_len'].abs() >= 50)\n"
     ]
    },
    {
     "data": {
      "text/html": [
       "<div>\n",
       "<style scoped>\n",
       "    .dataframe tbody tr th:only-of-type {\n",
       "        vertical-align: middle;\n",
       "    }\n",
       "\n",
       "    .dataframe tbody tr th {\n",
       "        vertical-align: top;\n",
       "    }\n",
       "\n",
       "    .dataframe thead th {\n",
       "        text-align: right;\n",
       "    }\n",
       "</style>\n",
       "<table border=\"1\" class=\"dataframe\">\n",
       "  <thead>\n",
       "    <tr style=\"text-align: right;\">\n",
       "      <th>coverage_bin</th>\n",
       "      <th>&lt;50</th>\n",
       "      <th>[50,100)</th>\n",
       "      <th>≥100</th>\n",
       "    </tr>\n",
       "    <tr>\n",
       "      <th>vaf_bin</th>\n",
       "      <th></th>\n",
       "      <th></th>\n",
       "      <th></th>\n",
       "    </tr>\n",
       "  </thead>\n",
       "  <tbody>\n",
       "    <tr>\n",
       "      <th>Low</th>\n",
       "      <td>0.108</td>\n",
       "      <td>0.045</td>\n",
       "      <td>0.038</td>\n",
       "    </tr>\n",
       "    <tr>\n",
       "      <th>Medium</th>\n",
       "      <td>0.145</td>\n",
       "      <td>0.085</td>\n",
       "      <td>0.060</td>\n",
       "    </tr>\n",
       "    <tr>\n",
       "      <th>High</th>\n",
       "      <td>0.191</td>\n",
       "      <td>0.098</td>\n",
       "      <td>0.095</td>\n",
       "    </tr>\n",
       "  </tbody>\n",
       "</table>\n",
       "</div>"
      ],
      "text/plain": [
       "coverage_bin    <50  [50,100)   ≥100\n",
       "vaf_bin                             \n",
       "Low           0.108     0.045  0.038\n",
       "Medium        0.145     0.085  0.060\n",
       "High          0.191     0.098  0.095"
      ]
     },
     "execution_count": 74,
     "metadata": {},
     "output_type": "execute_result"
    }
   ],
   "source": [
    "measure[(measure['expected_len'].abs() >= 50) \n",
    "    & (measure['read_count'] != 0)].groupby(['vaf_bin', 'coverage_bin'])['VAF delta'].describe()['std'].unstack().round(3)"
   ]
  },
  {
   "cell_type": "code",
   "execution_count": 75,
   "id": "fa9d958c-a5bf-4f2c-83c0-e4bc369e376d",
   "metadata": {},
   "outputs": [
    {
     "name": "stderr",
     "output_type": "stream",
     "text": [
      "/var/folders/fy/lkd5_yz90zq3f67qys3tpztc0000gn/T/ipykernel_1062/1710790320.py:1: FutureWarning: The default of observed=False is deprecated and will be changed to True in a future version of pandas. Pass observed=False to retain current behavior or observed=True to adopt the future default and silence this warning.\n",
      "  measure[(measure['expected_len'].abs() >= 50)\n",
      "/var/folders/fy/lkd5_yz90zq3f67qys3tpztc0000gn/T/ipykernel_1062/1710790320.py:1: DeprecationWarning: DataFrameGroupBy.apply operated on the grouping columns. This behavior is deprecated, and in a future version of pandas the grouping columns will be excluded from the operation. Either pass `include_groups=False` to exclude the groupings or explicitly select the grouping columns after groupby to silence this warning.\n",
      "  measure[(measure['expected_len'].abs() >= 50)\n"
     ]
    },
    {
     "data": {
      "text/html": [
       "<div>\n",
       "<style scoped>\n",
       "    .dataframe tbody tr th:only-of-type {\n",
       "        vertical-align: middle;\n",
       "    }\n",
       "\n",
       "    .dataframe tbody tr th {\n",
       "        vertical-align: top;\n",
       "    }\n",
       "\n",
       "    .dataframe thead th {\n",
       "        text-align: right;\n",
       "    }\n",
       "</style>\n",
       "<table border=\"1\" class=\"dataframe\">\n",
       "  <thead>\n",
       "    <tr style=\"text-align: right;\">\n",
       "      <th>coverage_bin</th>\n",
       "      <th>&lt;50</th>\n",
       "      <th>[50,100)</th>\n",
       "      <th>≥100</th>\n",
       "    </tr>\n",
       "    <tr>\n",
       "      <th>vaf_bin</th>\n",
       "      <th></th>\n",
       "      <th></th>\n",
       "      <th></th>\n",
       "    </tr>\n",
       "  </thead>\n",
       "  <tbody>\n",
       "    <tr>\n",
       "      <th>Low</th>\n",
       "      <td>0.297</td>\n",
       "      <td>0.629</td>\n",
       "      <td>0.690</td>\n",
       "    </tr>\n",
       "    <tr>\n",
       "      <th>Medium</th>\n",
       "      <td>0.407</td>\n",
       "      <td>0.592</td>\n",
       "      <td>0.636</td>\n",
       "    </tr>\n",
       "    <tr>\n",
       "      <th>High</th>\n",
       "      <td>0.397</td>\n",
       "      <td>0.646</td>\n",
       "      <td>0.715</td>\n",
       "    </tr>\n",
       "  </tbody>\n",
       "</table>\n",
       "</div>"
      ],
      "text/plain": [
       "coverage_bin    <50  [50,100)   ≥100\n",
       "vaf_bin                             \n",
       "Low           0.297     0.629  0.690\n",
       "Medium        0.407     0.592  0.636\n",
       "High          0.397     0.646  0.715"
      ]
     },
     "execution_count": 75,
     "metadata": {},
     "output_type": "execute_result"
    }
   ],
   "source": [
    "measure[(measure['expected_len'].abs() >= 50) \n",
    "    & (measure['read_count'] != 0)].groupby(['vaf_bin', 'coverage_bin']).apply(pr).unstack().round(3)"
   ]
  },
  {
   "cell_type": "code",
   "execution_count": null,
   "id": "09e56e1a-f867-4c3c-8d6b-367aa9b9751d",
   "metadata": {},
   "outputs": [],
   "source": []
  }
 ],
 "metadata": {
  "kernelspec": {
   "display_name": "Python 3 (ipykernel)",
   "language": "python",
   "name": "python3"
  },
  "language_info": {
   "codemirror_mode": {
    "name": "ipython",
    "version": 3
   },
   "file_extension": ".py",
   "mimetype": "text/x-python",
   "name": "python",
   "nbconvert_exporter": "python",
   "pygments_lexer": "ipython3",
   "version": "3.9.6"
  }
 },
 "nbformat": 4,
 "nbformat_minor": 5
}
